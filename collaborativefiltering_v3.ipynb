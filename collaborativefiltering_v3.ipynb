{
  "nbformat": 4,
  "nbformat_minor": 0,
  "metadata": {
    "colab": {
      "name": "collaborativefiltering_v3.ipynb",
      "provenance": [],
      "collapsed_sections": [],
      "authorship_tag": "ABX9TyN6TSanXdjN495MgTBULlSK",
      "include_colab_link": true
    },
    "kernelspec": {
      "name": "python3",
      "display_name": "Python 3"
    },
    "language_info": {
      "name": "python"
    }
  },
  "cells": [
    {
      "cell_type": "markdown",
      "metadata": {
        "id": "view-in-github",
        "colab_type": "text"
      },
      "source": [
        "<a href=\"https://colab.research.google.com/github/mayapatward/-k-anonymized-ratings/blob/main/collaborativefiltering_v3.ipynb\" target=\"_parent\"><img src=\"https://colab.research.google.com/assets/colab-badge.svg\" alt=\"Open In Colab\"/></a>"
      ]
    },
    {
      "cell_type": "code",
      "metadata": {
        "id": "qYxRKswe2_DN"
      },
      "source": [
        "%%capture\n",
        "!pip install pyspark\n",
        "!pip install -U -q PyDrive\n",
        "!apt-get update\n",
        "# Download Java JDK Version 8\n",
        "!apt install openjdk-8-jdk-headless -qq\n",
        "!pip install scikit-surprise"
      ],
      "execution_count": null,
      "outputs": []
    },
    {
      "cell_type": "code",
      "metadata": {
        "id": "2RC43TtH3IiJ",
        "colab": {
          "base_uri": "https://localhost:8080/",
          "height": 368
        },
        "outputId": "564c1ac0-0aca-4314-bbf0-419dc9660ad3"
      },
      "source": [
        "%%capture\n",
        "import numpy as np\n",
        "import pandas as pd\n",
        "import os\n",
        "import time\n",
        "import matplotlib.pyplot as plt\n",
        "%matplotlib inline\n",
        "from surprise import Reader, Dataset, NMF, SVD, SVDpp\n",
        "from surprise.model_selection import cross_validate\n",
        "from ast import literal_eval\n",
        "from sklearn.model_selection import train_test_split"
      ],
      "execution_count": null,
      "outputs": [
        {
          "output_type": "error",
          "ename": "ModuleNotFoundError",
          "evalue": "ignored",
          "traceback": [
            "\u001b[0;31m---------------------------------------------------------------------------\u001b[0m",
            "\u001b[0;31mModuleNotFoundError\u001b[0m                       Traceback (most recent call last)",
            "\u001b[0;32m<ipython-input-1-50c14f8d0f24>\u001b[0m in \u001b[0;36m<module>\u001b[0;34m()\u001b[0m\n\u001b[1;32m      5\u001b[0m \u001b[0;32mimport\u001b[0m \u001b[0mmatplotlib\u001b[0m\u001b[0;34m.\u001b[0m\u001b[0mpyplot\u001b[0m \u001b[0;32mas\u001b[0m \u001b[0mplt\u001b[0m\u001b[0;34m\u001b[0m\u001b[0;34m\u001b[0m\u001b[0m\n\u001b[1;32m      6\u001b[0m \u001b[0mget_ipython\u001b[0m\u001b[0;34m(\u001b[0m\u001b[0;34m)\u001b[0m\u001b[0;34m.\u001b[0m\u001b[0mmagic\u001b[0m\u001b[0;34m(\u001b[0m\u001b[0;34m'matplotlib inline'\u001b[0m\u001b[0;34m)\u001b[0m\u001b[0;34m\u001b[0m\u001b[0;34m\u001b[0m\u001b[0m\n\u001b[0;32m----> 7\u001b[0;31m \u001b[0;32mfrom\u001b[0m \u001b[0msurprise\u001b[0m \u001b[0;32mimport\u001b[0m \u001b[0mReader\u001b[0m\u001b[0;34m,\u001b[0m \u001b[0mDataset\u001b[0m\u001b[0;34m,\u001b[0m \u001b[0mNMF\u001b[0m\u001b[0;34m,\u001b[0m \u001b[0mSVD\u001b[0m\u001b[0;34m,\u001b[0m \u001b[0mSVDpp\u001b[0m\u001b[0;34m\u001b[0m\u001b[0;34m\u001b[0m\u001b[0m\n\u001b[0m\u001b[1;32m      8\u001b[0m \u001b[0;32mfrom\u001b[0m \u001b[0msurprise\u001b[0m\u001b[0;34m.\u001b[0m\u001b[0mmodel_selection\u001b[0m \u001b[0;32mimport\u001b[0m \u001b[0mcross_validate\u001b[0m\u001b[0;34m\u001b[0m\u001b[0;34m\u001b[0m\u001b[0m\n\u001b[1;32m      9\u001b[0m \u001b[0;32mfrom\u001b[0m \u001b[0mast\u001b[0m \u001b[0;32mimport\u001b[0m \u001b[0mliteral_eval\u001b[0m\u001b[0;34m\u001b[0m\u001b[0;34m\u001b[0m\u001b[0m\n",
            "\u001b[0;31mModuleNotFoundError\u001b[0m: No module named 'surprise'",
            "",
            "\u001b[0;31m---------------------------------------------------------------------------\u001b[0;32m\nNOTE: If your import is failing due to a missing package, you can\nmanually install dependencies using either !pip or !apt.\n\nTo view examples of installing some common dependencies, click the\n\"Open Examples\" button below.\n\u001b[0;31m---------------------------------------------------------------------------\u001b[0m\n"
          ]
        }
      ]
    },
    {
      "cell_type": "code",
      "metadata": {
        "id": "K29aU_cS3LRe"
      },
      "source": [
        "import pyspark\n",
        "from pyspark.sql import *\n",
        "from pyspark.sql.types import *\n",
        "from pyspark.sql.functions import *\n",
        "from pyspark.mllib.recommendation import ALS, MatrixFactorizationModel, Rating\n",
        "from pyspark import SparkContext, SparkConf\n",
        "\n",
        "from pyspark.ml.evaluation import RegressionEvaluator\n",
        "from pyspark.ml.recommendation import ALS\n",
        "from pyspark.sql import Row\n",
        "\n",
        "import os\n",
        "os.environ[\"JAVA_HOME\"] = \"/usr/lib/jvm/java-8-openjdk-amd64\""
      ],
      "execution_count": null,
      "outputs": []
    },
    {
      "cell_type": "code",
      "metadata": {
        "id": "0syjc2653NJ9"
      },
      "source": [
        "# create the session\n",
        "conf = SparkConf().set(\"spark.ui.port\", \"4050\")\n",
        "\n",
        "# create the context\n",
        "sc = pyspark.SparkContext(conf=conf)\n",
        "spark = SparkSession.builder.getOrCreate()"
      ],
      "execution_count": null,
      "outputs": []
    },
    {
      "cell_type": "code",
      "metadata": {
        "colab": {
          "base_uri": "https://localhost:8080/"
        },
        "id": "YzXd0Dyj3vMp",
        "outputId": "1463b285-1162-4522-8927-585bf6164302"
      },
      "source": [
        "from google.colab import drive\n",
        "drive.mount(\"/content/drive\",force_remount=True)"
      ],
      "execution_count": null,
      "outputs": [
        {
          "output_type": "stream",
          "text": [
            "Mounted at /content/drive\n"
          ],
          "name": "stdout"
        }
      ]
    },
    {
      "cell_type": "code",
      "metadata": {
        "id": "w7tyIji93jvn"
      },
      "source": [
        "##Collect data\n",
        "READ_PATH = '/content/drive/MyDrive/CSE547_Final_Project/ml-100k/'\n",
        "training_raw = spark.read.text(READ_PATH + \"ratings_train.csv\").rdd\n",
        "validation_raw = spark.read.text(READ_PATH + \"ratings_validation.csv\").rdd\n",
        "test_raw = spark.read.text(READ_PATH + \"ratings_test.csv\").rdd"
      ],
      "execution_count": null,
      "outputs": []
    },
    {
      "cell_type": "code",
      "metadata": {
        "id": "gPA-f3k135q4"
      },
      "source": [
        "def process(raw_data):\n",
        "  parts = raw_data.map(lambda row: row.value.split(\",\"))\n",
        "  ratings_RDD_remove = parts.take(1)[0]\n",
        "  parts = parts.filter(lambda p: p !=ratings_RDD_remove)\n",
        "  ratingsRDD = parts.map(lambda p: Row(userId = int(p[0]), movieId = int(p[1]), rating = float(p[2])))\n",
        "  df = spark.createDataFrame(ratingsRDD)\n",
        "  return df"
      ],
      "execution_count": null,
      "outputs": []
    },
    {
      "cell_type": "code",
      "metadata": {
        "id": "zD4kymuo4DUZ"
      },
      "source": [
        "training_df = process(training_raw)\n",
        "validation_df = process(validation_raw)\n",
        "test_df = process(test_raw)"
      ],
      "execution_count": null,
      "outputs": []
    },
    {
      "cell_type": "code",
      "metadata": {
        "colab": {
          "base_uri": "https://localhost:8080/"
        },
        "id": "zASems5z4g06",
        "outputId": "62be2f9b-a6f9-4b49-d809-a33c116db382"
      },
      "source": [
        "training_df.take(5)"
      ],
      "execution_count": null,
      "outputs": [
        {
          "output_type": "execute_result",
          "data": {
            "text/plain": [
              "[Row(userId=187, movieId=47997, rating=0.5),\n",
              " Row(userId=19, movieId=2011, rating=2.0),\n",
              " Row(userId=463, movieId=8622, rating=3.5),\n",
              " Row(userId=274, movieId=4167, rating=3.5),\n",
              " Row(userId=590, movieId=858, rating=5.0)]"
            ]
          },
          "metadata": {
            "tags": []
          },
          "execution_count": 9
        }
      ]
    },
    {
      "cell_type": "code",
      "metadata": {
        "colab": {
          "base_uri": "https://localhost:8080/"
        },
        "id": "Om1VJJ8g5SaB",
        "outputId": "774e04df-0498-447a-824e-ce5610f7d89c"
      },
      "source": [
        "##Make sure test users are a subset of train users\n",
        "training_distinct_users = training_df.select(\"userId\").distinct()\n",
        "test_distinct_users = test_df.select(\"userId\").distinct()\n",
        "joined_users = training_distinct_users.join(test_distinct_users, on=\"userId\", how = \"inner\")\n",
        "print(joined_users.count())\n",
        "print(test_distinct_users.count())"
      ],
      "execution_count": null,
      "outputs": [
        {
          "output_type": "stream",
          "text": [
            "610\n",
            "610\n"
          ],
          "name": "stdout"
        }
      ]
    },
    {
      "cell_type": "code",
      "metadata": {
        "colab": {
          "base_uri": "https://localhost:8080/"
        },
        "id": "89qICUmL7PES",
        "outputId": "574ec851-8c37-4389-e7e4-69147b48f838"
      },
      "source": [
        "##Make sure test movies are a subset of train movies\n",
        "training_distinct_movies = training_df.select(\"movieId\").distinct()\n",
        "test_distinct_movies = test_df.select(\"movieId\").distinct()\n",
        "joined_movies = training_distinct_users.join(test_distinct_users, on=\"movieId\", how = \"inner\")\n",
        "print(joined_movies.count())\n",
        "print(test_distinct_movies.count())\n",
        "print(training_distinct_movies.count())"
      ],
      "execution_count": null,
      "outputs": [
        {
          "output_type": "stream",
          "text": [
            "3926\n",
            "5113\n",
            "6892\n"
          ],
          "name": "stdout"
        }
      ]
    },
    {
      "cell_type": "markdown",
      "metadata": {
        "id": "RXkJzq-bBxQL"
      },
      "source": [
        "First we want to compare the Standard ALS with NMF "
      ]
    },
    {
      "cell_type": "code",
      "metadata": {
        "colab": {
          "base_uri": "https://localhost:8080/"
        },
        "id": "BaR49c6g3f43",
        "outputId": "7261fa9d-310d-4077-fb46-a04db2dc0ead"
      },
      "source": [
        "start = time.time()\n",
        "\n",
        "#fit training\n",
        "als = ALS(maxIter=5, regParam=0.1, userCol=\"userId\", itemCol=\"movieId\", ratingCol=\"rating\", coldStartStrategy=\"drop\")\n",
        "model = als.fit(training_df)\n",
        "\n",
        "#test validation\n",
        "predictions = model.transform(validation_df)\n",
        "evaluator = RegressionEvaluator(metricName=\"rmse\", labelCol=\"rating\",\n",
        "                                predictionCol=\"prediction\")\n",
        "rmse = evaluator.evaluate(predictions)\n",
        "end = time.time()\n",
        "print(\"Test: explicit preferences, no nonnegative constraint:\")\n",
        "print(\"Root-mean-square error =\"  + str(rmse))\n",
        "print(\"Time run:\" + str(end-start))"
      ],
      "execution_count": null,
      "outputs": [
        {
          "output_type": "stream",
          "text": [
            "Test: explicit preferences, no nonnegative constraint:\n",
            "Root-mean-square error =0.9840421193316466\n",
            "Time run:25.905667066574097\n"
          ],
          "name": "stdout"
        }
      ]
    },
    {
      "cell_type": "code",
      "metadata": {
        "colab": {
          "base_uri": "https://localhost:8080/"
        },
        "id": "xNjHWtop8fP7",
        "outputId": "88c1672f-a3de-45d7-fedf-c03ab838231c"
      },
      "source": [
        "start = time.time()\n",
        "\n",
        "#fit training\n",
        "als = ALS(maxIter=5, regParam=0.1, userCol=\"userId\", itemCol=\"movieId\", ratingCol=\"rating\", coldStartStrategy=\"drop\", implicitPrefs = False, nonnegative = True)\n",
        "model = als.fit(training_df)\n",
        "\n",
        "#test validation\n",
        "predictions = model.transform(validation_df)\n",
        "evaluator = RegressionEvaluator(metricName=\"rmse\", labelCol=\"rating\",\n",
        "                                predictionCol=\"prediction\")\n",
        "rmse = evaluator.evaluate(predictions)\n",
        "end = time.time()\n",
        "print(\"Test: explicit preferences, no nonnegative constraint:\")\n",
        "print(\"Root-mean-square error =\"  + str(rmse))\n",
        "print(\"Time run:\" + str(end-start))"
      ],
      "execution_count": null,
      "outputs": [
        {
          "output_type": "stream",
          "text": [
            "Test: explicit preferences, no nonnegative constraint:\n",
            "Root-mean-square error =0.9578090736145548\n",
            "Time run:13.392131090164185\n"
          ],
          "name": "stdout"
        }
      ]
    },
    {
      "cell_type": "markdown",
      "metadata": {
        "id": "FGwuSWvn85UB"
      },
      "source": [
        "We found that the nonnegative constraint improved the Root-mean-square error by around 0.015. Thus we will use the NMF ALS algorithm moving forward. Next We will find tune the hyperparameters for rank and for regularization"
      ]
    },
    {
      "cell_type": "code",
      "metadata": {
        "colab": {
          "base_uri": "https://localhost:8080/"
        },
        "id": "yZMGc74c8_92",
        "outputId": "9ca4b06c-c0d5-41f3-8754-5cd72ca29be6"
      },
      "source": [
        "from pyspark.ml.tuning import CrossValidator, ParamGridBuilder\n",
        "start = time.time()\n",
        "als = ALS(maxIter=5, regParam=0.1, userCol=\"userId\", itemCol=\"movieId\", ratingCol=\"rating\", coldStartStrategy=\"drop\",nonnegative = True)\n",
        "\n",
        "paramGrid = ParamGridBuilder() \\\n",
        "    .addGrid(als.rank, [10, 20, 40]) \\\n",
        "    .addGrid(als.regParam, [.1, .15, .2]) \\\n",
        "    .build()\n",
        "evaluator_ = RegressionEvaluator(metricName=\"rmse\", labelCol=\"rating\",\n",
        "                                predictionCol=\"prediction\")\n",
        "crossval = CrossValidator(estimator=als,\n",
        "                          estimatorParamMaps=paramGrid,\n",
        "                          evaluator=evaluator_,\n",
        "                          numFolds=5) \n",
        "cvModel = crossval.fit(training_df)\n",
        "\n",
        "print(\"Time run:\" + str(end-start))"
      ],
      "execution_count": null,
      "outputs": [
        {
          "output_type": "stream",
          "text": [
            "Time run:-197.36660385131836\n"
          ],
          "name": "stdout"
        }
      ]
    },
    {
      "cell_type": "code",
      "metadata": {
        "colab": {
          "base_uri": "https://localhost:8080/"
        },
        "id": "FspRhCC99iJ5",
        "outputId": "16a16a61-763a-4480-de30-347d4fe980fe"
      },
      "source": [
        "params = [{p.name: v for p, v in m.items()} for m in cvModel.getEstimatorParamMaps()]\n",
        "print(\"Results:\")\n",
        "[print(x) for x in zip(params, cvModel.avgMetrics)]\n",
        "print(\"The best rank param is:\")\n",
        "print(cvModel.bestModel._java_obj.parent().getRank())\n",
        "print(\"The best reg param is:\")\n",
        "print(cvModel.bestModel._java_obj.parent().getRegParam())"
      ],
      "execution_count": null,
      "outputs": [
        {
          "output_type": "stream",
          "text": [
            "Results:\n",
            "({'rank': 10, 'regParam': 0.1}, 0.9788543354472139)\n",
            "({'rank': 10, 'regParam': 0.15}, 0.9525797939930682)\n",
            "({'rank': 10, 'regParam': 0.2}, 0.9470288123627228)\n",
            "({'rank': 20, 'regParam': 0.1}, 0.978994369380515)\n",
            "({'rank': 20, 'regParam': 0.15}, 0.9497018933418631)\n",
            "({'rank': 20, 'regParam': 0.2}, 0.9461476775579445)\n",
            "({'rank': 40, 'regParam': 0.1}, 0.9796769944076669)\n",
            "({'rank': 40, 'regParam': 0.15}, 0.9497876847924209)\n",
            "({'rank': 40, 'regParam': 0.2}, 0.9463458981020896)\n",
            "The best rang param is:\n",
            "20\n",
            "The best reg param is:\n",
            "0.2\n"
          ],
          "name": "stdout"
        }
      ]
    },
    {
      "cell_type": "code",
      "metadata": {
        "id": "wDHmsuXS-xZL"
      },
      "source": [
        "import pandas as pd\n",
        "COL_NAME_USER_ID = \"user_id\"\n",
        "COL_NAME_MOVIE_ID = \"movie_id\"\n",
        "COL_NAME_RATING = \"rating\"\n",
        "PROCESSED_SAVE_PATH = '/content/drive/MyDrive/CSE547_Final_Project/ml-100k/postprocessed_anonymized/'\n",
        "MOVIE_TO_IDX_PATH = '/content/drive/MyDrive/CSE547_Final_Project/ml-100k/movie_to_idx.json'\n",
        "klist = [2, 3, 5, 8, 12, 15, 20, 25, 30]\n",
        "\n",
        "\n",
        "# mapping ids to movies\n",
        "with open(MOVIE_TO_IDX_PATH, 'r') as f:\n",
        "    movie_to_idx = literal_eval(f.read())\n",
        "idx_to_movie = {v: int(k) for k, v in movie_to_idx.items()}\n",
        "\n",
        "\n",
        "def flatten_matrix_into_dataframe(matrix):\n",
        "  value_vars = [v for v in matrix.columns.values if v != COL_NAME_USER_ID]\n",
        "  DEFAULT_VARIABLE_NAME_IN_MELT=\"variable\"\n",
        "  DEFAULT_VALUE_NAME_IN_MELT=\"value\"\n",
        "  return matrix \\\n",
        "    .melt(id_vars=[COL_NAME_USER_ID], value_vars=value_vars) \\\n",
        "    .rename(columns={DEFAULT_VARIABLE_NAME_IN_MELT: COL_NAME_MOVIE_ID, DEFAULT_VALUE_NAME_IN_MELT: COL_NAME_RATING}) \\\n",
        "    .apply(pd.to_numeric)\n",
        "\n",
        "def save_k_anonymized(path, k):\n",
        "  filename = \"https://raw.githubusercontent.com/mayapatward/-k-anonymized-ratings/main/ml-100k/anonymized/\"+str(k)+\"_anonymized.csv\"\n",
        "  mldf = pd.read_csv(filename, header=None, delimiter=\",\")\n",
        "  mldf = mldf.reset_index().rename(columns={'index': COL_NAME_USER_ID})\n",
        "  mldf = flatten_matrix_into_dataframe(mldf)\n",
        "  mldf['movie_id'] = mldf['movie_id'].map(idx_to_movie)\n",
        "  mldf.to_csv(path + str(k)+\"_anonymized_processed.csv\", index = False)\n",
        "\n",
        "for k in klist:\n",
        "  save_k_anonymized(PROCESSED_SAVE_PATH, k)\n"
      ],
      "execution_count": null,
      "outputs": []
    },
    {
      "cell_type": "code",
      "metadata": {
        "id": "T5gfO4kyb5a6"
      },
      "source": [
        "def crossjoin_to_dot(user_id, item_id, user_features, item_features):\n",
        "  item_features = np.array(item_features)\n",
        "  user_features = np.array(user_features)\n",
        "  return Row(userId = int(user_id), movieId = int(item_id), rating = float(np.dot(item_features,user_features)))\n",
        "\n"
      ],
      "execution_count": null,
      "outputs": []
    },
    {
      "cell_type": "code",
      "metadata": {
        "id": "tmzKCAZm-7ts"
      },
      "source": [
        "from operator import add\n",
        "\n",
        "RANK_ = 10\n",
        "REG_PARAM_ = 0.15\n",
        "NONNEG_ = True\n",
        "READ_PATH = '/content/drive/MyDrive/CSE547_Final_Project/ml-100k/'\n",
        "klist = [2, 3, 5, 8, 12, 15, 20, 25, 30]\n",
        "\n",
        "##need to see if there is a faster way to convert from pandas -> spark rdd\n",
        "def train(training_df, test_df, rank_):\n",
        "  start = time.time()\n",
        "  #Fit Model\n",
        "  als = ALS(maxIter=5, regParam=0.15, rank=rank_, userCol=\"userId\", itemCol=\"movieId\", ratingCol=\"rating\", coldStartStrategy=\"drop\", implicitPrefs = False, nonnegative = True)\n",
        "  model = als.fit(training_df)\n",
        "\n",
        "  df_itemfactors = model.itemFactors.toDF(\"item_id\", \"item_features\")\n",
        "  df_userfactors = model.userFactors.toDF(\"user_id\", \"user_features\")\n",
        "\n",
        "  df_crossjoin = df_itemfactors.crossJoin(df_userfactors)\n",
        "  df_dot = df_crossjoin.rdd.map(lambda p: crossjoin_to_dot(p[\"user_id\"], p[\"item_id\"], p[\"user_features\"], p[\"item_features\"]))\n",
        "  res = spark.createDataFrame(df_dot)\n",
        "  print(\"Done\")\n",
        "\n",
        "  \n",
        "  return res\n"
      ],
      "execution_count": null,
      "outputs": []
    },
    {
      "cell_type": "code",
      "metadata": {
        "colab": {
          "base_uri": "https://localhost:8080/",
          "height": 341
        },
        "id": "xSRckMws4_Gu",
        "outputId": "0bf2c891-df71-42c2-a279-406fddcbec78"
      },
      "source": [
        "unanon_mf = train(training_df, test_df, 15)\n"
      ],
      "execution_count": null,
      "outputs": [
        {
          "output_type": "stream",
          "text": [
            "Done\n"
          ],
          "name": "stdout"
        },
        {
          "output_type": "error",
          "ename": "KeyboardInterrupt",
          "evalue": "ignored",
          "traceback": [
            "\u001b[0;31m---------------------------------------------------------------------------\u001b[0m",
            "\u001b[0;31mKeyboardInterrupt\u001b[0m                         Traceback (most recent call last)",
            "\u001b[0;32m<ipython-input-56-208b4803bdd3>\u001b[0m in \u001b[0;36m<module>\u001b[0;34m()\u001b[0m\n\u001b[1;32m      1\u001b[0m \u001b[0munanon_mf\u001b[0m \u001b[0;34m=\u001b[0m \u001b[0mtrain\u001b[0m\u001b[0;34m(\u001b[0m\u001b[0mtraining_df\u001b[0m\u001b[0;34m,\u001b[0m \u001b[0mtest_df\u001b[0m\u001b[0;34m,\u001b[0m \u001b[0;36m15\u001b[0m\u001b[0;34m)\u001b[0m\u001b[0;34m\u001b[0m\u001b[0;34m\u001b[0m\u001b[0m\n\u001b[0;32m----> 2\u001b[0;31m \u001b[0munanon_mf\u001b[0m\u001b[0;34m.\u001b[0m\u001b[0mwrite\u001b[0m\u001b[0;34m.\u001b[0m\u001b[0mcsv\u001b[0m\u001b[0;34m(\u001b[0m\u001b[0;34m'collaborativefiltering_unanonymized_res.csv'\u001b[0m\u001b[0;34m)\u001b[0m\u001b[0;34m\u001b[0m\u001b[0;34m\u001b[0m\u001b[0m\n\u001b[0m",
            "\u001b[0;32m/usr/local/lib/python3.7/dist-packages/pyspark/sql/readwriter.py\u001b[0m in \u001b[0;36mcsv\u001b[0;34m(self, path, mode, compression, sep, quote, escape, header, nullValue, escapeQuotes, quoteAll, dateFormat, timestampFormat, ignoreLeadingWhiteSpace, ignoreTrailingWhiteSpace, charToEscapeQuoteEscaping, encoding, emptyValue, lineSep)\u001b[0m\n\u001b[1;32m   1370\u001b[0m                        \u001b[0mcharToEscapeQuoteEscaping\u001b[0m\u001b[0;34m=\u001b[0m\u001b[0mcharToEscapeQuoteEscaping\u001b[0m\u001b[0;34m,\u001b[0m\u001b[0;34m\u001b[0m\u001b[0;34m\u001b[0m\u001b[0m\n\u001b[1;32m   1371\u001b[0m                        encoding=encoding, emptyValue=emptyValue, lineSep=lineSep)\n\u001b[0;32m-> 1372\u001b[0;31m         \u001b[0mself\u001b[0m\u001b[0;34m.\u001b[0m\u001b[0m_jwrite\u001b[0m\u001b[0;34m.\u001b[0m\u001b[0mcsv\u001b[0m\u001b[0;34m(\u001b[0m\u001b[0mpath\u001b[0m\u001b[0;34m)\u001b[0m\u001b[0;34m\u001b[0m\u001b[0;34m\u001b[0m\u001b[0m\n\u001b[0m\u001b[1;32m   1373\u001b[0m \u001b[0;34m\u001b[0m\u001b[0m\n\u001b[1;32m   1374\u001b[0m     \u001b[0;32mdef\u001b[0m \u001b[0morc\u001b[0m\u001b[0;34m(\u001b[0m\u001b[0mself\u001b[0m\u001b[0;34m,\u001b[0m \u001b[0mpath\u001b[0m\u001b[0;34m,\u001b[0m \u001b[0mmode\u001b[0m\u001b[0;34m=\u001b[0m\u001b[0;32mNone\u001b[0m\u001b[0;34m,\u001b[0m \u001b[0mpartitionBy\u001b[0m\u001b[0;34m=\u001b[0m\u001b[0;32mNone\u001b[0m\u001b[0;34m,\u001b[0m \u001b[0mcompression\u001b[0m\u001b[0;34m=\u001b[0m\u001b[0;32mNone\u001b[0m\u001b[0;34m)\u001b[0m\u001b[0;34m:\u001b[0m\u001b[0;34m\u001b[0m\u001b[0;34m\u001b[0m\u001b[0m\n",
            "\u001b[0;32m/usr/local/lib/python3.7/dist-packages/py4j/java_gateway.py\u001b[0m in \u001b[0;36m__call__\u001b[0;34m(self, *args)\u001b[0m\n\u001b[1;32m   1301\u001b[0m             \u001b[0mproto\u001b[0m\u001b[0;34m.\u001b[0m\u001b[0mEND_COMMAND_PART\u001b[0m\u001b[0;34m\u001b[0m\u001b[0;34m\u001b[0m\u001b[0m\n\u001b[1;32m   1302\u001b[0m \u001b[0;34m\u001b[0m\u001b[0m\n\u001b[0;32m-> 1303\u001b[0;31m         \u001b[0manswer\u001b[0m \u001b[0;34m=\u001b[0m \u001b[0mself\u001b[0m\u001b[0;34m.\u001b[0m\u001b[0mgateway_client\u001b[0m\u001b[0;34m.\u001b[0m\u001b[0msend_command\u001b[0m\u001b[0;34m(\u001b[0m\u001b[0mcommand\u001b[0m\u001b[0;34m)\u001b[0m\u001b[0;34m\u001b[0m\u001b[0;34m\u001b[0m\u001b[0m\n\u001b[0m\u001b[1;32m   1304\u001b[0m         return_value = get_return_value(\n\u001b[1;32m   1305\u001b[0m             answer, self.gateway_client, self.target_id, self.name)\n",
            "\u001b[0;32m/usr/local/lib/python3.7/dist-packages/py4j/java_gateway.py\u001b[0m in \u001b[0;36msend_command\u001b[0;34m(self, command, retry, binary)\u001b[0m\n\u001b[1;32m   1031\u001b[0m         \u001b[0mconnection\u001b[0m \u001b[0;34m=\u001b[0m \u001b[0mself\u001b[0m\u001b[0;34m.\u001b[0m\u001b[0m_get_connection\u001b[0m\u001b[0;34m(\u001b[0m\u001b[0;34m)\u001b[0m\u001b[0;34m\u001b[0m\u001b[0;34m\u001b[0m\u001b[0m\n\u001b[1;32m   1032\u001b[0m         \u001b[0;32mtry\u001b[0m\u001b[0;34m:\u001b[0m\u001b[0;34m\u001b[0m\u001b[0;34m\u001b[0m\u001b[0m\n\u001b[0;32m-> 1033\u001b[0;31m             \u001b[0mresponse\u001b[0m \u001b[0;34m=\u001b[0m \u001b[0mconnection\u001b[0m\u001b[0;34m.\u001b[0m\u001b[0msend_command\u001b[0m\u001b[0;34m(\u001b[0m\u001b[0mcommand\u001b[0m\u001b[0;34m)\u001b[0m\u001b[0;34m\u001b[0m\u001b[0;34m\u001b[0m\u001b[0m\n\u001b[0m\u001b[1;32m   1034\u001b[0m             \u001b[0;32mif\u001b[0m \u001b[0mbinary\u001b[0m\u001b[0;34m:\u001b[0m\u001b[0;34m\u001b[0m\u001b[0;34m\u001b[0m\u001b[0m\n\u001b[1;32m   1035\u001b[0m                 \u001b[0;32mreturn\u001b[0m \u001b[0mresponse\u001b[0m\u001b[0;34m,\u001b[0m \u001b[0mself\u001b[0m\u001b[0;34m.\u001b[0m\u001b[0m_create_connection_guard\u001b[0m\u001b[0;34m(\u001b[0m\u001b[0mconnection\u001b[0m\u001b[0;34m)\u001b[0m\u001b[0;34m\u001b[0m\u001b[0;34m\u001b[0m\u001b[0m\n",
            "\u001b[0;32m/usr/local/lib/python3.7/dist-packages/py4j/java_gateway.py\u001b[0m in \u001b[0;36msend_command\u001b[0;34m(self, command)\u001b[0m\n\u001b[1;32m   1198\u001b[0m \u001b[0;34m\u001b[0m\u001b[0m\n\u001b[1;32m   1199\u001b[0m         \u001b[0;32mtry\u001b[0m\u001b[0;34m:\u001b[0m\u001b[0;34m\u001b[0m\u001b[0;34m\u001b[0m\u001b[0m\n\u001b[0;32m-> 1200\u001b[0;31m             \u001b[0manswer\u001b[0m \u001b[0;34m=\u001b[0m \u001b[0msmart_decode\u001b[0m\u001b[0;34m(\u001b[0m\u001b[0mself\u001b[0m\u001b[0;34m.\u001b[0m\u001b[0mstream\u001b[0m\u001b[0;34m.\u001b[0m\u001b[0mreadline\u001b[0m\u001b[0;34m(\u001b[0m\u001b[0;34m)\u001b[0m\u001b[0;34m[\u001b[0m\u001b[0;34m:\u001b[0m\u001b[0;34m-\u001b[0m\u001b[0;36m1\u001b[0m\u001b[0;34m]\u001b[0m\u001b[0;34m)\u001b[0m\u001b[0;34m\u001b[0m\u001b[0;34m\u001b[0m\u001b[0m\n\u001b[0m\u001b[1;32m   1201\u001b[0m             \u001b[0mlogger\u001b[0m\u001b[0;34m.\u001b[0m\u001b[0mdebug\u001b[0m\u001b[0;34m(\u001b[0m\u001b[0;34m\"Answer received: {0}\"\u001b[0m\u001b[0;34m.\u001b[0m\u001b[0mformat\u001b[0m\u001b[0;34m(\u001b[0m\u001b[0manswer\u001b[0m\u001b[0;34m)\u001b[0m\u001b[0;34m)\u001b[0m\u001b[0;34m\u001b[0m\u001b[0;34m\u001b[0m\u001b[0m\n\u001b[1;32m   1202\u001b[0m             \u001b[0;32mif\u001b[0m \u001b[0manswer\u001b[0m\u001b[0;34m.\u001b[0m\u001b[0mstartswith\u001b[0m\u001b[0;34m(\u001b[0m\u001b[0mproto\u001b[0m\u001b[0;34m.\u001b[0m\u001b[0mRETURN_MESSAGE\u001b[0m\u001b[0;34m)\u001b[0m\u001b[0;34m:\u001b[0m\u001b[0;34m\u001b[0m\u001b[0;34m\u001b[0m\u001b[0m\n",
            "\u001b[0;32m/usr/lib/python3.7/socket.py\u001b[0m in \u001b[0;36mreadinto\u001b[0;34m(self, b)\u001b[0m\n\u001b[1;32m    587\u001b[0m         \u001b[0;32mwhile\u001b[0m \u001b[0;32mTrue\u001b[0m\u001b[0;34m:\u001b[0m\u001b[0;34m\u001b[0m\u001b[0;34m\u001b[0m\u001b[0m\n\u001b[1;32m    588\u001b[0m             \u001b[0;32mtry\u001b[0m\u001b[0;34m:\u001b[0m\u001b[0;34m\u001b[0m\u001b[0;34m\u001b[0m\u001b[0m\n\u001b[0;32m--> 589\u001b[0;31m                 \u001b[0;32mreturn\u001b[0m \u001b[0mself\u001b[0m\u001b[0;34m.\u001b[0m\u001b[0m_sock\u001b[0m\u001b[0;34m.\u001b[0m\u001b[0mrecv_into\u001b[0m\u001b[0;34m(\u001b[0m\u001b[0mb\u001b[0m\u001b[0;34m)\u001b[0m\u001b[0;34m\u001b[0m\u001b[0;34m\u001b[0m\u001b[0m\n\u001b[0m\u001b[1;32m    590\u001b[0m             \u001b[0;32mexcept\u001b[0m \u001b[0mtimeout\u001b[0m\u001b[0;34m:\u001b[0m\u001b[0;34m\u001b[0m\u001b[0;34m\u001b[0m\u001b[0m\n\u001b[1;32m    591\u001b[0m                 \u001b[0mself\u001b[0m\u001b[0;34m.\u001b[0m\u001b[0m_timeout_occurred\u001b[0m \u001b[0;34m=\u001b[0m \u001b[0;32mTrue\u001b[0m\u001b[0;34m\u001b[0m\u001b[0;34m\u001b[0m\u001b[0m\n",
            "\u001b[0;31mKeyboardInterrupt\u001b[0m: "
          ]
        }
      ]
    },
    {
      "cell_type": "code",
      "metadata": {
        "colab": {
          "base_uri": "https://localhost:8080/"
        },
        "id": "HXYYOTODAQiA",
        "outputId": "013ddacc-4bc5-499f-e3e5-1aff9897c737"
      },
      "source": [
        "klist = [2, 3, 5, 8, 12, 15, 20, 25, 30]\n",
        "rmselist = []\n",
        "READ_PATH = '/content/drive/MyDrive/CSE547_Final_Project/ml-100k/'\n",
        "for k in klist:\n",
        "  print(\"Running k =\", k)\n",
        "  trainpath = READ_PATH+\"/postprocessed_anonymized/\"+ str(k)+\"_anonymized_processed.csv\"\n",
        "  testpath =  READ_PATH + \"ratings_test.csv\"\n",
        "  ktrain_rdd = spark.read.text(trainpath).rdd\n",
        "  ktrain_matrix = train(ktrain_rdd, test_rdd, rank_ = 15)"
      ],
      "execution_count": null,
      "outputs": [
        {
          "output_type": "stream",
          "text": [
            "Running k = 2\n",
            "Done\n",
            "Running k = 3\n",
            "Done\n",
            "Running k = 5\n",
            "Done\n",
            "Running k = 8\n",
            "Done\n",
            "Running k = 12\n",
            "Done\n",
            "Running k = 15\n",
            "Done\n",
            "Running k = 20\n",
            "Done\n",
            "Running k = 25\n",
            "Done\n",
            "Running k = 30\n",
            "Done\n"
          ],
          "name": "stdout"
        }
      ]
    }
  ]
}