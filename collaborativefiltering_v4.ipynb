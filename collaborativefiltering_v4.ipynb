{
  "nbformat": 4,
  "nbformat_minor": 0,
  "metadata": {
    "colab": {
      "name": "collaborativefiltering_v4.ipynb",
      "provenance": [],
      "authorship_tag": "ABX9TyNtHvLq5Jyhxoh5Ns099qOt",
      "include_colab_link": true
    },
    "kernelspec": {
      "name": "python3",
      "display_name": "Python 3"
    },
    "language_info": {
      "name": "python"
    }
  },
  "cells": [
    {
      "cell_type": "markdown",
      "metadata": {
        "id": "view-in-github",
        "colab_type": "text"
      },
      "source": [
        "<a href=\"https://colab.research.google.com/github/mayapatward/-k-anonymized-ratings/blob/main/collaborativefiltering_v4.ipynb\" target=\"_parent\"><img src=\"https://colab.research.google.com/assets/colab-badge.svg\" alt=\"Open In Colab\"/></a>"
      ]
    },
    {
      "cell_type": "code",
      "metadata": {
        "id": "EH0r-caRb8El"
      },
      "source": [
        "%%capture\n",
        "!pip install pyspark\n",
        "!pip install -U -q PyDrive\n",
        "!apt-get update\n",
        "# Download Java JDK Version 8\n",
        "!apt install openjdk-8-jdk-headless -qq\n",
        "!pip install scikit-surprise"
      ],
      "execution_count": 122,
      "outputs": []
    },
    {
      "cell_type": "code",
      "metadata": {
        "id": "S0mojpLdb_t0"
      },
      "source": [
        "%%capture\n",
        "import numpy as np\n",
        "import pandas as pd\n",
        "import os\n",
        "import time\n",
        "import math\n",
        "import matplotlib.pyplot as plt\n",
        "%matplotlib inline\n",
        "from surprise import Reader, Dataset, NMF, SVD, SVDpp\n",
        "from surprise.model_selection import cross_validate\n",
        "from ast import literal_eval\n",
        "from sklearn.model_selection import train_test_split\n"
      ],
      "execution_count": 123,
      "outputs": []
    },
    {
      "cell_type": "code",
      "metadata": {
        "id": "Pq8WiCoqcBSc"
      },
      "source": [
        "import pyspark\n",
        "from pyspark.sql import *\n",
        "from pyspark.sql.types import *\n",
        "from pyspark.sql.functions import *\n",
        "from pyspark.mllib.recommendation import ALS, MatrixFactorizationModel, Rating\n",
        "from pyspark.mllib.evaluation import RegressionMetrics\n",
        "from pyspark import SparkContext, SparkConf\n",
        "from pyspark.mllib.evaluation import RegressionMetrics, RankingMetrics\n",
        "\n",
        "from pyspark.ml.evaluation import RegressionEvaluator\n",
        "from pyspark.sql import Row\n",
        "\n",
        "import os\n",
        "os.environ[\"JAVA_HOME\"] = \"/usr/lib/jvm/java-8-openjdk-amd64\""
      ],
      "execution_count": 124,
      "outputs": []
    },
    {
      "cell_type": "code",
      "metadata": {
        "colab": {
          "base_uri": "https://localhost:8080/",
          "height": 241
        },
        "id": "viv7fDv1cETr",
        "outputId": "3dfc08a3-4f61-477c-bbab-86719ac38476"
      },
      "source": [
        "# create the session\n",
        "conf = SparkConf().set(\"spark.ui.port\", \"4050\")\n",
        "\n",
        "# create the context\n",
        "sc = pyspark.SparkContext(conf=conf)\n",
        "spark = SparkSession.builder.getOrCreate()"
      ],
      "execution_count": 125,
      "outputs": [
        {
          "output_type": "error",
          "ename": "ValueError",
          "evalue": "ignored",
          "traceback": [
            "\u001b[0;31m---------------------------------------------------------------------------\u001b[0m",
            "\u001b[0;31mValueError\u001b[0m                                Traceback (most recent call last)",
            "\u001b[0;32m<ipython-input-125-03ad07eeace4>\u001b[0m in \u001b[0;36m<module>\u001b[0;34m()\u001b[0m\n\u001b[1;32m      3\u001b[0m \u001b[0;34m\u001b[0m\u001b[0m\n\u001b[1;32m      4\u001b[0m \u001b[0;31m# create the context\u001b[0m\u001b[0;34m\u001b[0m\u001b[0;34m\u001b[0m\u001b[0;34m\u001b[0m\u001b[0m\n\u001b[0;32m----> 5\u001b[0;31m \u001b[0msc\u001b[0m \u001b[0;34m=\u001b[0m \u001b[0mpyspark\u001b[0m\u001b[0;34m.\u001b[0m\u001b[0mSparkContext\u001b[0m\u001b[0;34m(\u001b[0m\u001b[0mconf\u001b[0m\u001b[0;34m=\u001b[0m\u001b[0mconf\u001b[0m\u001b[0;34m)\u001b[0m\u001b[0;34m\u001b[0m\u001b[0;34m\u001b[0m\u001b[0m\n\u001b[0m\u001b[1;32m      6\u001b[0m \u001b[0mspark\u001b[0m \u001b[0;34m=\u001b[0m \u001b[0mSparkSession\u001b[0m\u001b[0;34m.\u001b[0m\u001b[0mbuilder\u001b[0m\u001b[0;34m.\u001b[0m\u001b[0mgetOrCreate\u001b[0m\u001b[0;34m(\u001b[0m\u001b[0;34m)\u001b[0m\u001b[0;34m\u001b[0m\u001b[0;34m\u001b[0m\u001b[0m\n",
            "\u001b[0;32m/usr/local/lib/python3.7/dist-packages/pyspark/context.py\u001b[0m in \u001b[0;36m__init__\u001b[0;34m(self, master, appName, sparkHome, pyFiles, environment, batchSize, serializer, conf, gateway, jsc, profiler_cls)\u001b[0m\n\u001b[1;32m    142\u001b[0m                 \" is not allowed as it is a security risk.\")\n\u001b[1;32m    143\u001b[0m \u001b[0;34m\u001b[0m\u001b[0m\n\u001b[0;32m--> 144\u001b[0;31m         \u001b[0mSparkContext\u001b[0m\u001b[0;34m.\u001b[0m\u001b[0m_ensure_initialized\u001b[0m\u001b[0;34m(\u001b[0m\u001b[0mself\u001b[0m\u001b[0;34m,\u001b[0m \u001b[0mgateway\u001b[0m\u001b[0;34m=\u001b[0m\u001b[0mgateway\u001b[0m\u001b[0;34m,\u001b[0m \u001b[0mconf\u001b[0m\u001b[0;34m=\u001b[0m\u001b[0mconf\u001b[0m\u001b[0;34m)\u001b[0m\u001b[0;34m\u001b[0m\u001b[0;34m\u001b[0m\u001b[0m\n\u001b[0m\u001b[1;32m    145\u001b[0m         \u001b[0;32mtry\u001b[0m\u001b[0;34m:\u001b[0m\u001b[0;34m\u001b[0m\u001b[0;34m\u001b[0m\u001b[0m\n\u001b[1;32m    146\u001b[0m             self._do_init(master, appName, sparkHome, pyFiles, environment, batchSize, serializer,\n",
            "\u001b[0;32m/usr/local/lib/python3.7/dist-packages/pyspark/context.py\u001b[0m in \u001b[0;36m_ensure_initialized\u001b[0;34m(cls, instance, gateway, conf)\u001b[0m\n\u001b[1;32m    345\u001b[0m                         \u001b[0;34m\" created by %s at %s:%s \"\u001b[0m\u001b[0;34m\u001b[0m\u001b[0;34m\u001b[0m\u001b[0m\n\u001b[1;32m    346\u001b[0m                         % (currentAppName, currentMaster,\n\u001b[0;32m--> 347\u001b[0;31m                             callsite.function, callsite.file, callsite.linenum))\n\u001b[0m\u001b[1;32m    348\u001b[0m                 \u001b[0;32melse\u001b[0m\u001b[0;34m:\u001b[0m\u001b[0;34m\u001b[0m\u001b[0;34m\u001b[0m\u001b[0m\n\u001b[1;32m    349\u001b[0m                     \u001b[0mSparkContext\u001b[0m\u001b[0;34m.\u001b[0m\u001b[0m_active_spark_context\u001b[0m \u001b[0;34m=\u001b[0m \u001b[0minstance\u001b[0m\u001b[0;34m\u001b[0m\u001b[0;34m\u001b[0m\u001b[0m\n",
            "\u001b[0;31mValueError\u001b[0m: Cannot run multiple SparkContexts at once; existing SparkContext(app=pyspark-shell, master=local[*]) created by __init__ at <ipython-input-4-03ad07eeace4>:5 "
          ]
        }
      ]
    },
    {
      "cell_type": "code",
      "metadata": {
        "colab": {
          "base_uri": "https://localhost:8080/"
        },
        "id": "scrv9U-bcGVg",
        "outputId": "67203d2d-31d2-4ce6-9e88-b897b9121259"
      },
      "source": [
        "from google.colab import drive\n",
        "drive.mount(\"/content/drive\",force_remount=True)"
      ],
      "execution_count": 127,
      "outputs": [
        {
          "output_type": "stream",
          "text": [
            "Mounted at /content/drive\n"
          ],
          "name": "stdout"
        }
      ]
    },
    {
      "cell_type": "code",
      "metadata": {
        "id": "LakmB8iKcLUp"
      },
      "source": [
        "##Collect data\n",
        "READ_PATH = '/content/drive/MyDrive/CSE547_Final_Project/ml-100k/ratings_split/iter_1_fix/'\n",
        "\n",
        "training_raw = spark.read.text(READ_PATH + \"ratings_train.csv\").rdd\n",
        "validation_raw = spark.read.text(READ_PATH + \"ratings_validation.csv\").rdd\n",
        "test_raw = spark.read.text(READ_PATH + \"ratings_test.csv\").rdd"
      ],
      "execution_count": 126,
      "outputs": []
    },
    {
      "cell_type": "code",
      "metadata": {
        "id": "d3ZsGeeWcPaL"
      },
      "source": [
        "def process(raw_data):\n",
        "  parts = raw_data.map(lambda row: row.value.split(\",\"))\n",
        "  ratings_RDD_remove = parts.take(1)[0]\n",
        "  parts = parts.filter(lambda p: p !=ratings_RDD_remove)\n",
        "  ratingsRDD = parts.map(lambda p: Row(userId = int(p[0]), movieId = int(p[1]), rating = float(p[2])))\n",
        "  df = spark.createDataFrame(ratingsRDD)\n",
        "  return df"
      ],
      "execution_count": 129,
      "outputs": []
    },
    {
      "cell_type": "code",
      "metadata": {
        "id": "7auMUxPCcP_t"
      },
      "source": [
        "training_df = process(training_raw)\n",
        "validation_df = process(validation_raw)\n",
        "test_df = process(test_raw)"
      ],
      "execution_count": 130,
      "outputs": []
    },
    {
      "cell_type": "code",
      "metadata": {
        "id": "sIOR7EPGcRh7"
      },
      "source": [
        "from operator import add\n",
        "\n",
        "RANK_ = 10\n",
        "REG_PARAM_ = 0.15\n",
        "NONNEG_ = True\n",
        "READ_PATH = '/content/drive/MyDrive/CSE547_Final_Project/ml-100k/ratings_split/iter_1_fix/'\n",
        "klist = [5, 8, 12, 15, 20, 25]"
      ],
      "execution_count": 131,
      "outputs": []
    },
    {
      "cell_type": "code",
      "metadata": {
        "id": "0dHAacZJhP_c"
      },
      "source": [
        "model = ALS.train(training_df.rdd, rank = RANK_, nonnegative=True)"
      ],
      "execution_count": 134,
      "outputs": []
    },
    {
      "cell_type": "code",
      "metadata": {
        "id": "LWdPgN7JidKs"
      },
      "source": [
        "def predict(model, test_df):\n",
        "  testdata = test_df.rdd.map(lambda p: (p[0], p[1]))\n",
        "  predictions = model.predictAll(testdata).map(lambda r: ((r[0], r[1]), r[2]))\n",
        "  ratesAndPreds = test_df.rdd.map(lambda r: ((r[0], r[1]), r[2])).join(predictions)\n",
        "  MSE = ratesAndPreds.map(lambda r: (r[1][0] - r[1][1])**2).mean()\n",
        "\n",
        "  metrics = RegressionMetrics(ratesAndPreds.map(lambda x: x[1]))\n",
        "  rmse = metrics.rootMeanSquaredError\n",
        "  print(\"Mean Absolute Error = \" + str(metrics.meanAbsoluteError))\n",
        "  print(\"Root Mean Squared Error = \" + str(metrics.rootMeanSquaredError))\n",
        "\n",
        "  binaryRankings = test_df.rdd.map(lambda p: (p[0], p[1], 1) if p[2] > 3 else (p[0], p[1], 0))\n",
        "  userRankings = binaryRankings.filter(lambda x: x[2]==1).map(lambda x: (x[0], x[1]))\n",
        "  userRankings = userRankings.groupByKey().mapValues(list)\n",
        "\n",
        "\n",
        "  recommendedRankings = model.recommendProductsForUsers(50)\n",
        "  recommendedRankings = recommendedRankings.mapValues(lambda x: [r[1] for r in x])\n",
        "  predictionAndLabels = userRankings.join(recommendedRankings).map(lambda x: x[1])\n",
        "  metrics = RankingMetrics(predictionAndLabels)\n",
        "  \n",
        "  map = metrics.meanAveragePrecision\n",
        "  precision = metrics.precisionAt(5)\n",
        "  print(\"Mean Average Precision = \" + str(metrics.meanAveragePrecision))\n",
        "  print(\"Truncated Precision = \"+ str(metrics.precisionAt(5)))\n",
        "\n",
        "\n",
        "  print(\"Size of N: \"+str(ratesAndPreds.count()))\n",
        "  print(\"\")\n",
        "  return rmse, map, precision\n"
      ],
      "execution_count": 214,
      "outputs": []
    },
    {
      "cell_type": "code",
      "metadata": {
        "colab": {
          "base_uri": "https://localhost:8080/"
        },
        "id": "ucU7o5oYitXq",
        "outputId": "e11e818d-16be-46d4-ae0f-dcb8f6593883"
      },
      "source": [
        "predict(model, training_df)"
      ],
      "execution_count": 211,
      "outputs": [
        {
          "output_type": "stream",
          "text": [
            "Mean Absolute Error = 0.40360716979758754\n",
            "Root Mean Squared Error = 0.561948415000344\n",
            "Mean Average Precision = 0.002187892428103201\n",
            "Truncated Precision = 0.006578947368421052\n",
            "Size of N: 80769\n",
            "\n"
          ],
          "name": "stdout"
        }
      ]
    },
    {
      "cell_type": "code",
      "metadata": {
        "colab": {
          "base_uri": "https://localhost:8080/"
        },
        "id": "5t1f9RqxeMEW",
        "outputId": "d3bdb49e-4025-4e09-87a9-bc0f872cda5a"
      },
      "source": [
        "predict(model, test_df)\n"
      ],
      "execution_count": 212,
      "outputs": [
        {
          "output_type": "stream",
          "text": [
            "Mean Absolute Error = 0.7472197952865403\n",
            "Root Mean Squared Error = 0.9911376678010508\n",
            "Mean Average Precision = 0.0002583460914914012\n",
            "Truncated Precision = 0.004569420035149383\n",
            "Size of N: 9697\n",
            "\n"
          ],
          "name": "stdout"
        }
      ]
    },
    {
      "cell_type": "code",
      "metadata": {
        "id": "SULRhSrMjbXz"
      },
      "source": [
        "def map_k(id_to_idx, idx_to_kanon,user_to_cluster, x):\n",
        "  idx = id_to_idx[x[0]]\n",
        "  if idx in idx_to_kanon.keys():\n",
        "    return (idx_to_kanon[idx], x[1], x[2], 0)\n",
        "  else:\n",
        "    try:\n",
        "      return (user_to_cluster[x[0]], x[1], x[2], 0)\n",
        "    except:\n",
        "      return (x[0], x[1], x[2], 1)"
      ],
      "execution_count": 111,
      "outputs": []
    },
    {
      "cell_type": "code",
      "metadata": {
        "colab": {
          "base_uri": "https://localhost:8080/"
        },
        "id": "WGds3ajlgBEZ",
        "outputId": "bcc3d807-957b-46eb-fb43-945874084c59"
      },
      "source": [
        "import operator\n",
        "rmselist = []\n",
        "maplist = []\n",
        "precisionlist = []\n",
        "for k in klist:\n",
        "  print(\"Running k =\", k)\n",
        "  mappingpath_idtoidx = READ_PATH+\"user_to_idx.json\"\n",
        "  mappingpath_idxtokanon = READ_PATH+ str(k)+\"_anonymized_idx_to_kanon_idx.json\"\n",
        "  trainpath = READ_PATH+\"postprocessed_anonymized/\"+ str(k)+\"_anonymized_processed.csv\"\n",
        "\n",
        "  user_to_cluster = Utility().get_closest_k_cluster_to_user_id(k)\n",
        "  \n",
        "  with open(mappingpath_idxtokanon, 'r') as f:\n",
        "      idx_to_kanon = literal_eval(f.read())\n",
        "  idx_to_kanon = {int(i): int(j) for i, j in idx_to_kanon.items()}\n",
        "\n",
        "  with open(mappingpath_idtoidx, 'r') as f:\n",
        "      id_to_idx = literal_eval(f.read())\n",
        "  id_to_idx = {int(i): int(j) for i, j in id_to_idx.items()}\n",
        "\n",
        "  ktrain_rdd = spark.read.text(trainpath).rdd\n",
        "  ktrain_df = process(ktrain_rdd)\n",
        "  ktrain_model = ALS.train(ktrain_df, rank = RANK_, nonnegative = True)\n",
        "\n",
        "  mapped = test_df.rdd.map(lambda x: map_k(id_to_idx, idx_to_kanon,user_to_cluster, x))\n",
        "  \n",
        "  mapped_row = mapped.map(lambda x: Row(userId = int(x[0]), movieId = int(x[1]), rating = float(x[2])))\n",
        "  thrownout = mapped.map(lambda x: x[3]).reduce(add)\n",
        "  actual = spark.createDataFrame(mapped_row)  \n",
        "  print(\"Number points not mapped to cluster: \"+str(thrownout))\n",
        "  rmse, map, precision = predict(ktrain_model, actual)\n",
        "  rmselist += [rmse]\n",
        "  maplist += [map]\n",
        "  precisionlist += [precision]\n",
        "\n"
      ],
      "execution_count": 216,
      "outputs": [
        {
          "output_type": "stream",
          "text": [
            "Running k = 5\n",
            "Number points not mapped to cluster: 0\n",
            "Mean Absolute Error = 2.156990937233237\n",
            "Root Mean Squared Error = 2.4791796110835973\n",
            "Mean Average Precision = 0.03251933456798628\n",
            "Truncated Precision = 0.12459016393442623\n",
            "Size of N: 10417\n",
            "\n",
            "Running k = 8\n",
            "Number points not mapped to cluster: 0\n",
            "Mean Absolute Error = 1.9001664010893722\n",
            "Root Mean Squared Error = 2.253335184934015\n",
            "Mean Average Precision = 0.03733829378960246\n",
            "Truncated Precision = 0.12105263157894738\n",
            "Size of N: 10835\n",
            "\n",
            "Running k = 12\n",
            "Number points not mapped to cluster: 31\n",
            "Mean Absolute Error = 1.7230258279512545\n",
            "Root Mean Squared Error = 2.0962033694568563\n",
            "Mean Average Precision = 0.0435834448086305\n",
            "Truncated Precision = 0.11600000000000002\n",
            "Size of N: 11618\n",
            "\n",
            "Running k = 15\n",
            "Number points not mapped to cluster: 41\n",
            "Mean Absolute Error = 1.5810792381945362\n",
            "Root Mean Squared Error = 1.9670027496358822\n",
            "Mean Average Precision = 0.04867712952070603\n",
            "Truncated Precision = 0.10500000000000001\n",
            "Size of N: 12024\n",
            "\n",
            "Running k = 20\n",
            "Number points not mapped to cluster: 118\n",
            "Mean Absolute Error = 1.450683706932486\n",
            "Root Mean Squared Error = 1.8347805987360364\n",
            "Mean Average Precision = 0.051003649148896546\n",
            "Truncated Precision = 0.10000000000000002\n",
            "Size of N: 12772\n",
            "\n",
            "Running k = 25\n",
            "Number points not mapped to cluster: 84\n",
            "Mean Absolute Error = 1.3364877780307638\n",
            "Root Mean Squared Error = 1.7224979695589597\n",
            "Mean Average Precision = 0.04976014122680344\n",
            "Truncated Precision = 0.08333333333333336\n",
            "Size of N: 13802\n",
            "\n"
          ],
          "name": "stdout"
        }
      ]
    },
    {
      "cell_type": "code",
      "metadata": {
        "colab": {
          "base_uri": "https://localhost:8080/",
          "height": 294
        },
        "id": "VXthMgmiLYcD",
        "outputId": "19256cbb-4b5c-45b6-ef48-403ae5c47e52"
      },
      "source": [
        "plt.plot(klist, rmselist)\n",
        "plt.title(\"RMSE over K-values\")\n",
        "plt.xlabel(\"K\")\n",
        "plt.ylabel(\"RMSE\")\n",
        "plt.show()"
      ],
      "execution_count": 218,
      "outputs": [
        {
          "output_type": "display_data",
          "data": {
            "image/png": "[encoded data removed]",
            "text/plain": [
              "<Figure size 432x288 with 1 Axes>"
            ]
          },
          "metadata": {
            "tags": [],
            "needs_background": "light"
          }
        }
      ]
    },
    {
      "cell_type": "code",
      "metadata": {
        "colab": {
          "base_uri": "https://localhost:8080/",
          "height": 294
        },
        "id": "HxnXACEqL-S-",
        "outputId": "9fff3c4a-e6f5-412d-d8a3-cd0fbad5e9ad"
      },
      "source": [
        "plt.plot(klist, maplist)\n",
        "plt.title(\"MAP over K-values\")\n",
        "plt.xlabel(\"K\")\n",
        "plt.ylabel(\"RMSE\")\n",
        "plt.show()"
      ],
      "execution_count": 219,
      "outputs": [
        {
          "output_type": "display_data",
          "data": {
            "image/png": "[encoded data removed]",
            "text/plain": [
              "<Figure size 432x288 with 1 Axes>"
            ]
          },
          "metadata": {
            "tags": [],
            "needs_background": "light"
          }
        }
      ]
    },
    {
      "cell_type": "code",
      "metadata": {
        "colab": {
          "base_uri": "https://localhost:8080/",
          "height": 294
        },
        "id": "2OwayqtVL-V6",
        "outputId": "84fd137c-87f9-4639-a540-9bc82c335998"
      },
      "source": [
        "plt.plot(klist, precisionlist)\n",
        "plt.title(\"Precision over K-values\")\n",
        "plt.xlabel(\"K\")\n",
        "plt.ylabel(\"Precision\")\n",
        "plt.show()"
      ],
      "execution_count": 221,
      "outputs": [
        {
          "output_type": "display_data",
          "data": {
            "image/png": "[encoded data removed]",
            "text/plain": [
              "<Figure size 432x288 with 1 Axes>"
            ]
          },
          "metadata": {
            "tags": [],
            "needs_background": "light"
          }
        }
      ]
    },
    {
      "cell_type": "code",
      "metadata": {
        "id": "5RaceYPaoKJR"
      },
      "source": [
        "import os\n",
        "import json\n",
        "import numpy as np\n",
        "import pandas as pd\n",
        "COL_NAME_USER_ID = \"userId\"\n",
        "COL_NAME_MOVIE_ID = \"movieId\"\n",
        "COL_NAME_ITEM_ID = COL_NAME_MOVIE_ID\n",
        "COL_NAME_RATING = \"rating\"\n",
        "COL_NAME_MOVIE_RATINGS = \"movies_and_ratings\"\n",
        "\n",
        "\n",
        "BASE_PATH = '/content/drive/MyDrive/CSE547_Final_Project/ml-100k/train_test_v2/rawdata_split/iter_1/'\n",
        "class Utility:\n",
        "\n",
        "    def __init__(self, _base_path:str=BASE_PATH, _user_id_col=\"userId\", _movie_id_col=\"movieId\", _rating_col=\"rating\"):\n",
        "        \"\"\"Init the utility class\n",
        "\n",
        "        Keyword arguments\n",
        "        base_path -- The directory where files are located. \n",
        "        \"\"\"\n",
        "\n",
        "        if not os.path.isdir(_base_path):\n",
        "            raise OSError(f'{_base_path} is not a directory')\n",
        "        \n",
        "        self.base_path = _base_path\n",
        "\n",
        "        self.training_file = 'ratings_train.csv'\n",
        "        self.test_file = 'ratings_test.csv'\n",
        "        self.validation_file = 'ratings_validation.csv'\n",
        "\n",
        "        self.user_to_idx_file = \"user_to_idx.json\"\n",
        "        self.movie_to_idx_file = \"movie_to_idx.json\"\n",
        "\n",
        "        self.k_anonymized_postfix = '_anonymized.csv'\n",
        "        self.k_anonymized_map_postfix = '_anonymized_idx_to_kanon_idx.json'\n",
        "\n",
        "        self.user_id_col=_user_id_col\n",
        "        self.movie_id_col=_movie_id_col\n",
        "        self.rating_col=_rating_col\n",
        "    \n",
        "    def euclidean_distance(self, point1, point2):\n",
        "        return np.linalg.norm(point1 - point2) ** 2\n",
        "    \n",
        "    def manhattan_distance(self, point1, point2):\n",
        "        return abs(point1 - point2).sum()\n",
        "    \n",
        "    def find_closest_point(self, points_list, point, metric='euclidean'):\n",
        "\n",
        "        min_distance = float('inf')\n",
        "        min_distance_idx = -1\n",
        "        i = 0\n",
        "        for p in points_list:\n",
        "            if metric == 'euclidean':\n",
        "                distance = self.euclidean_distance(p, point)\n",
        "            elif metric == 'manhattan':\n",
        "                self.manhattan_distance(p, point)\n",
        "            else:\n",
        "                print('Function not implemented!')\n",
        "\n",
        "            if distance < min_distance:\n",
        "                min_distance = distance\n",
        "                min_distance_idx = i\n",
        "            \n",
        "            i += 1\n",
        "        \n",
        "        return min_distance_idx\n",
        "    \n",
        "    def flatten_matrix_into_dataframe(self, matrix):\n",
        "      value_vars = [v for v in matrix.columns.values if v != COL_NAME_USER_ID]\n",
        "      DEFAULT_VARIABLE_NAME_IN_MELT=\"variable\"\n",
        "      DEFAULT_VALUE_NAME_IN_MELT=\"value\"\n",
        "      movies_dict = self.get_movie_index()\n",
        "      matrix = matrix \\\n",
        "        .melt(id_vars=[COL_NAME_USER_ID], value_vars=value_vars) \\\n",
        "        .rename(columns={DEFAULT_VARIABLE_NAME_IN_MELT: COL_NAME_MOVIE_ID, DEFAULT_VALUE_NAME_IN_MELT: COL_NAME_RATING}) \\\n",
        "        .apply(lambda x : pd.to_numeric(x, downcast='integer'))\n",
        "      matrix[COL_NAME_MOVIE_ID] = matrix[COL_NAME_MOVIE_ID].apply(lambda x: movies_dict[x])\n",
        "      matrix[COL_NAME_USER_ID] = matrix[COL_NAME_USER_ID] + 1\n",
        "      matrix = matrix[matrix[COL_NAME_RATING] > 0]\n",
        "      return matrix\n",
        "\n",
        "    def get_training_data_file_path(self, k:int):\n",
        "      return os.path.join(self.base_path, f\"{k}{self.k_anonymized_postfix}\")\n",
        "\n",
        "    def get_test_data_file_path(self):\n",
        "      return os.path.join(self.base_path, self.test_file)\n",
        "\n",
        "    def get_training_data(self, k:int):\n",
        "      mldf = pd.read_csv(self.get_training_data_file_path(k), header=None).reset_index().rename(columns={'index': COL_NAME_USER_ID})\n",
        "      mldf= self.flatten_matrix_into_dataframe(mldf)\n",
        "      return mldf, len(mldf[COL_NAME_USER_ID].unique()), len(mldf[COL_NAME_MOVIE_ID].unique())\n",
        "\n",
        "    def get_training_data_for_evaluation(self):\n",
        "      mldf = pd.read_csv(self.get_training_data_path())\n",
        "      return self._group_and_get_sets_for_evaluation(mldf)\n",
        "\n",
        "    def get_test_data(self):\n",
        "      return pd.read_csv(self.get_test_data_file_path()).apply(lambda x : pd.to_numeric(x, downcast='integer'))\n",
        "\n",
        "    def _group_and_get_sets_for_evaluation(self, df):\n",
        "      testdf=df.sort_values(by=COL_NAME_RATING, ascending=False)\n",
        "      grouped=testdf.groupby(COL_NAME_USER_ID).agg({COL_NAME_MOVIE_ID:lambda x: list(x), COL_NAME_RATING:lambda x: list(x)})\n",
        "      grouped[COL_NAME_MOVIE_RATINGS] = grouped.apply(lambda x: list(zip(x[COL_NAME_MOVIE_ID], x[COL_NAME_RATING])), axis=1)\n",
        "      grouped=grouped.drop(columns=[COL_NAME_RATING])\n",
        "      return grouped\n",
        "\n",
        "    def get_unanonymized_training_data(self):\n",
        "      df = pd.read_csv(self.get_training_data_path())\n",
        "      return df.apply(pd.to_numeric), len(df[COL_NAME_USER_ID].unique()), len(df[COL_NAME_MOVIE_ID].unique())\n",
        "\n",
        "    def get_test_data_for_evaluation(self):\n",
        "      testdf=Utility().get_test_data()\n",
        "      return self._group_and_get_sets_for_evaluation(testdf)\n",
        "  \n",
        "    def get_training_data_path(self, base_path=\"\"):\n",
        "        \"\"\"Get path to training file\n",
        "\n",
        "        Keyword arguments\n",
        "        base_path -- The directory where files are located. \n",
        "        \"\"\"\n",
        "        if not base_path:\n",
        "            base_path = self.base_path\n",
        "        \n",
        "        if not os.path.isdir(base_path):\n",
        "            raise OSError(f'{base_path} is not a directory')\n",
        "        \n",
        "        file_path = os.path.join(base_path, self.training_file)\n",
        "        if not os.path.exists(file_path):\n",
        "            raise OSError(f'{file_path} is not a directory')\n",
        "        \n",
        "        return file_path\n",
        "\n",
        "    def get_test_data_path(self, base_path=\"\"):\n",
        "        \"\"\"Get path to test file\n",
        "\n",
        "        Keyword arguments\n",
        "        base_path -- The directory where files are located. \n",
        "        \"\"\"\n",
        "        if not base_path:\n",
        "            base_path = self.base_path\n",
        "        \n",
        "        if not os.path.isdir(base_path):\n",
        "            raise OSError(f'{base_path} is not a directory')\n",
        "        \n",
        "        file_path = os.path.join(base_path, self.test_file)\n",
        "        if not os.path.exists(file_path):\n",
        "            raise OSError(f'{file_path} is not a directory')\n",
        "\n",
        "        return file_path\n",
        "    \n",
        "    def get_validation_data_path(self, base_path=\"\"):\n",
        "        \"\"\"Get path to validation file\n",
        "\n",
        "        Keyword arguments\n",
        "        base_path -- The directory where files are located. \n",
        "        \"\"\"\n",
        "        if not base_path:\n",
        "            base_path = self.base_path\n",
        "        \n",
        "        if not os.path.isdir(base_path):\n",
        "            raise OSError(f'{base_path} is not a directory')\n",
        "        \n",
        "        file_path = os.path.join(base_path, self.validation_file)\n",
        "        if not os.path.exists(file_path):\n",
        "            raise OSError(f'{file_path} is not a directory')\n",
        "\n",
        "        return file_path\n",
        "    \n",
        "    def get_train_data_user_map_path(self, base_path=\"\"):\n",
        "        \"\"\"Get path to user id to train index file map\n",
        "\n",
        "        Keyword arguments\n",
        "        base_path -- The directory where files are located. \n",
        "        \"\"\"\n",
        "        if not base_path:\n",
        "            base_path = self.base_path\n",
        "        \n",
        "        if not os.path.isdir(base_path):\n",
        "            raise OSError(f'{base_path} is not a directory')\n",
        "        \n",
        "        file_path = os.path.join(base_path, self.user_to_idx_file)\n",
        "        if not os.path.exists(file_path):\n",
        "            raise OSError(f'{file_path} is not a directory')\n",
        "\n",
        "        return file_path\n",
        "    \n",
        "    def get_train_data_movie_map_path(self, base_path=\"\"):\n",
        "        \"\"\"Get path to movie id to train index file map\n",
        "\n",
        "        Keyword arguments\n",
        "        base_path -- The directory where files are located. \n",
        "        \"\"\"\n",
        "        if not base_path:\n",
        "            base_path = self.base_path\n",
        "        \n",
        "        if not os.path.isdir(base_path):\n",
        "            raise OSError(f'{base_path} is not a directory')\n",
        "        \n",
        "        file_path = os.path.join(base_path, self.movie_to_idx_file)\n",
        "        if not os.path.exists(file_path):\n",
        "            raise OSError(f'{file_path} is not a directory')\n",
        "\n",
        "        return file_path\n",
        "\n",
        "    def get_k_anonymized_data_path(self, k, base_path=\"\"):\n",
        "        \"\"\"Get path to k-anonymzied file\n",
        "\n",
        "        Keyword arguments\n",
        "        k -- \n",
        "        base_path -- The directory where files are located. \n",
        "        \"\"\"\n",
        "        if not base_path:\n",
        "            base_path = self.base_path\n",
        "        \n",
        "        if not os.path.isdir(base_path):\n",
        "            raise OSError(f'{base_path} is not a directory')\n",
        "        \n",
        "        k_file_name = str(k) + self.k_anonymized_postfix\n",
        "\n",
        "        file_path = os.path.join(base_path, k_file_name)\n",
        "        if not os.path.exists(file_path):\n",
        "            raise OSError(f'{file_path} is not a directory')\n",
        "\n",
        "        return file_path\n",
        "    \n",
        "    def _coalesce_path(self,path1, path2):\n",
        "      return path1 if path1 != \"\" else path2\n",
        "\n",
        "    def get_utility_matrix_from_train(self, base_path=\"\"):\n",
        "        base_path = self._coalesce_path(base_path, self.base_path)\n",
        "        complete_file_path = os.path.join(base_path, self.training_file)\n",
        "        if not os.path.exists(complete_file_path):\n",
        "            raise OSError(f'{complete_file_path} is not a file')\n",
        "        \n",
        "        df = pd.read_csv(complete_file_path)\n",
        "        \n",
        "        movie_to_idx_path = self.get_train_data_movie_map_path(base_path)\n",
        "        with open(movie_to_idx_path) as json_file:\n",
        "            movie_id_to_idx_dict = json.load(json_file)\n",
        "\n",
        "        users = df.userId.unique()\n",
        "        test_user_dict = {users[i]: i for i in range(len(users))}\n",
        "\n",
        "        num_users = len(df.userId.unique())\n",
        "        num_movies = len(movie_id_to_idx_dict) + 1\n",
        "        utility_matrix = np.zeros((num_users, num_movies))\n",
        "\n",
        "        for index, row in df.iterrows():\n",
        "            movie_id, rating = str(int(row[self.movie_id_col])), float(row[self.rating_col])\n",
        "            utility_matrix[test_user_dict[row[self.user_id_col]]][0] = int(row[self.user_id_col])\n",
        "            \n",
        "            if movie_id in movie_id_to_idx_dict.keys():\n",
        "                utility_matrix[test_user_dict[row[self.user_id_col]]][movie_id_to_idx_dict[movie_id]] = rating\n",
        "            else:\n",
        "                print(f'Movie ID {movie_id} not found!')\n",
        "        \n",
        "        return utility_matrix\n",
        "    \n",
        "    def get_k_anonymized_map_path(self, k, base_path=\"\"):\n",
        "        \"\"\"Get path to k-anonymzied map. \n",
        "        {k}_anonymized_idx_to_kanon_idx.json --> the mapping from user index \n",
        "        (row in the ratings_train.csv) to the row index in the \n",
        "        corresponding {k}_anonymized.csv file\n",
        "\n",
        "        Keyword arguments\n",
        "        k -- \n",
        "        base_path -- The directory where files are located. \n",
        "        \"\"\"\n",
        "        if not base_path:\n",
        "            base_path = self.base_path\n",
        "        \n",
        "        if not os.path.isdir(base_path):\n",
        "            raise OSError(f'{base_path} is not a directory')\n",
        "        \n",
        "        k_file_name = str(k) + self.k_anonymized_map_postfix\n",
        "        \n",
        "        file_path = os.path.join(base_path, k_file_name)\n",
        "        if not os.path.exists(file_path):\n",
        "            raise OSError(f'{file_path} is not a directory')\n",
        "\n",
        "        return file_path\n",
        "    \n",
        "    def get_movie_index(self):\n",
        "      movie_to_idx_path = self.get_train_data_movie_map_path(self.base_path)\n",
        "      with open(movie_to_idx_path) as json_file:\n",
        "          movie_id_to_idx_dict = json.load(json_file)\n",
        "      return {v:int(k) for k,v in movie_id_to_idx_dict.items()}\n",
        "\n",
        "    def get_movie_to_col_index(self):\n",
        "      movie_to_idx_path = self.get_train_data_movie_map_path(self.base_path)\n",
        "      with open(movie_to_idx_path) as json_file:\n",
        "          movie_id_to_idx_dict = json.load(json_file)\n",
        "      return {int(k):v for k,v in movie_id_to_idx_dict.items()}\n",
        "\n",
        "    def get_feature_vector_for_user(self, movie_ratings:list, base_path=\"\"):\n",
        "        \"\"\"Returns a vector, with the same dimentions as the \n",
        "        training dataset. \n",
        "\n",
        "        Keyword arguments\n",
        "        movie_ratings -- A list of tuples. Each tuple should be\n",
        "        as follows: (movie_id, rating)\n",
        "        \"\"\"\n",
        "        movie_to_idx_path = self.get_train_data_movie_map_path(base_path)\n",
        "        with open(movie_to_idx_path) as json_file:\n",
        "            movie_id_to_idx_dict = json.load(json_file)\n",
        "        \n",
        "        feature_vec = [0 for _ in range(len(movie_id_to_idx_dict))]\n",
        "        for movie_id, rating in movie_ratings:\n",
        "            movie_id, rating = str(movie_id), int(rating)\n",
        "\n",
        "            if movie_id in movie_id_to_idx_dict.keys():\n",
        "                feature_vec[movie_id_to_idx_dict[movie_id]] = rating\n",
        "            else:\n",
        "                print(f'Movie ID {movie_id} not found!')\n",
        "        \n",
        "        return feature_vec\n",
        "    \n",
        "    def get_closest_k_cluster_to_user_id(self, k:int, metric=\"euclidean\", base_path=\"\"):\n",
        "        id_to_idx_path = self.get_train_data_user_map_path(base_path)\n",
        "        idx_to_kidx_path = self.get_k_anonymized_map_path(k, base_path)\n",
        "        k_anon_data_path = self.get_k_anonymized_data_path(k, base_path)\n",
        "\n",
        "        with open(id_to_idx_path) as json_file:\n",
        "            id_to_idx_dict = json.load(json_file)\n",
        "        \n",
        "        with open(idx_to_kidx_path) as json_file:\n",
        "            idx_to_kidx_path_dict = json.load(json_file)\n",
        "\n",
        "        k_anaon_data = pd.read_csv(k_anon_data_path, sep=',', header=None).values\n",
        "        \n",
        "        u_matrix = self.get_utility_matrix_from_train(base_path)\n",
        "        user_to_cluster_dict = {}\n",
        "        for um in u_matrix:\n",
        "            user_id = str(int(um[0]))\n",
        "            row_vec = um[1:]\n",
        "        \n",
        "            # Easy case - We have trained on this user before\n",
        "            # Just need to lookup, to see what cluster they belong to\n",
        "            try:\n",
        "              if user_id in id_to_idx_dict.keys() and\\\n",
        "              str(id_to_idx_dict[user_id]) in idx_to_kidx_path_dict.keys():            \n",
        "                  user_to_cluster_dict[int(user_id)] = idx_to_kidx_path_dict[str(id_to_idx_dict[user_id])]\n",
        "              else:\n",
        "                  # print(f'{user_id} not found in training data!')\n",
        "                  user_to_cluster_dict[int(user_id)] = self.find_closest_point(k_anaon_data, row_vec)\n",
        "                 # print(f'{user_id} mapped to {user_to_cluster_dict[int(user_id)]}')\n",
        "            except:\n",
        "              print(type(k_anon_data), \" \", type(row_vec))\n",
        "              raise\n",
        "        \n",
        "        return user_to_cluster_dict"
      ],
      "execution_count": 85,
      "outputs": []
    }
  ]
}