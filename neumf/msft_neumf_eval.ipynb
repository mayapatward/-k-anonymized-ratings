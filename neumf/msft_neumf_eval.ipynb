{
 "cells": [
  {
   "cell_type": "markdown",
   "metadata": {},
   "source": [
    "<i>Copyright (c) Microsoft Corporation. All rights reserved.</i>\n",
    "\n",
    "<i>Licensed under the MIT License.</i>"
   ]
  },
  {
   "cell_type": "markdown",
   "metadata": {},
   "source": [
    "# Neural Collaborative Filtering on MovieLens dataset.\n",
    "\n",
    "Neural Collaborative Filtering (NCF) is a well known recommendation algorithm that generalizes the matrix factorization problem with multi-layer perceptron. \n",
    "\n",
    "This notebook provides an example of how to utilize and evaluate NCF implementation in the `reco_utils`. We use a smaller dataset in this example to run NCF efficiently with GPU acceleration on a [Data Science Virtual Machine](https://azure.microsoft.com/en-gb/services/virtual-machines/data-science-virtual-machines/)."
   ]
  },
  {
   "cell_type": "code",
   "execution_count": 1,
   "metadata": {},
   "outputs": [],
   "source": [
    "%load_ext autoreload\n",
    "%autoreload 2"
   ]
  },
  {
   "cell_type": "code",
   "execution_count": 2,
   "metadata": {},
   "outputs": [
    {
     "name": "stdout",
     "output_type": "stream",
     "text": [
      "System version: 3.6.11 | packaged by conda-forge | (default, Nov 27 2020, 18:57:37) \n",
      "[GCC 9.3.0]\n",
      "Pandas version: 1.1.5\n",
      "Tensorflow version: 1.15.4\n"
     ]
    }
   ],
   "source": [
    "import sys\n",
    "import pandas as pd\n",
    "import tensorflow as tf\n",
    "tf.get_logger().setLevel('ERROR') # only show error messages\n",
    "\n",
    "from reco_utils.common.timer import Timer\n",
    "from reco_utils.recommender.ncf.ncf_singlenode import NCF\n",
    "from reco_utils.recommender.ncf.dataset import Dataset as NCFDataset\n",
    "from reco_utils.dataset import movielens\n",
    "from reco_utils.common.notebook_utils import is_jupyter\n",
    "from reco_utils.dataset.python_splitters import python_chrono_split\n",
    "from reco_utils.evaluation.python_evaluation import (precision_recall_hr_map_ndcg_at_k, rmse, mae, rsquared, exp_var, map_at_k, ndcg_at_k, precision_at_k, \n",
    "                                                     recall_at_k, get_top_k_items)\n",
    "\n",
    "print(\"System version: {}\".format(sys.version))\n",
    "print(\"Pandas version: {}\".format(pd.__version__))\n",
    "print(\"Tensorflow version: {}\".format(tf.__version__))"
   ]
  },
  {
   "cell_type": "markdown",
   "metadata": {},
   "source": [
    "Set the default parameters."
   ]
  },
  {
   "cell_type": "code",
   "execution_count": 3,
   "metadata": {
    "tags": [
     "parameters"
    ]
   },
   "outputs": [],
   "source": [
    "# top k items to recommend\n",
    "TOP_K = 10\n",
    "\n",
    "# Model parameters\n",
    "EPOCHS = 50\n",
    "BATCH_SIZE = 256\n",
    "\n",
    "SEED = 42"
   ]
  },
  {
   "cell_type": "code",
   "execution_count": 4,
   "metadata": {},
   "outputs": [],
   "source": [
    "from tqdm.notebook import tqdm\n",
    "import os\n",
    "import json\n",
    "import numpy as np\n",
    "import pandas as pd\n",
    "from scipy.spatial import distance\n",
    "\n",
    "\n",
    "BASE_PATH = '../../content/drive/MyDrive/CSE547_Final_Project/ml-100k/'\n",
    "\n",
    "COL_NAME_PREDICTION = \"prediction\"\n",
    "COL_NAME_USER_ID = \"userId\"\n",
    "COL_NAME_MOVIE_ID = \"movieId\"\n",
    "COL_NAME_ITEM_ID = COL_NAME_MOVIE_ID\n",
    "COL_NAME_RATING = \"rating\"\n",
    "COL_NAME_MOVIE_RATINGS = \"movies_and_ratings\"\n",
    "\n",
    "\n",
    "class Utility:\n",
    "    \n",
    "    def __init__(self, split_type, base_path=BASE_PATH, iteration=1):\n",
    "        \"\"\"Init the utility class\n",
    "        Keyword arguments\n",
    "        base_path -- The directory where files are located. \n",
    "        \"\"\"\n",
    "        splits_and_paths = self.get_splits_and_paths()\n",
    "        if split_type not in splits_and_paths:\n",
    "          print(f\"split_type must be one of {','.join(list(splits_and_paths.keys()))}\")\n",
    "        valid_iterations = set(range(1,6))\n",
    "        if iteration not in valid_iterations:\n",
    "          print(f\"iteration must be one of {','.join(list(valid_iterations))}\")\n",
    "        if not os.path.isdir(base_path):\n",
    "            raise OSError(f'{base_path} is not a directory')\n",
    "        \n",
    "        self.base_path = base_path\n",
    "        self.anonymized_data_path = os.path.join(self.base_path, splits_and_paths[split_type], f\"iter_{iteration}_fix\")\n",
    "\n",
    "        self.ratings_file_name =  'ratings.csv'\n",
    "\n",
    "        self.training_file_name = 'ratings_train.csv'\n",
    "        self.test_file_name = 'ratings_test.csv'\n",
    "        self.validation_file_name = 'ratings_validation.csv'\n",
    "        self.evaluation_file_name = 'evaluation.csv'\n",
    "        self.user_movie_ratings_matrix_file_name = 'user_movie_ratings_matrix.csv'\n",
    "        self.user_to_idx_file_name =  \"user_to_idx.json\"\n",
    "        self.movie_to_idx_file_name =  \"movie_to_idx.json\"\n",
    "\n",
    "        self.k_anonymized_postfix = '_anonymized.csv'\n",
    "        self.k_anonymized_map_postfix = '_anonymized_idx_to_kanon_idx.json'\n",
    "    \n",
    "    def get_training_user_itemlist(self):\n",
    "      training_data,_,_ = self.get_unanonymized_training_data()\n",
    "      return training_data.groupby(COL_NAME_USER_ID)[COL_NAME_MOVIE_ID].agg(set)\n",
    "  \n",
    "    def get_test_user_itemlist(self):\n",
    "      test_data = self.get_test_data()\n",
    "      return test_data.groupby(COL_NAME_USER_ID)[COL_NAME_MOVIE_ID].agg(set)\n",
    "  \n",
    "\n",
    "    def generate_evaluation_dataframe(self, num_negative_items_to_sample_per_user=100):\n",
    "      training_data = self.get_training_user_itemlist()\n",
    "      test_data = self.get_test_user_itemlist()\n",
    "      users = np.unique(np.concatenate([training_data.index.values, test_data.index.values]))\n",
    "      all_items_to_consider = set(self.get_movie_to_col_index().keys())\n",
    "      evaluation_df = self.get_test_data()\n",
    "      rows_to_add = []\n",
    "      for user in users:\n",
    "          items_in_train = training_data.loc[user]\n",
    "          items_in_test = test_data.loc[user]\n",
    "          neg_items = all_items_to_consider - items_in_train - items_in_test\n",
    "          neg_items = np.random.choice(list(neg_items), size=num_negative_items_to_sample_per_user, replace=False)\n",
    "          rows_to_add.extend([{COL_NAME_USER_ID:user, COL_NAME_MOVIE_ID:item, COL_NAME_RATING:0.0} for item in neg_items])\n",
    "      evaluation_df = evaluation_df.append(rows_to_add, True)\n",
    "      return evaluation_df\n",
    "    \n",
    "    def get_evaluation_path(self):\n",
    "      return os.path.join(self.anonymized_data_path,self.evaluation_file_name)\n",
    "\n",
    "    def save_evaluation_df_to(self, df, overwrite=False):\n",
    "      if os.path.exists(self.get_evaluation_path()) and not(overwrite):\n",
    "        print(\"File exists, if you want to overwrite, then pass the arugment to\")\n",
    "        return\n",
    "      df.to_csv(self.get_evaluation_path())\n",
    "    \n",
    "    def get_evaluation_data(self):\n",
    "        return pd.read_csv(self.get_evaluation_path())\n",
    "\n",
    "    def get_splits_and_paths(self):\n",
    "        return {\n",
    "            'ratings': 'ratings_split',\n",
    "            'users': 'train_test_v2/rawdata_split'\n",
    "        }\n",
    "\n",
    "    def euclidean_distance(self, point1, point2):\n",
    "        return np.linalg.norm(point1 - point2) ** 2\n",
    "    \n",
    "    def manhattan_distance(self, point1, point2):\n",
    "        return abs(point1 - point2).sum()\n",
    "    \n",
    "    def jaccard_distance(self, point1, point2):\n",
    "        return distance.jaccard(point1, point2)\n",
    "  \n",
    "    def find_closest_point(self, points_list, point, metric='euclidean'):\n",
    "\n",
    "        min_distance = float('inf')\n",
    "        min_distance_idx = -1\n",
    "        i = 0\n",
    "        for p in points_list:\n",
    "            if metric == 'euclidean':\n",
    "                distance = self.euclidean_distance(p, point)\n",
    "            elif metric == 'manhattan':\n",
    "                distance = self.manhattan_distance(p, point)\n",
    "            elif metric == 'jaccard':\n",
    "                distance = self.jaccard_distance(p, point)\n",
    "            else:\n",
    "                print('Function not implemented!')\n",
    "\n",
    "            if distance < min_distance:\n",
    "                min_distance = distance\n",
    "                min_distance_idx = i\n",
    "            \n",
    "            i += 1\n",
    "        \n",
    "        return min_distance_idx\n",
    "\n",
    "    def flatten_matrix_into_dataframe(self, matrix):\n",
    "        value_vars = [v for v in matrix.columns.values if v != COL_NAME_USER_ID]\n",
    "        DEFAULT_VARIABLE_NAME_IN_MELT=\"variable\"\n",
    "        DEFAULT_VALUE_NAME_IN_MELT=\"value\"\n",
    "        movies_dict = self.get_col_to_movie_index()\n",
    "        matrix = matrix \\\n",
    "        .melt(id_vars=[COL_NAME_USER_ID], value_vars=value_vars) \\\n",
    "        .rename(columns={DEFAULT_VARIABLE_NAME_IN_MELT: COL_NAME_MOVIE_ID, DEFAULT_VALUE_NAME_IN_MELT: COL_NAME_RATING}) \\\n",
    "        .apply(lambda x : pd.to_numeric(x, downcast='integer'))\n",
    "        matrix[COL_NAME_MOVIE_ID] = matrix[COL_NAME_MOVIE_ID].apply(lambda x: movies_dict[x])\n",
    "        matrix[COL_NAME_USER_ID] = matrix[COL_NAME_USER_ID] + 1\n",
    "        matrix = matrix[matrix[COL_NAME_RATING] > 0]\n",
    "        return matrix\n",
    "\n",
    "    def get_training_data_file_path(self, k:int):\n",
    "      if k ==0:\n",
    "        return os.path.join(self.anonymized_data_path, \"user_movie_ratings_matrix.csv\")\n",
    "      return os.path.join(self.anonymized_data_path, f\"{k}{self.k_anonymized_postfix}\")\n",
    "\n",
    "    def get_test_data_file_path(self):\n",
    "      return os.path.join(self.anonymized_data_path, self.test_file_name)\n",
    "\n",
    "    def get_training_data(self, k:int, path=None):\n",
    "      path = path if path is not None else self.get_training_data_file_path(k)\n",
    "      mldf = pd.read_csv(path, header=None if k!=0 else 0).reset_index().rename(columns={'index': COL_NAME_USER_ID})\n",
    "      mldf= self.flatten_matrix_into_dataframe(mldf)\n",
    "      return mldf, len(mldf[COL_NAME_USER_ID].unique()), len(mldf[COL_NAME_MOVIE_ID].unique())\n",
    "\n",
    "    def get_training_data_for_evaluation(self):\n",
    "        mldf = pd.read_csv(self.get_training_data_path())\n",
    "        return self._group_and_get_sets_for_evaluation(mldf)\n",
    "\n",
    "    def get_test_data(self):\n",
    "        return pd.read_csv(self.get_test_data_file_path()).apply(lambda x : pd.to_numeric(x, downcast='integer'))\n",
    "\n",
    "    def _group_and_get_sets_for_evaluation(self, df):\n",
    "        testdf=df.sort_values(by=COL_NAME_RATING, ascending=False)\n",
    "        grouped=testdf.groupby(COL_NAME_USER_ID).agg({COL_NAME_MOVIE_ID:lambda x: list(x), COL_NAME_RATING:lambda x: list(x)})\n",
    "        grouped[COL_NAME_MOVIE_RATINGS] = grouped.apply(lambda x: list(zip(x[COL_NAME_MOVIE_ID], x[COL_NAME_RATING])), axis=1)\n",
    "        grouped=grouped.drop(columns=[COL_NAME_RATING])\n",
    "        return grouped\n",
    "\n",
    "    def get_unanonymized_training_data(self):\n",
    "      df = pd.read_csv(self.get_training_data_path())\n",
    "      return df.apply(pd.to_numeric), len(df[COL_NAME_USER_ID].unique()), len(df[COL_NAME_MOVIE_ID].unique())\n",
    "\n",
    "    def get_complete_data_path(self):\n",
    "      return os.path.join(self.base_path, self.ratings_file_name)\n",
    "\n",
    "    def get_complete_data(self):\n",
    "      df = pd.read_csv(self.get_complete_data_path())\n",
    "      return df.apply(pd.to_numeric), len(df[COL_NAME_USER_ID].unique()), len(df[COL_NAME_MOVIE_ID].unique())\n",
    "  \n",
    "    def get_evaluation_data_for_evaluation(self):\n",
    "      df = self.get_evaluation_data()\n",
    "      return self._group_and_get_sets_for_evaluation(df)\n",
    "    \n",
    "    def get_test_data_for_evaluation(self):\n",
    "      testdf=self.get_test_data()\n",
    "      return self._group_and_get_sets_for_evaluation(testdf)\n",
    "  \n",
    "    def get_training_data_path(self):\n",
    "        \"\"\"Get path to training file\n",
    "        Keyword arguments\n",
    "        base_path -- The directory where files are located. \n",
    "        \"\"\"        \n",
    "        return os.path.join(self.anonymized_data_path, self.training_file_name)       \n",
    "\n",
    "    def get_test_data_path(self):\n",
    "        \"\"\"Get path to test file\n",
    "        Keyword arguments\n",
    "        base_path -- The directory where files are located. \n",
    "        \"\"\"\n",
    "        return os.path.join(self.anonymized_data_path, self.test_file_name)\n",
    "    \n",
    "    def get_validation_data_path(self):\n",
    "        \"\"\"Get path to validation file\n",
    "        Keyword arguments\n",
    "        base_path -- The directory where files are located. \n",
    "        \"\"\"\n",
    "        return os.path.join(self.anonymized_data_path, self.validation_file_name)\n",
    "    \n",
    "    def get_train_data_user_map_path(self):\n",
    "        \"\"\"Get path to user id to train index file map\n",
    "        Keyword arguments\n",
    "        base_path -- The directory where files are located. \n",
    "        \"\"\"\n",
    "        return os.path.join(self.anonymized_data_path, self.user_to_idx_file_name)\n",
    "    \n",
    "    def get_train_data_movie_map_path(self):\n",
    "        \"\"\"Get path to movie id to train index file map\n",
    "        Keyword arguments\n",
    "        base_path -- The directory where files are located. \n",
    "        \"\"\"\n",
    "        return os.path.join(self.anonymized_data_path, self.movie_to_idx_file_name)\n",
    "   \n",
    "    def _coalesce_path(self,path1, path2):\n",
    "        return path1 if path1 != \"\" else path2\n",
    "\n",
    "    def get_utility_matrix_from_train(self):      \n",
    "        # df = pd.read_csv(file_path) # Bug fix -- Check the whole dataset now and map all movies\n",
    "        df, _, _ = self.get_complete_data()\n",
    "        \n",
    "        movie_id_to_idx_dict = self.get_movie_to_col_index()\n",
    "\n",
    "        users = df.userId.unique()\n",
    "        test_user_dict = {users[i]: i for i in range(len(users))}\n",
    "\n",
    "        num_users = len(df.userId.unique())\n",
    "        num_movies = len(movie_id_to_idx_dict) + 1\n",
    "        utility_matrix = np.zeros((num_users, num_movies))\n",
    "\n",
    "        for index, row in df.iterrows():\n",
    "            movie_id, rating = int(row[COL_NAME_MOVIE_ID]), float(row[COL_NAME_RATING])\n",
    "            utility_matrix[test_user_dict[row[COL_NAME_USER_ID]]][0] = int(row[COL_NAME_USER_ID])\n",
    "            \n",
    "            if movie_id in movie_id_to_idx_dict:\n",
    "                utility_matrix[test_user_dict[row[COL_NAME_USER_ID]]][movie_id_to_idx_dict[movie_id]] = rating\n",
    "            #else:\n",
    "            #   print(f'Movie ID {movie_id} not found!')\n",
    "        \n",
    "        return utility_matrix\n",
    "    \n",
    "    def get_msft_ncf_dataset(self, k):\n",
    "        train,_,_ = self.get_training_data(k)\n",
    "        test = self.get_test_data()\n",
    "        return  NCFDataset(train=train, test=test, col_user=COL_NAME_USER_ID, col_item=COL_NAME_MOVIE_ID, col_rating=COL_NAME_RATING, seed=SEED), train, test\n",
    "        \n",
    "    def get_k_anonymized_map_path(self, k, base_path=\"\"):\n",
    "        \"\"\"Get path to k-anonymzied map. \n",
    "        {k}_anonymized_idx_to_kanon_idx.json --> the mapping from user index \n",
    "        (row in the ratings_train.csv) to the row index in the \n",
    "        corresponding {k}_anonymized.csv file\n",
    "        Keyword arguments\n",
    "        k -- \n",
    "        base_path -- The directory where files are located. \n",
    "        \"\"\"\n",
    "        return os.path.join(self.anonymized_data_path,f\"{k}{self.k_anonymized_map_postfix}\")\n",
    "    \n",
    "    def get_col_to_movie_index(self):\n",
    "        movie_to_idx_path = self.get_train_data_movie_map_path()\n",
    "        with open(movie_to_idx_path) as json_file:\n",
    "            movie_id_to_idx_dict = json.load(json_file)\n",
    "        return {v:int(k) for k,v in movie_id_to_idx_dict.items()}\n",
    "\n",
    "    def get_movie_to_col_index(self):\n",
    "        movie_to_idx_path = self.get_train_data_movie_map_path()\n",
    "        with open(movie_to_idx_path) as json_file:\n",
    "            movie_id_to_idx_dict = json.load(json_file)\n",
    "        return {int(k):v for k,v in movie_id_to_idx_dict.items()}\n",
    "\n",
    "    def get_feature_vector_for_user(self, movie_ratings:list):\n",
    "        \"\"\"Returns a vector, with the same dimentions as the \n",
    "        training dataset. \n",
    "        Keyword arguments\n",
    "        movie_ratings -- A list of tuples. Each tuple should be\n",
    "        as follows: (movie_id, rating)\n",
    "        \"\"\"\n",
    "        movie_to_idx_path = self.get_train_data_movie_map_path()\n",
    "        with open(movie_to_idx_path) as json_file:\n",
    "            movie_id_to_idx_dict = json.load(json_file)\n",
    "        \n",
    "        feature_vec = [0 for _ in range(len(movie_id_to_idx_dict))]\n",
    "        movie_not_found= 0\n",
    "        for movie_id, rating in movie_ratings:\n",
    "            movie_id, rating = int(movie_id), int(rating)\n",
    "\n",
    "            if movie_id in movie_id_to_idx_dict.keys():\n",
    "                feature_vec[movie_id_to_idx_dict[movie_id]] = rating\n",
    "            else:\n",
    "                movie_not_found += 1\n",
    "                #print(f'Movie ID {movie_id} not found!')\n",
    "        print(f\"{movie_not_found} movies not found.\")\n",
    "        return feature_vec\n",
    "       \n",
    "    def get_col_to_user_index(self):\n",
    "        id_to_idx_path = self.get_train_data_user_map_path()\n",
    "        with open(id_to_idx_path) as json_file:\n",
    "            id_to_idx_dict = json.load(json_file)\n",
    "        return {int(k):v for k,v in id_to_idx_dict.items()}\n",
    "    \n",
    "    def get_col_to_kanoncol_index(self, k):\n",
    "        idx_to_kidx_path = self.get_k_anonymized_map_path(k, self.base_path)\n",
    "        with open(idx_to_kidx_path) as json_file:\n",
    "            idx_to_kidx_path_dict = json.load(json_file)\n",
    "        return {int(k):v for k,v in idx_to_kidx_path_dict.items()}\n",
    "\n",
    "    def get_ks(self):\n",
    "        return [0, 5,8,12,15,20,25]\n",
    "\n",
    "    def get_validation_data(self):\n",
    "        return pd.read_csv(self.get_validation_data_path())\n",
    "\n",
    "    def get_base_path(k=None):\n",
    "        return self.base_path\n",
    "    \n",
    "    def get_closest_k_cluster_to_user_id(self, k:int, metric=\"euclidean\"):\n",
    "        id_to_idx_dict = self.get_col_to_user_index()\n",
    "        idx_to_kidx_path_dict = self.get_col_to_kanoncol_index(k) if k!=0 else None\n",
    "        k_anon_data_path = self.get_training_data_file_path(k)\n",
    "       \n",
    "\n",
    "        k_anaon_data = pd.read_csv(k_anon_data_path, sep=',', header=None).apply(pd.to_numeric).values\n",
    "\n",
    "        u_matrix = self.get_utility_matrix_from_train()\n",
    "\n",
    "        user_to_cluster_dict = {}\n",
    "        for um in tqdm(u_matrix):\n",
    "            user_id = int(um[0])\n",
    "            row_vec = um[1:]\n",
    "        \n",
    "            # Easy case - We have trained on this user before\n",
    "            # Just need to lookup, to see what cluster they belong to\n",
    "            if user_id in id_to_idx_dict and\\\n",
    "            k!=0 and id_to_idx_dict[user_id] in idx_to_kidx_path_dict:            \n",
    "                user_to_cluster_dict[user_id] = idx_to_kidx_path_dict[id_to_idx_dict[user_id]] + 1\n",
    "            elif user_id in id_to_idx_dict and k==0: # user maps to themselves, they were in training data\n",
    "                user_to_cluster_dict[user_id] = id_to_idx_dict[user_id] + 1\n",
    "            else:\n",
    "              #print(f'{user_id} not found in training data!')\n",
    "              user_to_cluster_dict[user_id] = self.find_closest_point(k_anaon_data, row_vec, metric=metric) + 1\n",
    "              #print(f'{user_id} mapped to {user_to_cluster_dict[user_id]}')\n",
    "        \n",
    "        return user_to_cluster_dict\n",
    "      \n",
    "    \n",
    "def avg_mahalanobis_dist(user_movie_matrix, anon_matrix, useridx_to_cluster):\n",
    "    ##user_movie_matrix and anon_matrix are numpy arrays\n",
    "    #useridx_to_cluster is a dictionary mapping the index to a cluster\n",
    "    d = dict()\n",
    "    stdev = np.std(anon_matrix, axis = 0)\n",
    "    for u, user in enumerate(user_movie_matrix):\n",
    "        ##some users are not mapped to clusters\n",
    "        if u in useridx_to_cluster.keys():\n",
    "            cluster_idx = idx_to_cluster[u]\n",
    "            cluster = anon_matrix[cluster_idx]\n",
    "            d[u] = mahalanobis_dist(user, cluster, stdev)\n",
    "    return np.mean(list(d.values()))"
   ]
  },
  {
   "cell_type": "code",
   "execution_count": 11,
   "metadata": {},
   "outputs": [],
   "source": [
    "BASE_OUTPUT_FOLDER = \"/home/fastuser/msft_ncf_output/\"\n",
    "MODEL_TYPE=\"NeuMF\"\n",
    "\n",
    "def get_recommendations_per_user(predictions, split_type, iteration, k, dist):\n",
    "    util = Utility(split_type=split_type, iteration=iteration)\n",
    "    user_to_cluster = util.get_closest_k_cluster_to_user_id(k, metric=dist) \n",
    "    actual_user_col = f\"{COL_NAME_USER_ID}_actual\"\n",
    "    user_to_cluster_df = pd.DataFrame.from_dict([{COL_NAME_USER_ID:cluster, actual_user_col:user} for user,cluster in user_to_cluster.items()])\n",
    "    user_to_cluster_df.set_index(COL_NAME_USER_ID, inplace=True) \n",
    "    preds = predictions.set_index(COL_NAME_USER_ID)\n",
    "    preds = preds.join(user_to_cluster_df, how=\"inner\")\n",
    "    preds.reset_index(inplace=True)\n",
    "    preds.drop(columns=COL_NAME_USER_ID,inplace=True)\n",
    "    preds.rename(columns={actual_user_col:COL_NAME_USER_ID}, inplace=True)\n",
    "    return preds\n",
    "\n",
    "def get_base_output_folder(split_type, iteration, k, dist=None, additional_str=None):\n",
    "    base = os.path.join(BASE_OUTPUT_FOLDER, split_type, f\"iteration_{iteration}\", str(k))\n",
    "    if dist is not None:\n",
    "        base = os.path.join(base, dist)\n",
    "    if additional_str is not None:\n",
    "        base = os.path.join(base, additional_str)\n",
    "    return base\n",
    "\n",
    "def get_output_folder_path_for_model(split_type, iteration, k, additional_str=None):\n",
    "    base = get_base_output_folder(split_type,iteration,k, additional_str)\n",
    "    return os.path.join(base, \"model\")\n",
    "\n",
    "def does_model_exist(split_type, iteration, k, additional_str=None):\n",
    "    return os.path.exists(get_output_folder_path_for_model(split_type, iteration, k, additional_str))\n",
    "\n",
    "def save_model(ncf, split_type, iteration, k, additional_str=None):\n",
    "    path = get_output_folder_path_for_model(split_type, iteration, k, additional_str)\n",
    "    ncf.save(path)\n",
    "    print(f\"Saved to: {path}\")\n",
    "\n",
    "def load_model(ncf, split_type, iteration, k, additional_str=None):\n",
    "    ncf.load(neumf_dir=get_output_folder_path_for_model(split_type, iteration, k, additional_str))\n",
    "    return ncf\n",
    "\n",
    "def get_new_model(data,\n",
    "                  model_type=MODEL_TYPE,\n",
    "                  n_factors=4,\n",
    "                  layer_sizes=[16,8,4],\n",
    "                  n_epochs=EPOCHS,\n",
    "                 batch_size=BATCH_SIZE,\n",
    "                 lr=1e-3):\n",
    "    model = NCF (\n",
    "        n_users=data.n_users, \n",
    "        n_items=data.n_items,\n",
    "        model_type=model_type,\n",
    "        n_factors=n_factors,\n",
    "        layer_sizes=layer_sizes,\n",
    "        n_epochs=n_epochs,\n",
    "        batch_size=batch_size,\n",
    "        learning_rate=lr,\n",
    "        verbose=10,\n",
    "        seed=SEED\n",
    "    )\n",
    "    model.set_indices(data)\n",
    "    return model\n",
    "\n",
    "def get_dataset(split_type, iteration, k):\n",
    "    return Utility(split_type=split_type, iteration=iteration).get_msft_ncf_dataset(k)\n",
    "\n",
    "def predict(model, train):\n",
    "    with Timer() as test_time:\n",
    "        users, items, preds = [], [], []\n",
    "        item = list(train[COL_NAME_MOVIE_ID].unique())\n",
    "        for user in train[COL_NAME_USER_ID].unique():\n",
    "            user = [user] * len(item) \n",
    "            users.extend(user)\n",
    "            items.extend(item)\n",
    "            preds.extend(list(model.predict(user, item, is_list=True)))\n",
    "\n",
    "    all_predictions = pd.DataFrame(data={COL_NAME_USER_ID: users, COL_NAME_MOVIE_ID:items, COL_NAME_PREDICTION:preds})\n",
    "\n",
    "    merged = pd.merge(train, all_predictions, on=[COL_NAME_USER_ID, COL_NAME_MOVIE_ID], how=\"outer\")\n",
    "    all_predictions = merged[merged.rating.isnull()].drop(COL_NAME_RATING, axis=1)\n",
    "\n",
    "    print(\"Took {} seconds for prediction.\".format(test_time))\n",
    "    return all_predictions\n",
    "\n",
    "import pathlib\n",
    "\n",
    "    \n",
    "class FileSaver(object):\n",
    "    def __init__(self, file_name, save_func, load_func, base_path_func=get_base_output_folder):\n",
    "        self.base_path_func = base_path_func\n",
    "        self.file_name = file_name\n",
    "        self.save_func = save_func\n",
    "        self.load_func = load_func\n",
    "    \n",
    "    def get_file_path(self, split_type, iteration, k, dist=None, additional_str=None):\n",
    "        base = self.base_path_func(split_type,iteration,k, dist, additional_str)\n",
    "        print(base)\n",
    "        pathlib.Path(base).mkdir(parents=True, exist_ok=True)\n",
    "        file_path = os.path.join(base, self.file_name)\n",
    "        return file_path\n",
    "\n",
    "    def save(self, item, split_type, iteration, k, dist=None, additional_str=None):\n",
    "        path = self.get_file_path(split_type, iteration, k, dist, additional_str)\n",
    "        self.save_func(item, path)\n",
    "        print(f\"Saved item to {path}\")\n",
    "    \n",
    "    def load(self, split_type, iteration, k, item=None , dist=None, additional_str=None):\n",
    "        return self.load_func(item, self.get_file_path(split_type, iteration, k, dist, additional_str))\n",
    "    \n",
    "    def does_exist(self, split_type, iteration, k, dist=None, additional_str=None):\n",
    "        return os.path.exists(self.get_file_path(split_type, iteration, k, dist, additional_str))\n",
    "\n",
    "def evaluate_from_cluster(cluster_predictions, split_type, iteration, k, dist_type, top_k=TOP_K, data_eval='test'):\n",
    "    user_preds = get_recommendations_per_user(cluster_predictions, split_type, iteration,k, dist_type)\n",
    "    return evaluate(user_preds, split_type, iteration, top_k=top_k, data_eval=data_eval)\n",
    "    \n",
    "def evaluate(predictions, split_type, iteration, top_k=TOP_K, data_eval='test'):\n",
    "    test = None\n",
    "    util = Utility(split_type=split_type, iteration=iteration)\n",
    "    if data_eval == 'test':\n",
    "        test = util.get_test_data()\n",
    "    elif data_eval == 'validation':\n",
    "        test = util.get_validation_data()\n",
    "    else:\n",
    "        raise Exception('Invalid data_eval type')\n",
    "    eval_precision, eval_recall, eval_hr, eval_map, eval_ndcg = precision_recall_hr_map_ndcg_at_k(test, predictions, col_prediction='prediction', col_user=COL_NAME_USER_ID, col_item=COL_NAME_MOVIE_ID, k=top_k)\n",
    "    \n",
    "    print(\"MAP:\\t%f\" % eval_map,\n",
    "          \"NDCG:\\t%f\" % eval_ndcg,\n",
    "          \"Precision@K:\\t%f\" % eval_precision,\n",
    "          \"Recall@K:\\t%f\" % eval_recall,\n",
    "          \"HR@K:\\t%f\" % eval_hr, sep='\\n') \n",
    "    return eval_map, eval_ndcg, eval_precision, eval_recall, eval_hr\n",
    "    \n",
    "def get_df_filesaver(file_name):\n",
    "    return FileSaver(\n",
    "    file_name,\\\n",
    "    save_func=lambda i,f: i.to_csv(f),\\\n",
    "    load_func=lambda i,f: pd.read_csv(f, index_col=0))\n",
    "\n",
    "\n",
    "ClusterPredictionSaver = get_df_filesaver('cluster_level_predictions.csv')\n",
    "RatingsParamsSaver = get_df_filesaver('ratings_params.csv')\n",
    "UsersParamsSaver = get_df_filesaver('users_params.csv')\n",
    "\n",
    "\n",
    "\n"
   ]
  },
  {
   "cell_type": "raw",
   "metadata": {},
   "source": [
    "# get_msft_ncf_dataset\n",
    "\n",
    "ks = Utility('ratings').get_ks()\n",
    "iterations = range(1,6)\n",
    "dist_types = ['euclidean', 'jaccard']\n",
    "split_types = ['ratings', 'users']\n",
    "OVERWRITE_TRAINED_MODEL = False\n",
    "OVERWRITE_PREDICTION = False\n",
    "ADDITIONAL_STR = \"v2_epochs50\"\n",
    "\n",
    "for iteration in [1]:#iterations:\n",
    "    for k in [0]:#ks:\n",
    "        for split_type in split_types:\n",
    "            print(f\"Training model for: {split_type} | {iteration} | {k}\")\n",
    "            model = None\n",
    "            if does_model_exist(split_type, iteration, k, additional_str=ADDITIONAL_STR) and not OVERWRITE_TRAINED_MODEL:\n",
    "                #skip training\n",
    "                print(f\"Skipping this model, already trained.\")\n",
    "                data, train = get_dataset(split_type, iteration, k)\n",
    "                model = get_new_model(data)\n",
    "                model = load_model(model, split_type, iteration, k, additional_str=ADDITIONAL_STR)\n",
    "            else: # train model\n",
    "                print(\"Training model...\")\n",
    "                data, train = get_dataset(split_type, iteration, k)\n",
    "                model = get_new_model(data)\n",
    "                with Timer() as train_time:\n",
    "                    model.fit(data)\n",
    "                print(\"Took {} seconds for training.\".format(train_time))\n",
    "                save_model(model, split_type, iteration, k, additional_str=ADDITIONAL_STR)\n",
    "            print(\"Predicting...\")\n",
    "            if ClusterPredictionSaver.does_exist(split_type, iteration, k, additional_str=ADDITIONAL_STR) and not OVERWRITE_PREDICTION:\n",
    "                print(\"Already predicted skipping...\")\n",
    "            else:\n",
    "                predictions = predict(model, train)\n",
    "                ClusterPredictionSaver.save(predictions, split_type, iteration, k, additional_str=ADDITIONAL_STR)"
   ]
  },
  {
   "cell_type": "code",
   "execution_count": 12,
   "metadata": {},
   "outputs": [
    {
     "name": "stdout",
     "output_type": "stream",
     "text": [
      "/home/fastuser/msft_ncf_output/ratings/iteration_1/0\n"
     ]
    },
    {
     "name": "stderr",
     "output_type": "stream",
     "text": [
      "/home/fastuser/miniconda3/envs/reco_gpu/lib/python3.6/site-packages/numpy/lib/arraysetops.py:569: FutureWarning: elementwise comparison failed; returning scalar instead, but in the future will perform elementwise comparison\n",
      "  mask |= (ar1 == a)\n"
     ]
    },
    {
     "data": {
      "application/vnd.jupyter.widget-view+json": {
       "model_id": "f99ba5b2ec384ddf8bed6ba0dc420731",
       "version_major": 2,
       "version_minor": 0
      },
      "text/plain": [
       "  0%|          | 0/610 [00:00<?, ?it/s]"
      ]
     },
     "metadata": {},
     "output_type": "display_data"
    },
    {
     "name": "stdout",
     "output_type": "stream",
     "text": [
      "MAP:\t0.042618\n",
      "NDCG:\t0.129711\n",
      "Precision@K:\t0.099337\n",
      "Recall@K:\t0.097293\n",
      "HR@K:\t0.533997\n"
     ]
    },
    {
     "data": {
      "application/vnd.jupyter.widget-view+json": {
       "model_id": "08d059977c084eaca53d5aadf8c3047f",
       "version_major": 2,
       "version_minor": 0
      },
      "text/plain": [
       "  0%|          | 0/610 [00:00<?, ?it/s]"
      ]
     },
     "metadata": {},
     "output_type": "display_data"
    },
    {
     "name": "stdout",
     "output_type": "stream",
     "text": [
      "MAP:\t0.042618\n",
      "NDCG:\t0.129711\n",
      "Precision@K:\t0.099337\n",
      "Recall@K:\t0.097293\n",
      "HR@K:\t0.533997\n",
      "/home/fastuser/msft_ncf_output/users/iteration_1/0\n"
     ]
    },
    {
     "name": "stderr",
     "output_type": "stream",
     "text": [
      "/home/fastuser/miniconda3/envs/reco_gpu/lib/python3.6/site-packages/numpy/lib/arraysetops.py:569: FutureWarning: elementwise comparison failed; returning scalar instead, but in the future will perform elementwise comparison\n",
      "  mask |= (ar1 == a)\n"
     ]
    },
    {
     "data": {
      "application/vnd.jupyter.widget-view+json": {
       "model_id": "84bf490e2ef845ffb2668f8fde5102c0",
       "version_major": 2,
       "version_minor": 0
      },
      "text/plain": [
       "  0%|          | 0/610 [00:00<?, ?it/s]"
      ]
     },
     "metadata": {},
     "output_type": "display_data"
    },
    {
     "name": "stdout",
     "output_type": "stream",
     "text": [
      "MAP:\t0.022280\n",
      "NDCG:\t0.263104\n",
      "Precision@K:\t0.244262\n",
      "Recall@K:\t0.042689\n",
      "HR@K:\t0.786885\n"
     ]
    },
    {
     "data": {
      "application/vnd.jupyter.widget-view+json": {
       "model_id": "2666b3cd7280443a97b9f6369681ba32",
       "version_major": 2,
       "version_minor": 0
      },
      "text/plain": [
       "  0%|          | 0/610 [00:00<?, ?it/s]"
      ]
     },
     "metadata": {},
     "output_type": "display_data"
    },
    {
     "name": "stdout",
     "output_type": "stream",
     "text": [
      "MAP:\t0.019024\n",
      "NDCG:\t0.182734\n",
      "Precision@K:\t0.168852\n",
      "Recall@K:\t0.034852\n",
      "HR@K:\t0.672131\n",
      "/home/fastuser/msft_ncf_output/ratings/iteration_1/5\n"
     ]
    },
    {
     "name": "stderr",
     "output_type": "stream",
     "text": [
      "/home/fastuser/miniconda3/envs/reco_gpu/lib/python3.6/site-packages/numpy/lib/arraysetops.py:569: FutureWarning: elementwise comparison failed; returning scalar instead, but in the future will perform elementwise comparison\n",
      "  mask |= (ar1 == a)\n"
     ]
    },
    {
     "data": {
      "application/vnd.jupyter.widget-view+json": {
       "model_id": "d23b920de2844feaa9d8c2e4f60afc48",
       "version_major": 2,
       "version_minor": 0
      },
      "text/plain": [
       "  0%|          | 0/610 [00:00<?, ?it/s]"
      ]
     },
     "metadata": {},
     "output_type": "display_data"
    },
    {
     "name": "stdout",
     "output_type": "stream",
     "text": [
      "MAP:\t0.012860\n",
      "NDCG:\t0.059119\n",
      "Precision@K:\t0.049420\n",
      "Recall@K:\t0.032367\n",
      "HR@K:\t0.308458\n"
     ]
    },
    {
     "data": {
      "application/vnd.jupyter.widget-view+json": {
       "model_id": "5ebb94a711514549801fe6288295b02a",
       "version_major": 2,
       "version_minor": 0
      },
      "text/plain": [
       "  0%|          | 0/610 [00:00<?, ?it/s]"
      ]
     },
     "metadata": {},
     "output_type": "display_data"
    },
    {
     "name": "stdout",
     "output_type": "stream",
     "text": [
      "MAP:\t0.012860\n",
      "NDCG:\t0.059119\n",
      "Precision@K:\t0.049420\n",
      "Recall@K:\t0.032367\n",
      "HR@K:\t0.308458\n",
      "/home/fastuser/msft_ncf_output/users/iteration_1/5\n"
     ]
    },
    {
     "data": {
      "application/vnd.jupyter.widget-view+json": {
       "model_id": "9d255e01162b48cba5a27d1fe6570a13",
       "version_major": 2,
       "version_minor": 0
      },
      "text/plain": [
       "  0%|          | 0/610 [00:00<?, ?it/s]"
      ]
     },
     "metadata": {},
     "output_type": "display_data"
    },
    {
     "name": "stdout",
     "output_type": "stream",
     "text": [
      "MAP:\t0.000806\n",
      "NDCG:\t0.024254\n",
      "Precision@K:\t0.026230\n",
      "Recall@K:\t0.003181\n",
      "HR@K:\t0.196721\n"
     ]
    },
    {
     "data": {
      "application/vnd.jupyter.widget-view+json": {
       "model_id": "38d1d0fa42be4e9daef3dd8db4c3f20d",
       "version_major": 2,
       "version_minor": 0
      },
      "text/plain": [
       "  0%|          | 0/610 [00:00<?, ?it/s]"
      ]
     },
     "metadata": {},
     "output_type": "display_data"
    },
    {
     "name": "stdout",
     "output_type": "stream",
     "text": [
      "MAP:\t0.012566\n",
      "NDCG:\t0.171310\n",
      "Precision@K:\t0.154098\n",
      "Recall@K:\t0.022406\n",
      "HR@K:\t0.573770\n",
      "/home/fastuser/msft_ncf_output/ratings/iteration_1/8\n"
     ]
    },
    {
     "data": {
      "application/vnd.jupyter.widget-view+json": {
       "model_id": "215b96908370434eb5d3be8169c09252",
       "version_major": 2,
       "version_minor": 0
      },
      "text/plain": [
       "  0%|          | 0/610 [00:00<?, ?it/s]"
      ]
     },
     "metadata": {},
     "output_type": "display_data"
    },
    {
     "name": "stdout",
     "output_type": "stream",
     "text": [
      "MAP:\t0.009052\n",
      "NDCG:\t0.040806\n",
      "Precision@K:\t0.032504\n",
      "Recall@K:\t0.020813\n",
      "HR@K:\t0.210614\n"
     ]
    },
    {
     "data": {
      "application/vnd.jupyter.widget-view+json": {
       "model_id": "d4fc1851689a4e898cc70a5d3d8f3352",
       "version_major": 2,
       "version_minor": 0
      },
      "text/plain": [
       "  0%|          | 0/610 [00:00<?, ?it/s]"
      ]
     },
     "metadata": {},
     "output_type": "display_data"
    },
    {
     "name": "stdout",
     "output_type": "stream",
     "text": [
      "MAP:\t0.009052\n",
      "NDCG:\t0.040806\n",
      "Precision@K:\t0.032504\n",
      "Recall@K:\t0.020813\n",
      "HR@K:\t0.210614\n",
      "/home/fastuser/msft_ncf_output/users/iteration_1/8\n"
     ]
    },
    {
     "data": {
      "application/vnd.jupyter.widget-view+json": {
       "model_id": "ed93e04187b94e72a1e24e737d6e0e7d",
       "version_major": 2,
       "version_minor": 0
      },
      "text/plain": [
       "  0%|          | 0/610 [00:00<?, ?it/s]"
      ]
     },
     "metadata": {},
     "output_type": "display_data"
    },
    {
     "name": "stdout",
     "output_type": "stream",
     "text": [
      "MAP:\t0.009710\n",
      "NDCG:\t0.155482\n",
      "Precision@K:\t0.145902\n",
      "Recall@K:\t0.021396\n",
      "HR@K:\t0.672131\n"
     ]
    },
    {
     "data": {
      "application/vnd.jupyter.widget-view+json": {
       "model_id": "6ed343245f4748beab3f8599f21b6605",
       "version_major": 2,
       "version_minor": 0
      },
      "text/plain": [
       "  0%|          | 0/610 [00:00<?, ?it/s]"
      ]
     },
     "metadata": {},
     "output_type": "display_data"
    },
    {
     "name": "stdout",
     "output_type": "stream",
     "text": [
      "MAP:\t0.011016\n",
      "NDCG:\t0.140288\n",
      "Precision@K:\t0.132787\n",
      "Recall@K:\t0.024293\n",
      "HR@K:\t0.655738\n",
      "/home/fastuser/msft_ncf_output/ratings/iteration_1/12\n"
     ]
    },
    {
     "data": {
      "application/vnd.jupyter.widget-view+json": {
       "model_id": "0d32e70838ab4859a3e83f7fc78be94c",
       "version_major": 2,
       "version_minor": 0
      },
      "text/plain": [
       "  0%|          | 0/610 [00:00<?, ?it/s]"
      ]
     },
     "metadata": {},
     "output_type": "display_data"
    },
    {
     "name": "stdout",
     "output_type": "stream",
     "text": [
      "MAP:\t0.005524\n",
      "NDCG:\t0.023435\n",
      "Precision@K:\t0.020564\n",
      "Recall@K:\t0.013326\n",
      "HR@K:\t0.152570\n"
     ]
    },
    {
     "data": {
      "application/vnd.jupyter.widget-view+json": {
       "model_id": "6a0d14aac1cf4f5d958213ff4e284c1b",
       "version_major": 2,
       "version_minor": 0
      },
      "text/plain": [
       "  0%|          | 0/610 [00:00<?, ?it/s]"
      ]
     },
     "metadata": {},
     "output_type": "display_data"
    },
    {
     "name": "stdout",
     "output_type": "stream",
     "text": [
      "MAP:\t0.005486\n",
      "NDCG:\t0.022734\n",
      "Precision@K:\t0.019569\n",
      "Recall@K:\t0.013030\n",
      "HR@K:\t0.142620\n",
      "/home/fastuser/msft_ncf_output/users/iteration_1/12\n"
     ]
    },
    {
     "data": {
      "application/vnd.jupyter.widget-view+json": {
       "model_id": "99d47f9596bb4c20b73c1c265ebbc3c0",
       "version_major": 2,
       "version_minor": 0
      },
      "text/plain": [
       "  0%|          | 0/610 [00:00<?, ?it/s]"
      ]
     },
     "metadata": {},
     "output_type": "display_data"
    },
    {
     "name": "stdout",
     "output_type": "stream",
     "text": [
      "MAP:\t0.004322\n",
      "NDCG:\t0.087259\n",
      "Precision@K:\t0.077049\n",
      "Recall@K:\t0.009974\n",
      "HR@K:\t0.360656\n"
     ]
    },
    {
     "data": {
      "application/vnd.jupyter.widget-view+json": {
       "model_id": "ed9823edec534fd4859268dad39d4116",
       "version_major": 2,
       "version_minor": 0
      },
      "text/plain": [
       "  0%|          | 0/610 [00:00<?, ?it/s]"
      ]
     },
     "metadata": {},
     "output_type": "display_data"
    },
    {
     "name": "stdout",
     "output_type": "stream",
     "text": [
      "MAP:\t0.005035\n",
      "NDCG:\t0.104332\n",
      "Precision@K:\t0.098361\n",
      "Recall@K:\t0.012965\n",
      "HR@K:\t0.524590\n",
      "/home/fastuser/msft_ncf_output/ratings/iteration_1/15\n"
     ]
    },
    {
     "data": {
      "application/vnd.jupyter.widget-view+json": {
       "model_id": "6008a1f77952444ba04ac86ab4d57eb4",
       "version_major": 2,
       "version_minor": 0
      },
      "text/plain": [
       "  0%|          | 0/610 [00:00<?, ?it/s]"
      ]
     },
     "metadata": {},
     "output_type": "display_data"
    },
    {
     "name": "stdout",
     "output_type": "stream",
     "text": [
      "MAP:\t0.002883\n",
      "NDCG:\t0.017377\n",
      "Precision@K:\t0.015423\n",
      "Recall@K:\t0.007561\n",
      "HR@K:\t0.119403\n"
     ]
    },
    {
     "data": {
      "application/vnd.jupyter.widget-view+json": {
       "model_id": "ffa97cda1fbc4fa5811550f5300ed950",
       "version_major": 2,
       "version_minor": 0
      },
      "text/plain": [
       "  0%|          | 0/610 [00:00<?, ?it/s]"
      ]
     },
     "metadata": {},
     "output_type": "display_data"
    },
    {
     "name": "stdout",
     "output_type": "stream",
     "text": [
      "MAP:\t0.002816\n",
      "NDCG:\t0.016981\n",
      "Precision@K:\t0.015257\n",
      "Recall@K:\t0.007521\n",
      "HR@K:\t0.117745\n",
      "/home/fastuser/msft_ncf_output/users/iteration_1/15\n"
     ]
    },
    {
     "data": {
      "application/vnd.jupyter.widget-view+json": {
       "model_id": "bcaea95f8bef4209aee7e70164b30e5c",
       "version_major": 2,
       "version_minor": 0
      },
      "text/plain": [
       "  0%|          | 0/610 [00:00<?, ?it/s]"
      ]
     },
     "metadata": {},
     "output_type": "display_data"
    },
    {
     "name": "stdout",
     "output_type": "stream",
     "text": [
      "MAP:\t0.002920\n",
      "NDCG:\t0.056049\n",
      "Precision@K:\t0.050820\n",
      "Recall@K:\t0.006140\n",
      "HR@K:\t0.327869\n"
     ]
    },
    {
     "data": {
      "application/vnd.jupyter.widget-view+json": {
       "model_id": "a1c89fd3967f4583a2cb20d3030d62ac",
       "version_major": 2,
       "version_minor": 0
      },
      "text/plain": [
       "  0%|          | 0/610 [00:00<?, ?it/s]"
      ]
     },
     "metadata": {},
     "output_type": "display_data"
    },
    {
     "name": "stdout",
     "output_type": "stream",
     "text": [
      "MAP:\t0.005365\n",
      "NDCG:\t0.085110\n",
      "Precision@K:\t0.077049\n",
      "Recall@K:\t0.011363\n",
      "HR@K:\t0.475410\n",
      "/home/fastuser/msft_ncf_output/ratings/iteration_1/20\n"
     ]
    },
    {
     "data": {
      "application/vnd.jupyter.widget-view+json": {
       "model_id": "ae322619d0594146b4c3bae7eff415b7",
       "version_major": 2,
       "version_minor": 0
      },
      "text/plain": [
       "  0%|          | 0/610 [00:00<?, ?it/s]"
      ]
     },
     "metadata": {},
     "output_type": "display_data"
    },
    {
     "name": "stdout",
     "output_type": "stream",
     "text": [
      "MAP:\t0.002422\n",
      "NDCG:\t0.011066\n",
      "Precision@K:\t0.009287\n",
      "Recall@K:\t0.007000\n",
      "HR@K:\t0.072968\n"
     ]
    },
    {
     "data": {
      "application/vnd.jupyter.widget-view+json": {
       "model_id": "36c9ce91ce3441d38f50c9552461e3ba",
       "version_major": 2,
       "version_minor": 0
      },
      "text/plain": [
       "  0%|          | 0/610 [00:00<?, ?it/s]"
      ]
     },
     "metadata": {},
     "output_type": "display_data"
    },
    {
     "name": "stdout",
     "output_type": "stream",
     "text": [
      "MAP:\t0.002392\n",
      "NDCG:\t0.010806\n",
      "Precision@K:\t0.009287\n",
      "Recall@K:\t0.007013\n",
      "HR@K:\t0.072968\n",
      "/home/fastuser/msft_ncf_output/users/iteration_1/20\n"
     ]
    },
    {
     "data": {
      "application/vnd.jupyter.widget-view+json": {
       "model_id": "267c4b6ffd514a7dac8cf03011ca3855",
       "version_major": 2,
       "version_minor": 0
      },
      "text/plain": [
       "  0%|          | 0/610 [00:00<?, ?it/s]"
      ]
     },
     "metadata": {},
     "output_type": "display_data"
    },
    {
     "name": "stdout",
     "output_type": "stream",
     "text": [
      "MAP:\t0.000185\n",
      "NDCG:\t0.010225\n",
      "Precision@K:\t0.009836\n",
      "Recall@K:\t0.000644\n",
      "HR@K:\t0.081967\n"
     ]
    },
    {
     "data": {
      "application/vnd.jupyter.widget-view+json": {
       "model_id": "182369eef11b4fc9ae80b5e4c31a320c",
       "version_major": 2,
       "version_minor": 0
      },
      "text/plain": [
       "  0%|          | 0/610 [00:00<?, ?it/s]"
      ]
     },
     "metadata": {},
     "output_type": "display_data"
    },
    {
     "name": "stdout",
     "output_type": "stream",
     "text": [
      "MAP:\t0.004266\n",
      "NDCG:\t0.066572\n",
      "Precision@K:\t0.063934\n",
      "Recall@K:\t0.008898\n",
      "HR@K:\t0.360656\n",
      "/home/fastuser/msft_ncf_output/ratings/iteration_1/25\n"
     ]
    },
    {
     "data": {
      "application/vnd.jupyter.widget-view+json": {
       "model_id": "004ea97e24c94803b27ad34754b01b85",
       "version_major": 2,
       "version_minor": 0
      },
      "text/plain": [
       "  0%|          | 0/610 [00:00<?, ?it/s]"
      ]
     },
     "metadata": {},
     "output_type": "display_data"
    },
    {
     "name": "stdout",
     "output_type": "stream",
     "text": [
      "MAP:\t0.004008\n",
      "NDCG:\t0.012933\n",
      "Precision@K:\t0.008955\n",
      "Recall@K:\t0.006904\n",
      "HR@K:\t0.074627\n"
     ]
    },
    {
     "data": {
      "application/vnd.jupyter.widget-view+json": {
       "model_id": "a121ff46fd894a1c8eea39632c167471",
       "version_major": 2,
       "version_minor": 0
      },
      "text/plain": [
       "  0%|          | 0/610 [00:00<?, ?it/s]"
      ]
     },
     "metadata": {},
     "output_type": "display_data"
    },
    {
     "name": "stdout",
     "output_type": "stream",
     "text": [
      "MAP:\t0.003986\n",
      "NDCG:\t0.012710\n",
      "Precision@K:\t0.008789\n",
      "Recall@K:\t0.006871\n",
      "HR@K:\t0.072968\n",
      "/home/fastuser/msft_ncf_output/users/iteration_1/25\n"
     ]
    },
    {
     "data": {
      "application/vnd.jupyter.widget-view+json": {
       "model_id": "012e528a30794ad390ad4a816438d357",
       "version_major": 2,
       "version_minor": 0
      },
      "text/plain": [
       "  0%|          | 0/610 [00:00<?, ?it/s]"
      ]
     },
     "metadata": {},
     "output_type": "display_data"
    },
    {
     "name": "stdout",
     "output_type": "stream",
     "text": [
      "MAP:\t0.001347\n",
      "NDCG:\t0.027280\n",
      "Precision@K:\t0.024590\n",
      "Recall@K:\t0.002740\n",
      "HR@K:\t0.229508\n"
     ]
    },
    {
     "data": {
      "application/vnd.jupyter.widget-view+json": {
       "model_id": "e0e6d3a6dc2c431281dd8d76ab79d035",
       "version_major": 2,
       "version_minor": 0
      },
      "text/plain": [
       "  0%|          | 0/610 [00:00<?, ?it/s]"
      ]
     },
     "metadata": {},
     "output_type": "display_data"
    },
    {
     "name": "stdout",
     "output_type": "stream",
     "text": [
      "MAP:\t0.002199\n",
      "NDCG:\t0.057684\n",
      "Precision@K:\t0.060656\n",
      "Recall@K:\t0.006825\n",
      "HR@K:\t0.393443\n",
      "/home/fastuser/msft_ncf_output/ratings/iteration_2/0\n"
     ]
    },
    {
     "name": "stderr",
     "output_type": "stream",
     "text": [
      "/home/fastuser/miniconda3/envs/reco_gpu/lib/python3.6/site-packages/numpy/lib/arraysetops.py:569: FutureWarning: elementwise comparison failed; returning scalar instead, but in the future will perform elementwise comparison\n",
      "  mask |= (ar1 == a)\n"
     ]
    },
    {
     "data": {
      "application/vnd.jupyter.widget-view+json": {
       "model_id": "fdafde0123fe4b6baff6e55cb3823757",
       "version_major": 2,
       "version_minor": 0
      },
      "text/plain": [
       "  0%|          | 0/610 [00:00<?, ?it/s]"
      ]
     },
     "metadata": {},
     "output_type": "display_data"
    },
    {
     "name": "stdout",
     "output_type": "stream",
     "text": [
      "MAP:\t0.045398\n",
      "NDCG:\t0.133388\n",
      "Precision@K:\t0.101163\n",
      "Recall@K:\t0.100637\n",
      "HR@K:\t0.521595\n"
     ]
    },
    {
     "data": {
      "application/vnd.jupyter.widget-view+json": {
       "model_id": "e02fc7ba72e14cdb9120d328b18575a9",
       "version_major": 2,
       "version_minor": 0
      },
      "text/plain": [
       "  0%|          | 0/610 [00:00<?, ?it/s]"
      ]
     },
     "metadata": {},
     "output_type": "display_data"
    },
    {
     "name": "stdout",
     "output_type": "stream",
     "text": [
      "MAP:\t0.045398\n",
      "NDCG:\t0.133388\n",
      "Precision@K:\t0.101163\n",
      "Recall@K:\t0.100637\n",
      "HR@K:\t0.521595\n",
      "/home/fastuser/msft_ncf_output/users/iteration_2/0\n"
     ]
    },
    {
     "name": "stderr",
     "output_type": "stream",
     "text": [
      "/home/fastuser/miniconda3/envs/reco_gpu/lib/python3.6/site-packages/numpy/lib/arraysetops.py:569: FutureWarning: elementwise comparison failed; returning scalar instead, but in the future will perform elementwise comparison\n",
      "  mask |= (ar1 == a)\n"
     ]
    },
    {
     "data": {
      "application/vnd.jupyter.widget-view+json": {
       "model_id": "fcece65ae3954a798d7361cc04eb875a",
       "version_major": 2,
       "version_minor": 0
      },
      "text/plain": [
       "  0%|          | 0/610 [00:00<?, ?it/s]"
      ]
     },
     "metadata": {},
     "output_type": "display_data"
    },
    {
     "name": "stdout",
     "output_type": "stream",
     "text": [
      "MAP:\t0.021304\n",
      "NDCG:\t0.306783\n",
      "Precision@K:\t0.288525\n",
      "Recall@K:\t0.035202\n",
      "HR@K:\t0.754098\n"
     ]
    },
    {
     "data": {
      "application/vnd.jupyter.widget-view+json": {
       "model_id": "2f75e7ebeadd459c9ffdd4a2a228306f",
       "version_major": 2,
       "version_minor": 0
      },
      "text/plain": [
       "  0%|          | 0/610 [00:00<?, ?it/s]"
      ]
     },
     "metadata": {},
     "output_type": "display_data"
    },
    {
     "name": "stdout",
     "output_type": "stream",
     "text": [
      "MAP:\t0.019515\n",
      "NDCG:\t0.291034\n",
      "Precision@K:\t0.277049\n",
      "Recall@K:\t0.032622\n",
      "HR@K:\t0.704918\n",
      "/home/fastuser/msft_ncf_output/ratings/iteration_2/5\n"
     ]
    },
    {
     "name": "stderr",
     "output_type": "stream",
     "text": [
      "/home/fastuser/miniconda3/envs/reco_gpu/lib/python3.6/site-packages/numpy/lib/arraysetops.py:569: FutureWarning: elementwise comparison failed; returning scalar instead, but in the future will perform elementwise comparison\n",
      "  mask |= (ar1 == a)\n"
     ]
    },
    {
     "data": {
      "application/vnd.jupyter.widget-view+json": {
       "model_id": "b3c2abc05ccc4465a7b7857ea6d922a2",
       "version_major": 2,
       "version_minor": 0
      },
      "text/plain": [
       "  0%|          | 0/610 [00:00<?, ?it/s]"
      ]
     },
     "metadata": {},
     "output_type": "display_data"
    },
    {
     "name": "stdout",
     "output_type": "stream",
     "text": [
      "MAP:\t0.015225\n",
      "NDCG:\t0.058489\n",
      "Precision@K:\t0.045847\n",
      "Recall@K:\t0.033942\n",
      "HR@K:\t0.300664\n"
     ]
    },
    {
     "data": {
      "application/vnd.jupyter.widget-view+json": {
       "model_id": "ca0234d9d7904973a88b892db63cb9e4",
       "version_major": 2,
       "version_minor": 0
      },
      "text/plain": [
       "  0%|          | 0/610 [00:00<?, ?it/s]"
      ]
     },
     "metadata": {},
     "output_type": "display_data"
    },
    {
     "name": "stdout",
     "output_type": "stream",
     "text": [
      "MAP:\t0.015225\n",
      "NDCG:\t0.058489\n",
      "Precision@K:\t0.045847\n",
      "Recall@K:\t0.033942\n",
      "HR@K:\t0.300664\n",
      "/home/fastuser/msft_ncf_output/users/iteration_2/5\n"
     ]
    },
    {
     "data": {
      "application/vnd.jupyter.widget-view+json": {
       "model_id": "f2b532a2960441c192e5be3e1571008c",
       "version_major": 2,
       "version_minor": 0
      },
      "text/plain": [
       "  0%|          | 0/610 [00:00<?, ?it/s]"
      ]
     },
     "metadata": {},
     "output_type": "display_data"
    },
    {
     "name": "stdout",
     "output_type": "stream",
     "text": [
      "MAP:\t0.005290\n",
      "NDCG:\t0.129749\n",
      "Precision@K:\t0.124590\n",
      "Recall@K:\t0.014564\n",
      "HR@K:\t0.590164\n"
     ]
    },
    {
     "data": {
      "application/vnd.jupyter.widget-view+json": {
       "model_id": "13e90bc1cc5740e3b56ba83e0621f3f1",
       "version_major": 2,
       "version_minor": 0
      },
      "text/plain": [
       "  0%|          | 0/610 [00:00<?, ?it/s]"
      ]
     },
     "metadata": {},
     "output_type": "display_data"
    },
    {
     "name": "stdout",
     "output_type": "stream",
     "text": [
      "MAP:\t0.008620\n",
      "NDCG:\t0.194954\n",
      "Precision@K:\t0.190164\n",
      "Recall@K:\t0.020576\n",
      "HR@K:\t0.721311\n",
      "/home/fastuser/msft_ncf_output/ratings/iteration_2/8\n"
     ]
    },
    {
     "data": {
      "application/vnd.jupyter.widget-view+json": {
       "model_id": "124ab6a89d5c473fb286dfbc53523f81",
       "version_major": 2,
       "version_minor": 0
      },
      "text/plain": [
       "  0%|          | 0/610 [00:00<?, ?it/s]"
      ]
     },
     "metadata": {},
     "output_type": "display_data"
    },
    {
     "name": "stdout",
     "output_type": "stream",
     "text": [
      "MAP:\t0.011201\n",
      "NDCG:\t0.042726\n",
      "Precision@K:\t0.033721\n",
      "Recall@K:\t0.027839\n",
      "HR@K:\t0.225914\n"
     ]
    },
    {
     "data": {
      "application/vnd.jupyter.widget-view+json": {
       "model_id": "63aae4e40d71451aad809f6209148d0e",
       "version_major": 2,
       "version_minor": 0
      },
      "text/plain": [
       "  0%|          | 0/610 [00:00<?, ?it/s]"
      ]
     },
     "metadata": {},
     "output_type": "display_data"
    },
    {
     "name": "stdout",
     "output_type": "stream",
     "text": [
      "MAP:\t0.011201\n",
      "NDCG:\t0.042726\n",
      "Precision@K:\t0.033721\n",
      "Recall@K:\t0.027839\n",
      "HR@K:\t0.225914\n",
      "/home/fastuser/msft_ncf_output/users/iteration_2/8\n"
     ]
    },
    {
     "data": {
      "application/vnd.jupyter.widget-view+json": {
       "model_id": "3302cfbbf0f94940a42da801ce54cb4d",
       "version_major": 2,
       "version_minor": 0
      },
      "text/plain": [
       "  0%|          | 0/610 [00:00<?, ?it/s]"
      ]
     },
     "metadata": {},
     "output_type": "display_data"
    },
    {
     "name": "stdout",
     "output_type": "stream",
     "text": [
      "MAP:\t0.003217\n",
      "NDCG:\t0.088168\n",
      "Precision@K:\t0.103279\n",
      "Recall@K:\t0.010713\n",
      "HR@K:\t0.491803\n"
     ]
    },
    {
     "data": {
      "application/vnd.jupyter.widget-view+json": {
       "model_id": "b1369b95fe72417097ea4a707db8ab93",
       "version_major": 2,
       "version_minor": 0
      },
      "text/plain": [
       "  0%|          | 0/610 [00:00<?, ?it/s]"
      ]
     },
     "metadata": {},
     "output_type": "display_data"
    },
    {
     "name": "stdout",
     "output_type": "stream",
     "text": [
      "MAP:\t0.004222\n",
      "NDCG:\t0.146950\n",
      "Precision@K:\t0.144262\n",
      "Recall@K:\t0.011223\n",
      "HR@K:\t0.524590\n",
      "/home/fastuser/msft_ncf_output/ratings/iteration_2/12\n"
     ]
    },
    {
     "data": {
      "application/vnd.jupyter.widget-view+json": {
       "model_id": "7162ddcc700945c5b75833140a29d9c7",
       "version_major": 2,
       "version_minor": 0
      },
      "text/plain": [
       "  0%|          | 0/610 [00:00<?, ?it/s]"
      ]
     },
     "metadata": {},
     "output_type": "display_data"
    },
    {
     "name": "stdout",
     "output_type": "stream",
     "text": [
      "MAP:\t0.008350\n",
      "NDCG:\t0.030322\n",
      "Precision@K:\t0.022924\n",
      "Recall@K:\t0.021062\n",
      "HR@K:\t0.161130\n"
     ]
    },
    {
     "data": {
      "application/vnd.jupyter.widget-view+json": {
       "model_id": "65793ede4ac94dfda382ea3c30dcb881",
       "version_major": 2,
       "version_minor": 0
      },
      "text/plain": [
       "  0%|          | 0/610 [00:00<?, ?it/s]"
      ]
     },
     "metadata": {},
     "output_type": "display_data"
    },
    {
     "name": "stdout",
     "output_type": "stream",
     "text": [
      "MAP:\t0.008400\n",
      "NDCG:\t0.030699\n",
      "Precision@K:\t0.023256\n",
      "Recall@K:\t0.021186\n",
      "HR@K:\t0.164452\n",
      "/home/fastuser/msft_ncf_output/users/iteration_2/12\n"
     ]
    },
    {
     "data": {
      "application/vnd.jupyter.widget-view+json": {
       "model_id": "0783cf68d57d4bb68ae47cfd308bffc8",
       "version_major": 2,
       "version_minor": 0
      },
      "text/plain": [
       "  0%|          | 0/610 [00:00<?, ?it/s]"
      ]
     },
     "metadata": {},
     "output_type": "display_data"
    },
    {
     "name": "stdout",
     "output_type": "stream",
     "text": [
      "MAP:\t0.006055\n",
      "NDCG:\t0.176299\n",
      "Precision@K:\t0.175410\n",
      "Recall@K:\t0.013672\n",
      "HR@K:\t0.590164\n"
     ]
    },
    {
     "data": {
      "application/vnd.jupyter.widget-view+json": {
       "model_id": "dde0fbaa4c9c4705aad8c230507f556f",
       "version_major": 2,
       "version_minor": 0
      },
      "text/plain": [
       "  0%|          | 0/610 [00:00<?, ?it/s]"
      ]
     },
     "metadata": {},
     "output_type": "display_data"
    },
    {
     "name": "stdout",
     "output_type": "stream",
     "text": [
      "MAP:\t0.006934\n",
      "NDCG:\t0.153552\n",
      "Precision@K:\t0.134426\n",
      "Recall@K:\t0.012925\n",
      "HR@K:\t0.524590\n",
      "/home/fastuser/msft_ncf_output/ratings/iteration_2/15\n"
     ]
    },
    {
     "data": {
      "application/vnd.jupyter.widget-view+json": {
       "model_id": "830a609159b14ef7a6a7d6e32d3604d9",
       "version_major": 2,
       "version_minor": 0
      },
      "text/plain": [
       "  0%|          | 0/610 [00:00<?, ?it/s]"
      ]
     },
     "metadata": {},
     "output_type": "display_data"
    },
    {
     "name": "stdout",
     "output_type": "stream",
     "text": [
      "MAP:\t0.003555\n",
      "NDCG:\t0.019728\n",
      "Precision@K:\t0.017110\n",
      "Recall@K:\t0.009471\n",
      "HR@K:\t0.124585\n"
     ]
    },
    {
     "data": {
      "application/vnd.jupyter.widget-view+json": {
       "model_id": "3ed59e50bb5c40d6a4c9c74e1534c381",
       "version_major": 2,
       "version_minor": 0
      },
      "text/plain": [
       "  0%|          | 0/610 [00:00<?, ?it/s]"
      ]
     },
     "metadata": {},
     "output_type": "display_data"
    },
    {
     "name": "stdout",
     "output_type": "stream",
     "text": [
      "MAP:\t0.003483\n",
      "NDCG:\t0.019175\n",
      "Precision@K:\t0.016777\n",
      "Recall@K:\t0.009422\n",
      "HR@K:\t0.126246\n",
      "/home/fastuser/msft_ncf_output/users/iteration_2/15\n"
     ]
    },
    {
     "data": {
      "application/vnd.jupyter.widget-view+json": {
       "model_id": "a1a3207e09ef45379fd8ba6514d08284",
       "version_major": 2,
       "version_minor": 0
      },
      "text/plain": [
       "  0%|          | 0/610 [00:00<?, ?it/s]"
      ]
     },
     "metadata": {},
     "output_type": "display_data"
    },
    {
     "name": "stdout",
     "output_type": "stream",
     "text": [
      "MAP:\t0.003743\n",
      "NDCG:\t0.100822\n",
      "Precision@K:\t0.104918\n",
      "Recall@K:\t0.010712\n",
      "HR@K:\t0.540984\n"
     ]
    },
    {
     "data": {
      "application/vnd.jupyter.widget-view+json": {
       "model_id": "8d682bbf6c644bf08f9049fef089f3d9",
       "version_major": 2,
       "version_minor": 0
      },
      "text/plain": [
       "  0%|          | 0/610 [00:00<?, ?it/s]"
      ]
     },
     "metadata": {},
     "output_type": "display_data"
    },
    {
     "name": "stdout",
     "output_type": "stream",
     "text": [
      "MAP:\t0.009008\n",
      "NDCG:\t0.149703\n",
      "Precision@K:\t0.136066\n",
      "Recall@K:\t0.016326\n",
      "HR@K:\t0.573770\n",
      "/home/fastuser/msft_ncf_output/ratings/iteration_2/20\n"
     ]
    },
    {
     "data": {
      "application/vnd.jupyter.widget-view+json": {
       "model_id": "778d231aaa8c45039594ff50828bb766",
       "version_major": 2,
       "version_minor": 0
      },
      "text/plain": [
       "  0%|          | 0/610 [00:00<?, ?it/s]"
      ]
     },
     "metadata": {},
     "output_type": "display_data"
    },
    {
     "name": "stdout",
     "output_type": "stream",
     "text": [
      "MAP:\t0.003209\n",
      "NDCG:\t0.014501\n",
      "Precision@K:\t0.012791\n",
      "Recall@K:\t0.007657\n",
      "HR@K:\t0.109635\n"
     ]
    },
    {
     "data": {
      "application/vnd.jupyter.widget-view+json": {
       "model_id": "88e0cff89e914b87861863a53b6178e4",
       "version_major": 2,
       "version_minor": 0
      },
      "text/plain": [
       "  0%|          | 0/610 [00:00<?, ?it/s]"
      ]
     },
     "metadata": {},
     "output_type": "display_data"
    },
    {
     "name": "stdout",
     "output_type": "stream",
     "text": [
      "MAP:\t0.003236\n",
      "NDCG:\t0.014464\n",
      "Precision@K:\t0.012458\n",
      "Recall@K:\t0.007580\n",
      "HR@K:\t0.107973\n",
      "/home/fastuser/msft_ncf_output/users/iteration_2/20\n"
     ]
    },
    {
     "data": {
      "application/vnd.jupyter.widget-view+json": {
       "model_id": "b7bc72393ef9488583a66f167b0babca",
       "version_major": 2,
       "version_minor": 0
      },
      "text/plain": [
       "  0%|          | 0/610 [00:00<?, ?it/s]"
      ]
     },
     "metadata": {},
     "output_type": "display_data"
    },
    {
     "name": "stdout",
     "output_type": "stream",
     "text": [
      "MAP:\t0.007139\n",
      "NDCG:\t0.125711\n",
      "Precision@K:\t0.098361\n",
      "Recall@K:\t0.010835\n",
      "HR@K:\t0.540984\n"
     ]
    },
    {
     "data": {
      "application/vnd.jupyter.widget-view+json": {
       "model_id": "3faa58afbada4a5fa3abcdb2f2f51625",
       "version_major": 2,
       "version_minor": 0
      },
      "text/plain": [
       "  0%|          | 0/610 [00:00<?, ?it/s]"
      ]
     },
     "metadata": {},
     "output_type": "display_data"
    },
    {
     "name": "stdout",
     "output_type": "stream",
     "text": [
      "MAP:\t0.003562\n",
      "NDCG:\t0.106438\n",
      "Precision@K:\t0.113115\n",
      "Recall@K:\t0.009579\n",
      "HR@K:\t0.409836\n",
      "/home/fastuser/msft_ncf_output/ratings/iteration_2/25\n"
     ]
    },
    {
     "data": {
      "application/vnd.jupyter.widget-view+json": {
       "model_id": "e9867b5c2f534827baa9d8eedbd38572",
       "version_major": 2,
       "version_minor": 0
      },
      "text/plain": [
       "  0%|          | 0/610 [00:00<?, ?it/s]"
      ]
     },
     "metadata": {},
     "output_type": "display_data"
    },
    {
     "name": "stdout",
     "output_type": "stream",
     "text": [
      "MAP:\t0.000868\n",
      "NDCG:\t0.007843\n",
      "Precision@K:\t0.007475\n",
      "Recall@K:\t0.002654\n",
      "HR@K:\t0.059801\n"
     ]
    },
    {
     "data": {
      "application/vnd.jupyter.widget-view+json": {
       "model_id": "f985aa4d673744608155a09028d9c645",
       "version_major": 2,
       "version_minor": 0
      },
      "text/plain": [
       "  0%|          | 0/610 [00:00<?, ?it/s]"
      ]
     },
     "metadata": {},
     "output_type": "display_data"
    },
    {
     "name": "stdout",
     "output_type": "stream",
     "text": [
      "MAP:\t0.000869\n",
      "NDCG:\t0.007823\n",
      "Precision@K:\t0.007475\n",
      "Recall@K:\t0.002678\n",
      "HR@K:\t0.059801\n",
      "/home/fastuser/msft_ncf_output/users/iteration_2/25\n"
     ]
    },
    {
     "data": {
      "application/vnd.jupyter.widget-view+json": {
       "model_id": "b353d0b11a06428a8c75bb5c05f1b58c",
       "version_major": 2,
       "version_minor": 0
      },
      "text/plain": [
       "  0%|          | 0/610 [00:00<?, ?it/s]"
      ]
     },
     "metadata": {},
     "output_type": "display_data"
    },
    {
     "name": "stdout",
     "output_type": "stream",
     "text": [
      "MAP:\t0.004640\n",
      "NDCG:\t0.144180\n",
      "Precision@K:\t0.124590\n",
      "Recall@K:\t0.008994\n",
      "HR@K:\t0.393443\n"
     ]
    },
    {
     "data": {
      "application/vnd.jupyter.widget-view+json": {
       "model_id": "196b17fb1e784013a62d74362b3456e1",
       "version_major": 2,
       "version_minor": 0
      },
      "text/plain": [
       "  0%|          | 0/610 [00:00<?, ?it/s]"
      ]
     },
     "metadata": {},
     "output_type": "display_data"
    },
    {
     "name": "stdout",
     "output_type": "stream",
     "text": [
      "MAP:\t0.005378\n",
      "NDCG:\t0.117326\n",
      "Precision@K:\t0.103279\n",
      "Recall@K:\t0.009976\n",
      "HR@K:\t0.491803\n",
      "/home/fastuser/msft_ncf_output/ratings/iteration_3/0\n"
     ]
    },
    {
     "name": "stderr",
     "output_type": "stream",
     "text": [
      "/home/fastuser/miniconda3/envs/reco_gpu/lib/python3.6/site-packages/numpy/lib/arraysetops.py:569: FutureWarning: elementwise comparison failed; returning scalar instead, but in the future will perform elementwise comparison\n",
      "  mask |= (ar1 == a)\n"
     ]
    },
    {
     "data": {
      "application/vnd.jupyter.widget-view+json": {
       "model_id": "eefdefd7dd7a4ed3a5a097df9e5af916",
       "version_major": 2,
       "version_minor": 0
      },
      "text/plain": [
       "  0%|          | 0/610 [00:00<?, ?it/s]"
      ]
     },
     "metadata": {},
     "output_type": "display_data"
    },
    {
     "name": "stdout",
     "output_type": "stream",
     "text": [
      "MAP:\t0.042738\n",
      "NDCG:\t0.131065\n",
      "Precision@K:\t0.099833\n",
      "Recall@K:\t0.102152\n",
      "HR@K:\t0.525000\n"
     ]
    },
    {
     "data": {
      "application/vnd.jupyter.widget-view+json": {
       "model_id": "f29d1de24ed346e7a6a83c68e1c60037",
       "version_major": 2,
       "version_minor": 0
      },
      "text/plain": [
       "  0%|          | 0/610 [00:00<?, ?it/s]"
      ]
     },
     "metadata": {},
     "output_type": "display_data"
    },
    {
     "name": "stdout",
     "output_type": "stream",
     "text": [
      "MAP:\t0.042738\n",
      "NDCG:\t0.131065\n",
      "Precision@K:\t0.099833\n",
      "Recall@K:\t0.102152\n",
      "HR@K:\t0.525000\n",
      "/home/fastuser/msft_ncf_output/users/iteration_3/0\n"
     ]
    },
    {
     "name": "stderr",
     "output_type": "stream",
     "text": [
      "/home/fastuser/miniconda3/envs/reco_gpu/lib/python3.6/site-packages/numpy/lib/arraysetops.py:569: FutureWarning: elementwise comparison failed; returning scalar instead, but in the future will perform elementwise comparison\n",
      "  mask |= (ar1 == a)\n"
     ]
    },
    {
     "data": {
      "application/vnd.jupyter.widget-view+json": {
       "model_id": "700b6ef57a8d48e8aed7aa7c7b29a641",
       "version_major": 2,
       "version_minor": 0
      },
      "text/plain": [
       "  0%|          | 0/610 [00:00<?, ?it/s]"
      ]
     },
     "metadata": {},
     "output_type": "display_data"
    },
    {
     "name": "stdout",
     "output_type": "stream",
     "text": [
      "MAP:\t0.023259\n",
      "NDCG:\t0.288398\n",
      "Precision@K:\t0.273770\n",
      "Recall@K:\t0.041984\n",
      "HR@K:\t0.786885\n"
     ]
    },
    {
     "data": {
      "application/vnd.jupyter.widget-view+json": {
       "model_id": "50382bc1c1194873aea39e7a9befeb14",
       "version_major": 2,
       "version_minor": 0
      },
      "text/plain": [
       "  0%|          | 0/610 [00:00<?, ?it/s]"
      ]
     },
     "metadata": {},
     "output_type": "display_data"
    },
    {
     "name": "stdout",
     "output_type": "stream",
     "text": [
      "MAP:\t0.018578\n",
      "NDCG:\t0.209277\n",
      "Precision@K:\t0.201639\n",
      "Recall@K:\t0.035171\n",
      "HR@K:\t0.737705\n",
      "/home/fastuser/msft_ncf_output/ratings/iteration_3/5\n"
     ]
    },
    {
     "name": "stderr",
     "output_type": "stream",
     "text": [
      "/home/fastuser/miniconda3/envs/reco_gpu/lib/python3.6/site-packages/numpy/lib/arraysetops.py:569: FutureWarning: elementwise comparison failed; returning scalar instead, but in the future will perform elementwise comparison\n",
      "  mask |= (ar1 == a)\n"
     ]
    },
    {
     "data": {
      "application/vnd.jupyter.widget-view+json": {
       "model_id": "8546085665b04c98bbb5feaec49d89e1",
       "version_major": 2,
       "version_minor": 0
      },
      "text/plain": [
       "  0%|          | 0/610 [00:00<?, ?it/s]"
      ]
     },
     "metadata": {},
     "output_type": "display_data"
    },
    {
     "name": "stdout",
     "output_type": "stream",
     "text": [
      "MAP:\t0.012024\n",
      "NDCG:\t0.053806\n",
      "Precision@K:\t0.043000\n",
      "Recall@K:\t0.029141\n",
      "HR@K:\t0.285000\n"
     ]
    },
    {
     "data": {
      "application/vnd.jupyter.widget-view+json": {
       "model_id": "61742310fa0f4442bfb14d7fe4dffa1d",
       "version_major": 2,
       "version_minor": 0
      },
      "text/plain": [
       "  0%|          | 0/610 [00:00<?, ?it/s]"
      ]
     },
     "metadata": {},
     "output_type": "display_data"
    },
    {
     "name": "stdout",
     "output_type": "stream",
     "text": [
      "MAP:\t0.012024\n",
      "NDCG:\t0.053806\n",
      "Precision@K:\t0.043000\n",
      "Recall@K:\t0.029141\n",
      "HR@K:\t0.285000\n",
      "/home/fastuser/msft_ncf_output/users/iteration_3/5\n"
     ]
    },
    {
     "data": {
      "application/vnd.jupyter.widget-view+json": {
       "model_id": "956f17253a83414aa5101b6415a0336a",
       "version_major": 2,
       "version_minor": 0
      },
      "text/plain": [
       "  0%|          | 0/610 [00:00<?, ?it/s]"
      ]
     },
     "metadata": {},
     "output_type": "display_data"
    },
    {
     "name": "stdout",
     "output_type": "stream",
     "text": [
      "MAP:\t0.002844\n",
      "NDCG:\t0.087456\n",
      "Precision@K:\t0.075410\n",
      "Recall@K:\t0.005484\n",
      "HR@K:\t0.344262\n"
     ]
    },
    {
     "data": {
      "application/vnd.jupyter.widget-view+json": {
       "model_id": "c9c6cd640b35424e8f5fab6cb1f983cf",
       "version_major": 2,
       "version_minor": 0
      },
      "text/plain": [
       "  0%|          | 0/610 [00:00<?, ?it/s]"
      ]
     },
     "metadata": {},
     "output_type": "display_data"
    },
    {
     "name": "stdout",
     "output_type": "stream",
     "text": [
      "MAP:\t0.009454\n",
      "NDCG:\t0.148870\n",
      "Precision@K:\t0.137705\n",
      "Recall@K:\t0.017115\n",
      "HR@K:\t0.573770\n",
      "/home/fastuser/msft_ncf_output/ratings/iteration_3/8\n"
     ]
    },
    {
     "data": {
      "application/vnd.jupyter.widget-view+json": {
       "model_id": "5ff31ddc196e44ecb80d4126b1f6faa5",
       "version_major": 2,
       "version_minor": 0
      },
      "text/plain": [
       "  0%|          | 0/610 [00:00<?, ?it/s]"
      ]
     },
     "metadata": {},
     "output_type": "display_data"
    },
    {
     "name": "stdout",
     "output_type": "stream",
     "text": [
      "MAP:\t0.008363\n",
      "NDCG:\t0.037463\n",
      "Precision@K:\t0.031333\n",
      "Recall@K:\t0.023205\n",
      "HR@K:\t0.213333\n"
     ]
    },
    {
     "data": {
      "application/vnd.jupyter.widget-view+json": {
       "model_id": "3b8bb954cbf84cf19d83f7db3979a123",
       "version_major": 2,
       "version_minor": 0
      },
      "text/plain": [
       "  0%|          | 0/610 [00:00<?, ?it/s]"
      ]
     },
     "metadata": {},
     "output_type": "display_data"
    },
    {
     "name": "stdout",
     "output_type": "stream",
     "text": [
      "MAP:\t0.008363\n",
      "NDCG:\t0.037463\n",
      "Precision@K:\t0.031333\n",
      "Recall@K:\t0.023205\n",
      "HR@K:\t0.213333\n",
      "/home/fastuser/msft_ncf_output/users/iteration_3/8\n"
     ]
    },
    {
     "data": {
      "application/vnd.jupyter.widget-view+json": {
       "model_id": "5c4c3141eddf4190866b1a20534b05bb",
       "version_major": 2,
       "version_minor": 0
      },
      "text/plain": [
       "  0%|          | 0/610 [00:00<?, ?it/s]"
      ]
     },
     "metadata": {},
     "output_type": "display_data"
    },
    {
     "name": "stdout",
     "output_type": "stream",
     "text": [
      "MAP:\t0.012903\n",
      "NDCG:\t0.181293\n",
      "Precision@K:\t0.163934\n",
      "Recall@K:\t0.024807\n",
      "HR@K:\t0.704918\n"
     ]
    },
    {
     "data": {
      "application/vnd.jupyter.widget-view+json": {
       "model_id": "bec5934002e64fb6b1223fbfeaa3d1af",
       "version_major": 2,
       "version_minor": 0
      },
      "text/plain": [
       "  0%|          | 0/610 [00:00<?, ?it/s]"
      ]
     },
     "metadata": {},
     "output_type": "display_data"
    },
    {
     "name": "stdout",
     "output_type": "stream",
     "text": [
      "MAP:\t0.008243\n",
      "NDCG:\t0.150331\n",
      "Precision@K:\t0.147541\n",
      "Recall@K:\t0.019647\n",
      "HR@K:\t0.672131\n",
      "/home/fastuser/msft_ncf_output/ratings/iteration_3/12\n"
     ]
    },
    {
     "data": {
      "application/vnd.jupyter.widget-view+json": {
       "model_id": "ef68241a8c574a53b4df9b66f6c3b780",
       "version_major": 2,
       "version_minor": 0
      },
      "text/plain": [
       "  0%|          | 0/610 [00:00<?, ?it/s]"
      ]
     },
     "metadata": {},
     "output_type": "display_data"
    },
    {
     "name": "stdout",
     "output_type": "stream",
     "text": [
      "MAP:\t0.004492\n",
      "NDCG:\t0.020542\n",
      "Precision@K:\t0.017833\n",
      "Recall@K:\t0.011540\n",
      "HR@K:\t0.133333\n"
     ]
    },
    {
     "data": {
      "application/vnd.jupyter.widget-view+json": {
       "model_id": "439f1dc0943a45dcaa5960ee48591fdb",
       "version_major": 2,
       "version_minor": 0
      },
      "text/plain": [
       "  0%|          | 0/610 [00:00<?, ?it/s]"
      ]
     },
     "metadata": {},
     "output_type": "display_data"
    },
    {
     "name": "stdout",
     "output_type": "stream",
     "text": [
      "MAP:\t0.004403\n",
      "NDCG:\t0.019554\n",
      "Precision@K:\t0.016833\n",
      "Recall@K:\t0.011256\n",
      "HR@K:\t0.123333\n",
      "/home/fastuser/msft_ncf_output/users/iteration_3/12\n"
     ]
    },
    {
     "data": {
      "application/vnd.jupyter.widget-view+json": {
       "model_id": "7f81577a282b4ff28c9088e0ffecc204",
       "version_major": 2,
       "version_minor": 0
      },
      "text/plain": [
       "  0%|          | 0/610 [00:00<?, ?it/s]"
      ]
     },
     "metadata": {},
     "output_type": "display_data"
    },
    {
     "name": "stdout",
     "output_type": "stream",
     "text": [
      "MAP:\t0.006735\n",
      "NDCG:\t0.134636\n",
      "Precision@K:\t0.124590\n",
      "Recall@K:\t0.013708\n",
      "HR@K:\t0.540984\n"
     ]
    },
    {
     "data": {
      "application/vnd.jupyter.widget-view+json": {
       "model_id": "4cd29598415e43b7b21120bbe41bcc7d",
       "version_major": 2,
       "version_minor": 0
      },
      "text/plain": [
       "  0%|          | 0/610 [00:00<?, ?it/s]"
      ]
     },
     "metadata": {},
     "output_type": "display_data"
    },
    {
     "name": "stdout",
     "output_type": "stream",
     "text": [
      "MAP:\t0.005463\n",
      "NDCG:\t0.115203\n",
      "Precision@K:\t0.114754\n",
      "Recall@K:\t0.014112\n",
      "HR@K:\t0.508197\n",
      "/home/fastuser/msft_ncf_output/ratings/iteration_3/15\n"
     ]
    },
    {
     "data": {
      "application/vnd.jupyter.widget-view+json": {
       "model_id": "0ee03b7f74a9496ca5d9d198eb47a24f",
       "version_major": 2,
       "version_minor": 0
      },
      "text/plain": [
       "  0%|          | 0/610 [00:00<?, ?it/s]"
      ]
     },
     "metadata": {},
     "output_type": "display_data"
    },
    {
     "name": "stdout",
     "output_type": "stream",
     "text": [
      "MAP:\t0.003671\n",
      "NDCG:\t0.019713\n",
      "Precision@K:\t0.017167\n",
      "Recall@K:\t0.010485\n",
      "HR@K:\t0.136667\n"
     ]
    },
    {
     "data": {
      "application/vnd.jupyter.widget-view+json": {
       "model_id": "6492757fe82549a0952f371704b06e5e",
       "version_major": 2,
       "version_minor": 0
      },
      "text/plain": [
       "  0%|          | 0/610 [00:00<?, ?it/s]"
      ]
     },
     "metadata": {},
     "output_type": "display_data"
    },
    {
     "name": "stdout",
     "output_type": "stream",
     "text": [
      "MAP:\t0.003639\n",
      "NDCG:\t0.019590\n",
      "Precision@K:\t0.017333\n",
      "Recall@K:\t0.010564\n",
      "HR@K:\t0.136667\n",
      "/home/fastuser/msft_ncf_output/users/iteration_3/15\n"
     ]
    },
    {
     "data": {
      "application/vnd.jupyter.widget-view+json": {
       "model_id": "60fcfc14681d424ea5186002712a1889",
       "version_major": 2,
       "version_minor": 0
      },
      "text/plain": [
       "  0%|          | 0/610 [00:00<?, ?it/s]"
      ]
     },
     "metadata": {},
     "output_type": "display_data"
    },
    {
     "name": "stdout",
     "output_type": "stream",
     "text": [
      "MAP:\t0.005060\n",
      "NDCG:\t0.098010\n",
      "Precision@K:\t0.100000\n",
      "Recall@K:\t0.012013\n",
      "HR@K:\t0.459016\n"
     ]
    },
    {
     "data": {
      "application/vnd.jupyter.widget-view+json": {
       "model_id": "3eb0c7f817564736a685b01d86509afb",
       "version_major": 2,
       "version_minor": 0
      },
      "text/plain": [
       "  0%|          | 0/610 [00:00<?, ?it/s]"
      ]
     },
     "metadata": {},
     "output_type": "display_data"
    },
    {
     "name": "stdout",
     "output_type": "stream",
     "text": [
      "MAP:\t0.007361\n",
      "NDCG:\t0.135402\n",
      "Precision@K:\t0.122951\n",
      "Recall@K:\t0.016122\n",
      "HR@K:\t0.557377\n",
      "/home/fastuser/msft_ncf_output/ratings/iteration_3/20\n"
     ]
    },
    {
     "data": {
      "application/vnd.jupyter.widget-view+json": {
       "model_id": "1b562dc78eaf4e60b1e5bc444f85fce1",
       "version_major": 2,
       "version_minor": 0
      },
      "text/plain": [
       "  0%|          | 0/610 [00:00<?, ?it/s]"
      ]
     },
     "metadata": {},
     "output_type": "display_data"
    },
    {
     "name": "stdout",
     "output_type": "stream",
     "text": [
      "MAP:\t0.002920\n",
      "NDCG:\t0.015049\n",
      "Precision@K:\t0.013167\n",
      "Recall@K:\t0.009328\n",
      "HR@K:\t0.103333\n"
     ]
    },
    {
     "data": {
      "application/vnd.jupyter.widget-view+json": {
       "model_id": "efe8a939b2594ec482d874dc19bf3bc7",
       "version_major": 2,
       "version_minor": 0
      },
      "text/plain": [
       "  0%|          | 0/610 [00:00<?, ?it/s]"
      ]
     },
     "metadata": {},
     "output_type": "display_data"
    },
    {
     "name": "stdout",
     "output_type": "stream",
     "text": [
      "MAP:\t0.002941\n",
      "NDCG:\t0.015470\n",
      "Precision@K:\t0.013667\n",
      "Recall@K:\t0.009441\n",
      "HR@K:\t0.108333\n",
      "/home/fastuser/msft_ncf_output/users/iteration_3/20\n"
     ]
    },
    {
     "data": {
      "application/vnd.jupyter.widget-view+json": {
       "model_id": "dcf77f8517a54de49701345a57c97373",
       "version_major": 2,
       "version_minor": 0
      },
      "text/plain": [
       "  0%|          | 0/610 [00:00<?, ?it/s]"
      ]
     },
     "metadata": {},
     "output_type": "display_data"
    },
    {
     "name": "stdout",
     "output_type": "stream",
     "text": [
      "MAP:\t0.006044\n",
      "NDCG:\t0.104154\n",
      "Precision@K:\t0.080328\n",
      "Recall@K:\t0.010664\n",
      "HR@K:\t0.475410\n"
     ]
    },
    {
     "data": {
      "application/vnd.jupyter.widget-view+json": {
       "model_id": "ee784ab36055434ba5bb210e50e4049a",
       "version_major": 2,
       "version_minor": 0
      },
      "text/plain": [
       "  0%|          | 0/610 [00:00<?, ?it/s]"
      ]
     },
     "metadata": {},
     "output_type": "display_data"
    },
    {
     "name": "stdout",
     "output_type": "stream",
     "text": [
      "MAP:\t0.003321\n",
      "NDCG:\t0.087441\n",
      "Precision@K:\t0.078689\n",
      "Recall@K:\t0.009675\n",
      "HR@K:\t0.442623\n",
      "/home/fastuser/msft_ncf_output/ratings/iteration_3/25\n"
     ]
    },
    {
     "data": {
      "application/vnd.jupyter.widget-view+json": {
       "model_id": "5037a11be4e54bc785814919b5e8c0dd",
       "version_major": 2,
       "version_minor": 0
      },
      "text/plain": [
       "  0%|          | 0/610 [00:00<?, ?it/s]"
      ]
     },
     "metadata": {},
     "output_type": "display_data"
    },
    {
     "name": "stdout",
     "output_type": "stream",
     "text": [
      "MAP:\t0.001348\n",
      "NDCG:\t0.010299\n",
      "Precision@K:\t0.008667\n",
      "Recall@K:\t0.004099\n",
      "HR@K:\t0.068333\n"
     ]
    },
    {
     "data": {
      "application/vnd.jupyter.widget-view+json": {
       "model_id": "ee5968869dfd466d8a283d6174bb3131",
       "version_major": 2,
       "version_minor": 0
      },
      "text/plain": [
       "  0%|          | 0/610 [00:00<?, ?it/s]"
      ]
     },
     "metadata": {},
     "output_type": "display_data"
    },
    {
     "name": "stdout",
     "output_type": "stream",
     "text": [
      "MAP:\t0.001273\n",
      "NDCG:\t0.009932\n",
      "Precision@K:\t0.008500\n",
      "Recall@K:\t0.004024\n",
      "HR@K:\t0.066667\n",
      "/home/fastuser/msft_ncf_output/users/iteration_3/25\n"
     ]
    },
    {
     "data": {
      "application/vnd.jupyter.widget-view+json": {
       "model_id": "0a8e3a64f78a45c7810d2365b4bbb7dc",
       "version_major": 2,
       "version_minor": 0
      },
      "text/plain": [
       "  0%|          | 0/610 [00:00<?, ?it/s]"
      ]
     },
     "metadata": {},
     "output_type": "display_data"
    },
    {
     "name": "stdout",
     "output_type": "stream",
     "text": [
      "MAP:\t0.004284\n",
      "NDCG:\t0.122852\n",
      "Precision@K:\t0.121311\n",
      "Recall@K:\t0.011579\n",
      "HR@K:\t0.573770\n"
     ]
    },
    {
     "data": {
      "application/vnd.jupyter.widget-view+json": {
       "model_id": "3f79c522c1d1481281b309ea58dcc90f",
       "version_major": 2,
       "version_minor": 0
      },
      "text/plain": [
       "  0%|          | 0/610 [00:00<?, ?it/s]"
      ]
     },
     "metadata": {},
     "output_type": "display_data"
    },
    {
     "name": "stdout",
     "output_type": "stream",
     "text": [
      "MAP:\t0.002458\n",
      "NDCG:\t0.091744\n",
      "Precision@K:\t0.096721\n",
      "Recall@K:\t0.006950\n",
      "HR@K:\t0.409836\n",
      "/home/fastuser/msft_ncf_output/ratings/iteration_4/0\n"
     ]
    },
    {
     "name": "stderr",
     "output_type": "stream",
     "text": [
      "/home/fastuser/miniconda3/envs/reco_gpu/lib/python3.6/site-packages/numpy/lib/arraysetops.py:569: FutureWarning: elementwise comparison failed; returning scalar instead, but in the future will perform elementwise comparison\n",
      "  mask |= (ar1 == a)\n"
     ]
    },
    {
     "data": {
      "application/vnd.jupyter.widget-view+json": {
       "model_id": "871f322ae0c44e27883bb89e101c3f94",
       "version_major": 2,
       "version_minor": 0
      },
      "text/plain": [
       "  0%|          | 0/610 [00:00<?, ?it/s]"
      ]
     },
     "metadata": {},
     "output_type": "display_data"
    },
    {
     "name": "stdout",
     "output_type": "stream",
     "text": [
      "MAP:\t0.044501\n",
      "NDCG:\t0.132365\n",
      "Precision@K:\t0.098993\n",
      "Recall@K:\t0.107670\n",
      "HR@K:\t0.525168\n"
     ]
    },
    {
     "data": {
      "application/vnd.jupyter.widget-view+json": {
       "model_id": "d4056569460e4a989340dcc3bebb92a0",
       "version_major": 2,
       "version_minor": 0
      },
      "text/plain": [
       "  0%|          | 0/610 [00:00<?, ?it/s]"
      ]
     },
     "metadata": {},
     "output_type": "display_data"
    },
    {
     "name": "stdout",
     "output_type": "stream",
     "text": [
      "MAP:\t0.044501\n",
      "NDCG:\t0.132365\n",
      "Precision@K:\t0.098993\n",
      "Recall@K:\t0.107670\n",
      "HR@K:\t0.525168\n",
      "/home/fastuser/msft_ncf_output/users/iteration_4/0\n"
     ]
    },
    {
     "name": "stderr",
     "output_type": "stream",
     "text": [
      "/home/fastuser/miniconda3/envs/reco_gpu/lib/python3.6/site-packages/numpy/lib/arraysetops.py:569: FutureWarning: elementwise comparison failed; returning scalar instead, but in the future will perform elementwise comparison\n",
      "  mask |= (ar1 == a)\n"
     ]
    },
    {
     "data": {
      "application/vnd.jupyter.widget-view+json": {
       "model_id": "ba4d2e52bb624d7683b0d50f5282725d",
       "version_major": 2,
       "version_minor": 0
      },
      "text/plain": [
       "  0%|          | 0/610 [00:00<?, ?it/s]"
      ]
     },
     "metadata": {},
     "output_type": "display_data"
    },
    {
     "name": "stdout",
     "output_type": "stream",
     "text": [
      "MAP:\t0.019925\n",
      "NDCG:\t0.264717\n",
      "Precision@K:\t0.240984\n",
      "Recall@K:\t0.038361\n",
      "HR@K:\t0.819672\n"
     ]
    },
    {
     "data": {
      "application/vnd.jupyter.widget-view+json": {
       "model_id": "535f95a0cf304b8a84788d7c82bd317a",
       "version_major": 2,
       "version_minor": 0
      },
      "text/plain": [
       "  0%|          | 0/610 [00:00<?, ?it/s]"
      ]
     },
     "metadata": {},
     "output_type": "display_data"
    },
    {
     "name": "stdout",
     "output_type": "stream",
     "text": [
      "MAP:\t0.018712\n",
      "NDCG:\t0.229516\n",
      "Precision@K:\t0.208197\n",
      "Recall@K:\t0.036630\n",
      "HR@K:\t0.704918\n",
      "/home/fastuser/msft_ncf_output/ratings/iteration_4/5\n"
     ]
    },
    {
     "name": "stderr",
     "output_type": "stream",
     "text": [
      "/home/fastuser/miniconda3/envs/reco_gpu/lib/python3.6/site-packages/numpy/lib/arraysetops.py:569: FutureWarning: elementwise comparison failed; returning scalar instead, but in the future will perform elementwise comparison\n",
      "  mask |= (ar1 == a)\n"
     ]
    },
    {
     "data": {
      "application/vnd.jupyter.widget-view+json": {
       "model_id": "96f01168eb7e43779369d2e7efdfb844",
       "version_major": 2,
       "version_minor": 0
      },
      "text/plain": [
       "  0%|          | 0/610 [00:00<?, ?it/s]"
      ]
     },
     "metadata": {},
     "output_type": "display_data"
    },
    {
     "name": "stdout",
     "output_type": "stream",
     "text": [
      "MAP:\t0.017121\n",
      "NDCG:\t0.066183\n",
      "Precision@K:\t0.051007\n",
      "Recall@K:\t0.045732\n",
      "HR@K:\t0.315436\n"
     ]
    },
    {
     "data": {
      "application/vnd.jupyter.widget-view+json": {
       "model_id": "7710ed601eec49d99d370522ed4d11b5",
       "version_major": 2,
       "version_minor": 0
      },
      "text/plain": [
       "  0%|          | 0/610 [00:00<?, ?it/s]"
      ]
     },
     "metadata": {},
     "output_type": "display_data"
    },
    {
     "name": "stdout",
     "output_type": "stream",
     "text": [
      "MAP:\t0.017121\n",
      "NDCG:\t0.066183\n",
      "Precision@K:\t0.051007\n",
      "Recall@K:\t0.045732\n",
      "HR@K:\t0.315436\n",
      "/home/fastuser/msft_ncf_output/users/iteration_4/5\n"
     ]
    },
    {
     "data": {
      "application/vnd.jupyter.widget-view+json": {
       "model_id": "bb77c3500cd2455ab2103d8ebd59dc9f",
       "version_major": 2,
       "version_minor": 0
      },
      "text/plain": [
       "  0%|          | 0/610 [00:00<?, ?it/s]"
      ]
     },
     "metadata": {},
     "output_type": "display_data"
    },
    {
     "name": "stdout",
     "output_type": "stream",
     "text": [
      "MAP:\t0.009096\n",
      "NDCG:\t0.138055\n",
      "Precision@K:\t0.124590\n",
      "Recall@K:\t0.016429\n",
      "HR@K:\t0.540984\n"
     ]
    },
    {
     "data": {
      "application/vnd.jupyter.widget-view+json": {
       "model_id": "318885c97f674218a869fd77200ddf17",
       "version_major": 2,
       "version_minor": 0
      },
      "text/plain": [
       "  0%|          | 0/610 [00:00<?, ?it/s]"
      ]
     },
     "metadata": {},
     "output_type": "display_data"
    },
    {
     "name": "stdout",
     "output_type": "stream",
     "text": [
      "MAP:\t0.012011\n",
      "NDCG:\t0.149945\n",
      "Precision@K:\t0.134426\n",
      "Recall@K:\t0.023779\n",
      "HR@K:\t0.655738\n",
      "/home/fastuser/msft_ncf_output/ratings/iteration_4/8\n"
     ]
    },
    {
     "data": {
      "application/vnd.jupyter.widget-view+json": {
       "model_id": "45a66e33d8294e098e20943a64083096",
       "version_major": 2,
       "version_minor": 0
      },
      "text/plain": [
       "  0%|          | 0/610 [00:00<?, ?it/s]"
      ]
     },
     "metadata": {},
     "output_type": "display_data"
    },
    {
     "name": "stdout",
     "output_type": "stream",
     "text": [
      "MAP:\t0.008080\n",
      "NDCG:\t0.034280\n",
      "Precision@K:\t0.027013\n",
      "Recall@K:\t0.016761\n",
      "HR@K:\t0.184564\n"
     ]
    },
    {
     "data": {
      "application/vnd.jupyter.widget-view+json": {
       "model_id": "df739fc8b4aa40ddb701f9976b39715b",
       "version_major": 2,
       "version_minor": 0
      },
      "text/plain": [
       "  0%|          | 0/610 [00:00<?, ?it/s]"
      ]
     },
     "metadata": {},
     "output_type": "display_data"
    },
    {
     "name": "stdout",
     "output_type": "stream",
     "text": [
      "MAP:\t0.008080\n",
      "NDCG:\t0.034280\n",
      "Precision@K:\t0.027013\n",
      "Recall@K:\t0.016761\n",
      "HR@K:\t0.184564\n",
      "/home/fastuser/msft_ncf_output/users/iteration_4/8\n"
     ]
    },
    {
     "data": {
      "application/vnd.jupyter.widget-view+json": {
       "model_id": "aa82f67533d346ecac254f5e6f4240bd",
       "version_major": 2,
       "version_minor": 0
      },
      "text/plain": [
       "  0%|          | 0/610 [00:00<?, ?it/s]"
      ]
     },
     "metadata": {},
     "output_type": "display_data"
    },
    {
     "name": "stdout",
     "output_type": "stream",
     "text": [
      "MAP:\t0.013808\n",
      "NDCG:\t0.209244\n",
      "Precision@K:\t0.196721\n",
      "Recall@K:\t0.026944\n",
      "HR@K:\t0.655738\n"
     ]
    },
    {
     "data": {
      "application/vnd.jupyter.widget-view+json": {
       "model_id": "53e662c431504b939d22ed748d254d12",
       "version_major": 2,
       "version_minor": 0
      },
      "text/plain": [
       "  0%|          | 0/610 [00:00<?, ?it/s]"
      ]
     },
     "metadata": {},
     "output_type": "display_data"
    },
    {
     "name": "stdout",
     "output_type": "stream",
     "text": [
      "MAP:\t0.010016\n",
      "NDCG:\t0.170429\n",
      "Precision@K:\t0.160656\n",
      "Recall@K:\t0.019664\n",
      "HR@K:\t0.606557\n",
      "/home/fastuser/msft_ncf_output/ratings/iteration_4/12\n"
     ]
    },
    {
     "data": {
      "application/vnd.jupyter.widget-view+json": {
       "model_id": "3dfb876ada4640189ea977fa7b922629",
       "version_major": 2,
       "version_minor": 0
      },
      "text/plain": [
       "  0%|          | 0/610 [00:00<?, ?it/s]"
      ]
     },
     "metadata": {},
     "output_type": "display_data"
    },
    {
     "name": "stdout",
     "output_type": "stream",
     "text": [
      "MAP:\t0.005502\n",
      "NDCG:\t0.025672\n",
      "Precision@K:\t0.020805\n",
      "Recall@K:\t0.014094\n",
      "HR@K:\t0.157718\n"
     ]
    },
    {
     "data": {
      "application/vnd.jupyter.widget-view+json": {
       "model_id": "422bba5325c241228650a1aec6630fc2",
       "version_major": 2,
       "version_minor": 0
      },
      "text/plain": [
       "  0%|          | 0/610 [00:00<?, ?it/s]"
      ]
     },
     "metadata": {},
     "output_type": "display_data"
    },
    {
     "name": "stdout",
     "output_type": "stream",
     "text": [
      "MAP:\t0.005486\n",
      "NDCG:\t0.025647\n",
      "Precision@K:\t0.020805\n",
      "Recall@K:\t0.014054\n",
      "HR@K:\t0.157718\n",
      "/home/fastuser/msft_ncf_output/users/iteration_4/12\n"
     ]
    },
    {
     "data": {
      "application/vnd.jupyter.widget-view+json": {
       "model_id": "560f45721ed041adb83f700dc31b5cef",
       "version_major": 2,
       "version_minor": 0
      },
      "text/plain": [
       "  0%|          | 0/610 [00:00<?, ?it/s]"
      ]
     },
     "metadata": {},
     "output_type": "display_data"
    },
    {
     "name": "stdout",
     "output_type": "stream",
     "text": [
      "MAP:\t0.007822\n",
      "NDCG:\t0.137320\n",
      "Precision@K:\t0.132787\n",
      "Recall@K:\t0.016015\n",
      "HR@K:\t0.491803\n"
     ]
    },
    {
     "data": {
      "application/vnd.jupyter.widget-view+json": {
       "model_id": "9e978d75d1934283818839daa1dc3934",
       "version_major": 2,
       "version_minor": 0
      },
      "text/plain": [
       "  0%|          | 0/610 [00:00<?, ?it/s]"
      ]
     },
     "metadata": {},
     "output_type": "display_data"
    },
    {
     "name": "stdout",
     "output_type": "stream",
     "text": [
      "MAP:\t0.008088\n",
      "NDCG:\t0.131558\n",
      "Precision@K:\t0.116393\n",
      "Recall@K:\t0.014226\n",
      "HR@K:\t0.524590\n",
      "/home/fastuser/msft_ncf_output/ratings/iteration_4/15\n"
     ]
    },
    {
     "data": {
      "application/vnd.jupyter.widget-view+json": {
       "model_id": "112b6930453840f594deb45125aebfc3",
       "version_major": 2,
       "version_minor": 0
      },
      "text/plain": [
       "  0%|          | 0/610 [00:00<?, ?it/s]"
      ]
     },
     "metadata": {},
     "output_type": "display_data"
    },
    {
     "name": "stdout",
     "output_type": "stream",
     "text": [
      "MAP:\t0.005881\n",
      "NDCG:\t0.023818\n",
      "Precision@K:\t0.018456\n",
      "Recall@K:\t0.011832\n",
      "HR@K:\t0.134228\n"
     ]
    },
    {
     "data": {
      "application/vnd.jupyter.widget-view+json": {
       "model_id": "e20d3132f23a44f7914a96c80c53cc20",
       "version_major": 2,
       "version_minor": 0
      },
      "text/plain": [
       "  0%|          | 0/610 [00:00<?, ?it/s]"
      ]
     },
     "metadata": {},
     "output_type": "display_data"
    },
    {
     "name": "stdout",
     "output_type": "stream",
     "text": [
      "MAP:\t0.005894\n",
      "NDCG:\t0.023952\n",
      "Precision@K:\t0.018624\n",
      "Recall@K:\t0.011905\n",
      "HR@K:\t0.135906\n",
      "/home/fastuser/msft_ncf_output/users/iteration_4/15\n"
     ]
    },
    {
     "data": {
      "application/vnd.jupyter.widget-view+json": {
       "model_id": "09e19cbfeefe452fac0f8e102356a215",
       "version_major": 2,
       "version_minor": 0
      },
      "text/plain": [
       "  0%|          | 0/610 [00:00<?, ?it/s]"
      ]
     },
     "metadata": {},
     "output_type": "display_data"
    },
    {
     "name": "stdout",
     "output_type": "stream",
     "text": [
      "MAP:\t0.002112\n",
      "NDCG:\t0.081930\n",
      "Precision@K:\t0.085246\n",
      "Recall@K:\t0.008382\n",
      "HR@K:\t0.459016\n"
     ]
    },
    {
     "data": {
      "application/vnd.jupyter.widget-view+json": {
       "model_id": "d15261c959e641b899d31176f3896b18",
       "version_major": 2,
       "version_minor": 0
      },
      "text/plain": [
       "  0%|          | 0/610 [00:00<?, ?it/s]"
      ]
     },
     "metadata": {},
     "output_type": "display_data"
    },
    {
     "name": "stdout",
     "output_type": "stream",
     "text": [
      "MAP:\t0.007207\n",
      "NDCG:\t0.120656\n",
      "Precision@K:\t0.103279\n",
      "Recall@K:\t0.014276\n",
      "HR@K:\t0.524590\n",
      "/home/fastuser/msft_ncf_output/ratings/iteration_4/20\n"
     ]
    },
    {
     "data": {
      "application/vnd.jupyter.widget-view+json": {
       "model_id": "cc5a52774dd242adab20463473e5bda7",
       "version_major": 2,
       "version_minor": 0
      },
      "text/plain": [
       "  0%|          | 0/610 [00:00<?, ?it/s]"
      ]
     },
     "metadata": {},
     "output_type": "display_data"
    },
    {
     "name": "stdout",
     "output_type": "stream",
     "text": [
      "MAP:\t0.002524\n",
      "NDCG:\t0.010675\n",
      "Precision@K:\t0.008725\n",
      "Recall@K:\t0.007393\n",
      "HR@K:\t0.082215\n"
     ]
    },
    {
     "data": {
      "application/vnd.jupyter.widget-view+json": {
       "model_id": "d9b3e119441c4507b5f9c6ceeeb7a422",
       "version_major": 2,
       "version_minor": 0
      },
      "text/plain": [
       "  0%|          | 0/610 [00:00<?, ?it/s]"
      ]
     },
     "metadata": {},
     "output_type": "display_data"
    },
    {
     "name": "stdout",
     "output_type": "stream",
     "text": [
      "MAP:\t0.002506\n",
      "NDCG:\t0.010577\n",
      "Precision@K:\t0.008893\n",
      "Recall@K:\t0.007435\n",
      "HR@K:\t0.082215\n",
      "/home/fastuser/msft_ncf_output/users/iteration_4/20\n"
     ]
    },
    {
     "data": {
      "application/vnd.jupyter.widget-view+json": {
       "model_id": "abaef71820d045ffbfed711c3beb9006",
       "version_major": 2,
       "version_minor": 0
      },
      "text/plain": [
       "  0%|          | 0/610 [00:00<?, ?it/s]"
      ]
     },
     "metadata": {},
     "output_type": "display_data"
    },
    {
     "name": "stdout",
     "output_type": "stream",
     "text": [
      "MAP:\t0.002840\n",
      "NDCG:\t0.084437\n",
      "Precision@K:\t0.093443\n",
      "Recall@K:\t0.010084\n",
      "HR@K:\t0.459016\n"
     ]
    },
    {
     "data": {
      "application/vnd.jupyter.widget-view+json": {
       "model_id": "a5ecb021369f4b938e124e3ffddfb911",
       "version_major": 2,
       "version_minor": 0
      },
      "text/plain": [
       "  0%|          | 0/610 [00:00<?, ?it/s]"
      ]
     },
     "metadata": {},
     "output_type": "display_data"
    },
    {
     "name": "stdout",
     "output_type": "stream",
     "text": [
      "MAP:\t0.002067\n",
      "NDCG:\t0.053552\n",
      "Precision@K:\t0.060656\n",
      "Recall@K:\t0.008444\n",
      "HR@K:\t0.360656\n",
      "/home/fastuser/msft_ncf_output/ratings/iteration_4/25\n"
     ]
    },
    {
     "data": {
      "application/vnd.jupyter.widget-view+json": {
       "model_id": "b2152ff55b994b90a3a8c4b72b4de98c",
       "version_major": 2,
       "version_minor": 0
      },
      "text/plain": [
       "  0%|          | 0/610 [00:00<?, ?it/s]"
      ]
     },
     "metadata": {},
     "output_type": "display_data"
    },
    {
     "name": "stdout",
     "output_type": "stream",
     "text": [
      "MAP:\t0.001895\n",
      "NDCG:\t0.010091\n",
      "Precision@K:\t0.009228\n",
      "Recall@K:\t0.005684\n",
      "HR@K:\t0.077181\n"
     ]
    },
    {
     "data": {
      "application/vnd.jupyter.widget-view+json": {
       "model_id": "be4177d6342c4d7e8890c884d4de880e",
       "version_major": 2,
       "version_minor": 0
      },
      "text/plain": [
       "  0%|          | 0/610 [00:00<?, ?it/s]"
      ]
     },
     "metadata": {},
     "output_type": "display_data"
    },
    {
     "name": "stdout",
     "output_type": "stream",
     "text": [
      "MAP:\t0.001900\n",
      "NDCG:\t0.010086\n",
      "Precision@K:\t0.009060\n",
      "Recall@K:\t0.005608\n",
      "HR@K:\t0.075503\n",
      "/home/fastuser/msft_ncf_output/users/iteration_4/25\n"
     ]
    },
    {
     "data": {
      "application/vnd.jupyter.widget-view+json": {
       "model_id": "a6d37064b359453893b56bf4e91f9f5b",
       "version_major": 2,
       "version_minor": 0
      },
      "text/plain": [
       "  0%|          | 0/610 [00:00<?, ?it/s]"
      ]
     },
     "metadata": {},
     "output_type": "display_data"
    },
    {
     "name": "stdout",
     "output_type": "stream",
     "text": [
      "MAP:\t0.000175\n",
      "NDCG:\t0.015031\n",
      "Precision@K:\t0.016393\n",
      "Recall@K:\t0.000682\n",
      "HR@K:\t0.131148\n"
     ]
    },
    {
     "data": {
      "application/vnd.jupyter.widget-view+json": {
       "model_id": "b9a7846b9ed34a5591462b03436f7be4",
       "version_major": 2,
       "version_minor": 0
      },
      "text/plain": [
       "  0%|          | 0/610 [00:00<?, ?it/s]"
      ]
     },
     "metadata": {},
     "output_type": "display_data"
    },
    {
     "name": "stdout",
     "output_type": "stream",
     "text": [
      "MAP:\t0.005332\n",
      "NDCG:\t0.090929\n",
      "Precision@K:\t0.080328\n",
      "Recall@K:\t0.010508\n",
      "HR@K:\t0.442623\n",
      "/home/fastuser/msft_ncf_output/ratings/iteration_5/0\n"
     ]
    },
    {
     "name": "stderr",
     "output_type": "stream",
     "text": [
      "/home/fastuser/miniconda3/envs/reco_gpu/lib/python3.6/site-packages/numpy/lib/arraysetops.py:569: FutureWarning: elementwise comparison failed; returning scalar instead, but in the future will perform elementwise comparison\n",
      "  mask |= (ar1 == a)\n"
     ]
    },
    {
     "data": {
      "application/vnd.jupyter.widget-view+json": {
       "model_id": "161cfae9e8fb4868984e3cd3bb7d4eea",
       "version_major": 2,
       "version_minor": 0
      },
      "text/plain": [
       "  0%|          | 0/610 [00:00<?, ?it/s]"
      ]
     },
     "metadata": {},
     "output_type": "display_data"
    },
    {
     "name": "stdout",
     "output_type": "stream",
     "text": [
      "MAP:\t0.052346\n",
      "NDCG:\t0.148370\n",
      "Precision@K:\t0.109000\n",
      "Recall@K:\t0.120858\n",
      "HR@K:\t0.570000\n"
     ]
    },
    {
     "data": {
      "application/vnd.jupyter.widget-view+json": {
       "model_id": "bbebe01e1058452094e03500eb4553e3",
       "version_major": 2,
       "version_minor": 0
      },
      "text/plain": [
       "  0%|          | 0/610 [00:00<?, ?it/s]"
      ]
     },
     "metadata": {},
     "output_type": "display_data"
    },
    {
     "name": "stdout",
     "output_type": "stream",
     "text": [
      "MAP:\t0.052346\n",
      "NDCG:\t0.148370\n",
      "Precision@K:\t0.109000\n",
      "Recall@K:\t0.120858\n",
      "HR@K:\t0.570000\n",
      "/home/fastuser/msft_ncf_output/users/iteration_5/0\n"
     ]
    },
    {
     "name": "stderr",
     "output_type": "stream",
     "text": [
      "/home/fastuser/miniconda3/envs/reco_gpu/lib/python3.6/site-packages/numpy/lib/arraysetops.py:569: FutureWarning: elementwise comparison failed; returning scalar instead, but in the future will perform elementwise comparison\n",
      "  mask |= (ar1 == a)\n"
     ]
    },
    {
     "data": {
      "application/vnd.jupyter.widget-view+json": {
       "model_id": "1ff83b3a1be7428e993a29ff241e07fb",
       "version_major": 2,
       "version_minor": 0
      },
      "text/plain": [
       "  0%|          | 0/610 [00:00<?, ?it/s]"
      ]
     },
     "metadata": {},
     "output_type": "display_data"
    },
    {
     "name": "stdout",
     "output_type": "stream",
     "text": [
      "MAP:\t0.010484\n",
      "NDCG:\t0.165324\n",
      "Precision@K:\t0.150820\n",
      "Recall@K:\t0.020590\n",
      "HR@K:\t0.606557\n"
     ]
    },
    {
     "data": {
      "application/vnd.jupyter.widget-view+json": {
       "model_id": "cc7d81e68b5242e8bad010d1428a8bf2",
       "version_major": 2,
       "version_minor": 0
      },
      "text/plain": [
       "  0%|          | 0/610 [00:00<?, ?it/s]"
      ]
     },
     "metadata": {},
     "output_type": "display_data"
    },
    {
     "name": "stdout",
     "output_type": "stream",
     "text": [
      "MAP:\t0.015956\n",
      "NDCG:\t0.235773\n",
      "Precision@K:\t0.213559\n",
      "Recall@K:\t0.026889\n",
      "HR@K:\t0.644068\n",
      "/home/fastuser/msft_ncf_output/ratings/iteration_5/5\n"
     ]
    },
    {
     "name": "stderr",
     "output_type": "stream",
     "text": [
      "/home/fastuser/miniconda3/envs/reco_gpu/lib/python3.6/site-packages/numpy/lib/arraysetops.py:569: FutureWarning: elementwise comparison failed; returning scalar instead, but in the future will perform elementwise comparison\n",
      "  mask |= (ar1 == a)\n"
     ]
    },
    {
     "data": {
      "application/vnd.jupyter.widget-view+json": {
       "model_id": "a8a0ed24846b43b383698428a50a465d",
       "version_major": 2,
       "version_minor": 0
      },
      "text/plain": [
       "  0%|          | 0/610 [00:00<?, ?it/s]"
      ]
     },
     "metadata": {},
     "output_type": "display_data"
    },
    {
     "name": "stdout",
     "output_type": "stream",
     "text": [
      "MAP:\t0.012800\n",
      "NDCG:\t0.056556\n",
      "Precision@K:\t0.044500\n",
      "Recall@K:\t0.034152\n",
      "HR@K:\t0.288333\n"
     ]
    },
    {
     "data": {
      "application/vnd.jupyter.widget-view+json": {
       "model_id": "d7f0d9717f724388a2a0e62a377e6cb1",
       "version_major": 2,
       "version_minor": 0
      },
      "text/plain": [
       "  0%|          | 0/610 [00:00<?, ?it/s]"
      ]
     },
     "metadata": {},
     "output_type": "display_data"
    },
    {
     "name": "stdout",
     "output_type": "stream",
     "text": [
      "MAP:\t0.012800\n",
      "NDCG:\t0.056556\n",
      "Precision@K:\t0.044500\n",
      "Recall@K:\t0.034152\n",
      "HR@K:\t0.288333\n",
      "/home/fastuser/msft_ncf_output/users/iteration_5/5\n"
     ]
    },
    {
     "data": {
      "application/vnd.jupyter.widget-view+json": {
       "model_id": "812b45724a1a43e995c0cdd5f1c66224",
       "version_major": 2,
       "version_minor": 0
      },
      "text/plain": [
       "  0%|          | 0/610 [00:00<?, ?it/s]"
      ]
     },
     "metadata": {},
     "output_type": "display_data"
    },
    {
     "name": "stdout",
     "output_type": "stream",
     "text": [
      "MAP:\t0.014067\n",
      "NDCG:\t0.188054\n",
      "Precision@K:\t0.152459\n",
      "Recall@K:\t0.022034\n",
      "HR@K:\t0.622951\n"
     ]
    },
    {
     "data": {
      "application/vnd.jupyter.widget-view+json": {
       "model_id": "008f7287cc384ef0b6931231a97e1f0c",
       "version_major": 2,
       "version_minor": 0
      },
      "text/plain": [
       "  0%|          | 0/610 [00:00<?, ?it/s]"
      ]
     },
     "metadata": {},
     "output_type": "display_data"
    },
    {
     "name": "stdout",
     "output_type": "stream",
     "text": [
      "MAP:\t0.006929\n",
      "NDCG:\t0.147825\n",
      "Precision@K:\t0.139344\n",
      "Recall@K:\t0.015508\n",
      "HR@K:\t0.540984\n",
      "/home/fastuser/msft_ncf_output/ratings/iteration_5/8\n"
     ]
    },
    {
     "data": {
      "application/vnd.jupyter.widget-view+json": {
       "model_id": "3d325a29e332443daf9a1b05642332b1",
       "version_major": 2,
       "version_minor": 0
      },
      "text/plain": [
       "  0%|          | 0/610 [00:00<?, ?it/s]"
      ]
     },
     "metadata": {},
     "output_type": "display_data"
    },
    {
     "name": "stdout",
     "output_type": "stream",
     "text": [
      "MAP:\t0.010670\n",
      "NDCG:\t0.044591\n",
      "Precision@K:\t0.034667\n",
      "Recall@K:\t0.025341\n",
      "HR@K:\t0.243333\n"
     ]
    },
    {
     "data": {
      "application/vnd.jupyter.widget-view+json": {
       "model_id": "fdc80b1ff7d94bddb4d4171d98ba9b6c",
       "version_major": 2,
       "version_minor": 0
      },
      "text/plain": [
       "  0%|          | 0/610 [00:00<?, ?it/s]"
      ]
     },
     "metadata": {},
     "output_type": "display_data"
    },
    {
     "name": "stdout",
     "output_type": "stream",
     "text": [
      "MAP:\t0.010658\n",
      "NDCG:\t0.044433\n",
      "Precision@K:\t0.034500\n",
      "Recall@K:\t0.025292\n",
      "HR@K:\t0.241667\n",
      "/home/fastuser/msft_ncf_output/users/iteration_5/8\n"
     ]
    },
    {
     "data": {
      "application/vnd.jupyter.widget-view+json": {
       "model_id": "a79bbb673dc341a0abfd72f5b49a8312",
       "version_major": 2,
       "version_minor": 0
      },
      "text/plain": [
       "  0%|          | 0/610 [00:00<?, ?it/s]"
      ]
     },
     "metadata": {},
     "output_type": "display_data"
    },
    {
     "name": "stdout",
     "output_type": "stream",
     "text": [
      "MAP:\t0.000998\n",
      "NDCG:\t0.042780\n",
      "Precision@K:\t0.034426\n",
      "Recall@K:\t0.002577\n",
      "HR@K:\t0.229508\n"
     ]
    },
    {
     "data": {
      "application/vnd.jupyter.widget-view+json": {
       "model_id": "2e7a4a4605084d11910027a057aba12a",
       "version_major": 2,
       "version_minor": 0
      },
      "text/plain": [
       "  0%|          | 0/610 [00:00<?, ?it/s]"
      ]
     },
     "metadata": {},
     "output_type": "display_data"
    },
    {
     "name": "stdout",
     "output_type": "stream",
     "text": [
      "MAP:\t0.005710\n",
      "NDCG:\t0.141488\n",
      "Precision@K:\t0.132787\n",
      "Recall@K:\t0.012720\n",
      "HR@K:\t0.524590\n",
      "/home/fastuser/msft_ncf_output/ratings/iteration_5/12\n"
     ]
    },
    {
     "data": {
      "application/vnd.jupyter.widget-view+json": {
       "model_id": "1cbddab8bbd746bca91ea1a62595cb3b",
       "version_major": 2,
       "version_minor": 0
      },
      "text/plain": [
       "  0%|          | 0/610 [00:00<?, ?it/s]"
      ]
     },
     "metadata": {},
     "output_type": "display_data"
    },
    {
     "name": "stdout",
     "output_type": "stream",
     "text": [
      "MAP:\t0.005500\n",
      "NDCG:\t0.023753\n",
      "Precision@K:\t0.020167\n",
      "Recall@K:\t0.013452\n",
      "HR@K:\t0.158333\n"
     ]
    },
    {
     "data": {
      "application/vnd.jupyter.widget-view+json": {
       "model_id": "12f4b85968ea4b3286bdb7b50d365858",
       "version_major": 2,
       "version_minor": 0
      },
      "text/plain": [
       "  0%|          | 0/610 [00:00<?, ?it/s]"
      ]
     },
     "metadata": {},
     "output_type": "display_data"
    },
    {
     "name": "stdout",
     "output_type": "stream",
     "text": [
      "MAP:\t0.005515\n",
      "NDCG:\t0.023790\n",
      "Precision@K:\t0.020000\n",
      "Recall@K:\t0.013377\n",
      "HR@K:\t0.156667\n",
      "/home/fastuser/msft_ncf_output/users/iteration_5/12\n"
     ]
    },
    {
     "data": {
      "application/vnd.jupyter.widget-view+json": {
       "model_id": "ea864fda4ee04c0db2d5def56b12f02c",
       "version_major": 2,
       "version_minor": 0
      },
      "text/plain": [
       "  0%|          | 0/610 [00:00<?, ?it/s]"
      ]
     },
     "metadata": {},
     "output_type": "display_data"
    },
    {
     "name": "stdout",
     "output_type": "stream",
     "text": [
      "MAP:\t0.010317\n",
      "NDCG:\t0.169537\n",
      "Precision@K:\t0.147541\n",
      "Recall@K:\t0.018179\n",
      "HR@K:\t0.606557\n"
     ]
    },
    {
     "data": {
      "application/vnd.jupyter.widget-view+json": {
       "model_id": "65438a03bfa841638ff1ba6cabb29f9e",
       "version_major": 2,
       "version_minor": 0
      },
      "text/plain": [
       "  0%|          | 0/610 [00:00<?, ?it/s]"
      ]
     },
     "metadata": {},
     "output_type": "display_data"
    },
    {
     "name": "stdout",
     "output_type": "stream",
     "text": [
      "MAP:\t0.009196\n",
      "NDCG:\t0.139742\n",
      "Precision@K:\t0.122951\n",
      "Recall@K:\t0.015511\n",
      "HR@K:\t0.540984\n",
      "/home/fastuser/msft_ncf_output/ratings/iteration_5/15\n"
     ]
    },
    {
     "data": {
      "application/vnd.jupyter.widget-view+json": {
       "model_id": "964f083f77484bbd9b2708314009f246",
       "version_major": 2,
       "version_minor": 0
      },
      "text/plain": [
       "  0%|          | 0/610 [00:00<?, ?it/s]"
      ]
     },
     "metadata": {},
     "output_type": "display_data"
    },
    {
     "name": "stdout",
     "output_type": "stream",
     "text": [
      "MAP:\t0.004262\n",
      "NDCG:\t0.019246\n",
      "Precision@K:\t0.015167\n",
      "Recall@K:\t0.011663\n",
      "HR@K:\t0.126667\n"
     ]
    },
    {
     "data": {
      "application/vnd.jupyter.widget-view+json": {
       "model_id": "730f2acbd9374eb3b60675ff693f5281",
       "version_major": 2,
       "version_minor": 0
      },
      "text/plain": [
       "  0%|          | 0/610 [00:00<?, ?it/s]"
      ]
     },
     "metadata": {},
     "output_type": "display_data"
    },
    {
     "name": "stdout",
     "output_type": "stream",
     "text": [
      "MAP:\t0.004274\n",
      "NDCG:\t0.019490\n",
      "Precision@K:\t0.015500\n",
      "Recall@K:\t0.011752\n",
      "HR@K:\t0.130000\n",
      "/home/fastuser/msft_ncf_output/users/iteration_5/15\n"
     ]
    },
    {
     "data": {
      "application/vnd.jupyter.widget-view+json": {
       "model_id": "a5fd3a43660e454eaac8add5720dfa50",
       "version_major": 2,
       "version_minor": 0
      },
      "text/plain": [
       "  0%|          | 0/610 [00:00<?, ?it/s]"
      ]
     },
     "metadata": {},
     "output_type": "display_data"
    },
    {
     "name": "stdout",
     "output_type": "stream",
     "text": [
      "MAP:\t0.006393\n",
      "NDCG:\t0.109167\n",
      "Precision@K:\t0.090164\n",
      "Recall@K:\t0.011627\n",
      "HR@K:\t0.426230\n"
     ]
    },
    {
     "data": {
      "application/vnd.jupyter.widget-view+json": {
       "model_id": "d609fce020564b009719ae8bd684c43b",
       "version_major": 2,
       "version_minor": 0
      },
      "text/plain": [
       "  0%|          | 0/610 [00:00<?, ?it/s]"
      ]
     },
     "metadata": {},
     "output_type": "display_data"
    },
    {
     "name": "stdout",
     "output_type": "stream",
     "text": [
      "MAP:\t0.006329\n",
      "NDCG:\t0.121071\n",
      "Precision@K:\t0.113115\n",
      "Recall@K:\t0.013543\n",
      "HR@K:\t0.524590\n",
      "/home/fastuser/msft_ncf_output/ratings/iteration_5/20\n"
     ]
    },
    {
     "data": {
      "application/vnd.jupyter.widget-view+json": {
       "model_id": "c3ee445a65214a0d907d3052f38d070a",
       "version_major": 2,
       "version_minor": 0
      },
      "text/plain": [
       "  0%|          | 0/610 [00:00<?, ?it/s]"
      ]
     },
     "metadata": {},
     "output_type": "display_data"
    },
    {
     "name": "stdout",
     "output_type": "stream",
     "text": [
      "MAP:\t0.003608\n",
      "NDCG:\t0.015609\n",
      "Precision@K:\t0.013500\n",
      "Recall@K:\t0.008642\n",
      "HR@K:\t0.110000\n"
     ]
    },
    {
     "data": {
      "application/vnd.jupyter.widget-view+json": {
       "model_id": "9d938fc7bdbd44e28bff1827b80a4cb9",
       "version_major": 2,
       "version_minor": 0
      },
      "text/plain": [
       "  0%|          | 0/610 [00:00<?, ?it/s]"
      ]
     },
     "metadata": {},
     "output_type": "display_data"
    },
    {
     "name": "stdout",
     "output_type": "stream",
     "text": [
      "MAP:\t0.003590\n",
      "NDCG:\t0.015221\n",
      "Precision@K:\t0.013000\n",
      "Recall@K:\t0.008539\n",
      "HR@K:\t0.105000\n",
      "/home/fastuser/msft_ncf_output/users/iteration_5/20\n"
     ]
    },
    {
     "data": {
      "application/vnd.jupyter.widget-view+json": {
       "model_id": "e56b6338aa9540a7a3b37157b30de53c",
       "version_major": 2,
       "version_minor": 0
      },
      "text/plain": [
       "  0%|          | 0/610 [00:00<?, ?it/s]"
      ]
     },
     "metadata": {},
     "output_type": "display_data"
    },
    {
     "name": "stdout",
     "output_type": "stream",
     "text": [
      "MAP:\t0.004276\n",
      "NDCG:\t0.083623\n",
      "Precision@K:\t0.073770\n",
      "Recall@K:\t0.008944\n",
      "HR@K:\t0.409836\n"
     ]
    },
    {
     "data": {
      "application/vnd.jupyter.widget-view+json": {
       "model_id": "0fb20e48975d4c649bed717708134cfd",
       "version_major": 2,
       "version_minor": 0
      },
      "text/plain": [
       "  0%|          | 0/610 [00:00<?, ?it/s]"
      ]
     },
     "metadata": {},
     "output_type": "display_data"
    },
    {
     "name": "stdout",
     "output_type": "stream",
     "text": [
      "MAP:\t0.005404\n",
      "NDCG:\t0.090230\n",
      "Precision@K:\t0.085246\n",
      "Recall@K:\t0.010666\n",
      "HR@K:\t0.409836\n",
      "/home/fastuser/msft_ncf_output/ratings/iteration_5/25\n"
     ]
    },
    {
     "data": {
      "application/vnd.jupyter.widget-view+json": {
       "model_id": "abc8174300d74a478f4f5db715386455",
       "version_major": 2,
       "version_minor": 0
      },
      "text/plain": [
       "  0%|          | 0/610 [00:00<?, ?it/s]"
      ]
     },
     "metadata": {},
     "output_type": "display_data"
    },
    {
     "name": "stdout",
     "output_type": "stream",
     "text": [
      "MAP:\t0.002506\n",
      "NDCG:\t0.012167\n",
      "Precision@K:\t0.009833\n",
      "Recall@K:\t0.006467\n",
      "HR@K:\t0.081667\n"
     ]
    },
    {
     "data": {
      "application/vnd.jupyter.widget-view+json": {
       "model_id": "0d0f01076fa945ac98781dc936a8a377",
       "version_major": 2,
       "version_minor": 0
      },
      "text/plain": [
       "  0%|          | 0/610 [00:00<?, ?it/s]"
      ]
     },
     "metadata": {},
     "output_type": "display_data"
    },
    {
     "name": "stdout",
     "output_type": "stream",
     "text": [
      "MAP:\t0.002502\n",
      "NDCG:\t0.012246\n",
      "Precision@K:\t0.010167\n",
      "Recall@K:\t0.006542\n",
      "HR@K:\t0.083333\n",
      "/home/fastuser/msft_ncf_output/users/iteration_5/25\n"
     ]
    },
    {
     "data": {
      "application/vnd.jupyter.widget-view+json": {
       "model_id": "8d8b0a157359408691309ea52033702c",
       "version_major": 2,
       "version_minor": 0
      },
      "text/plain": [
       "  0%|          | 0/610 [00:00<?, ?it/s]"
      ]
     },
     "metadata": {},
     "output_type": "display_data"
    },
    {
     "name": "stdout",
     "output_type": "stream",
     "text": [
      "MAP:\t0.000423\n",
      "NDCG:\t0.021583\n",
      "Precision@K:\t0.027869\n",
      "Recall@K:\t0.002404\n",
      "HR@K:\t0.262295\n"
     ]
    },
    {
     "data": {
      "application/vnd.jupyter.widget-view+json": {
       "model_id": "784ca3106b66419bb7622cfc9307c836",
       "version_major": 2,
       "version_minor": 0
      },
      "text/plain": [
       "  0%|          | 0/610 [00:00<?, ?it/s]"
      ]
     },
     "metadata": {},
     "output_type": "display_data"
    },
    {
     "name": "stdout",
     "output_type": "stream",
     "text": [
      "MAP:\t0.003115\n",
      "NDCG:\t0.093430\n",
      "Precision@K:\t0.090164\n",
      "Recall@K:\t0.009645\n",
      "HR@K:\t0.459016\n"
     ]
    }
   ],
   "source": [
    "\n",
    "results = pd.DataFrame(columns=['iteration', 'k', 'split_type', 'distance_metric', 'map@10', 'ndcg@10', 'precision@10', 'recall@10', 'hr@10'])\n",
    "iterations = range(1,6)\n",
    "ks = Utility('ratings').get_ks()\n",
    "split_types=['ratings', 'users']\n",
    "dist_metrics= ['euclidean', 'jaccard']\n",
    "res_list = []\n",
    "OUT_FILE='evaluation_resultsv2.csv'\n",
    "RERUN=True\n",
    "if os.path.exists(OUT_FILE):\n",
    "    results = pd.read_csv(OUT_FILE)\n",
    "\n",
    "def is_entry_in_evaluation_df(df, split_type, iteration, k, dist_metric):\n",
    "    return len(df[(df['split_type'] == split_type) & (df['iteration']==iteration) & (df['k']==k) & (df['distance_metric']==dist_metric)]) > 0\n",
    "\n",
    "for iteration in iterations:\n",
    "    for k in ks:\n",
    "        for split_type in split_types:\n",
    "            predictions = ClusterPredictionSaver.load(split_type, iteration, k)\n",
    "            for dist_metric in dist_metrics:\n",
    "                #split_type = 'ratings'\n",
    "                #iteration = 3\n",
    "                #k = 15\n",
    "                if (not RERUN) and is_entry_in_evaluation_df(results, split_type, iteration, k, dist_metric):\n",
    "                    print(f\"Already have evaluation for ({split_type}, {iteration}, {k}, {dist_metric}\")\n",
    "                    display(df[(df['split_type'] == split_type) & (df['iteration']==iteration) & (df['k']==k) & (df['distance_metric']==dist_metric)])\n",
    "                    continue\n",
    "                try:\n",
    "                    meanap, ndcg, precision, recall, hr = evaluate_from_cluster(predictions, split_type,  iteration, k, dist_metric)\n",
    "                    result = {'iteration':iteration ,\\\n",
    "                              'k':k,\\\n",
    "                              'split_type':split_type,\\\n",
    "                              'distance_metric':dist_metric,\\\n",
    "                              'map@10':meanap,\\\n",
    "                              'ndcg@10':ndcg,\\\n",
    "                              'precision@10':precision,\\\n",
    "                              'recall@10':recall,\\\n",
    "                             'hr@10':hr}\n",
    "                    results = results.append([result])\n",
    "                    results.to_csv(OUT_FILE, index=False)\n",
    "                except:\n",
    "                    print(f\"Likely is not done yet: {split_type} | {iteration} | {k}\")\n",
    "                    raise\n"
   ]
  },
  {
   "cell_type": "code",
   "execution_count": 13,
   "metadata": {},
   "outputs": [],
   "source": [
    "results.to_csv('evaluation_resultsv2.csv', index=False)"
   ]
  },
  {
   "cell_type": "code",
   "execution_count": 50,
   "metadata": {},
   "outputs": [
    {
     "data": {
      "image/png": "[encoded data removed]",
      "text/plain": [
       "<Figure size 432x288 with 1 Axes>"
      ]
     },
     "metadata": {
      "needs_background": "light"
     },
     "output_type": "display_data"
    },
    {
     "data": {
      "image/png": "[encoded data removed]",
      "text/plain": [
       "<Figure size 432x288 with 1 Axes>"
      ]
     },
     "metadata": {
      "needs_background": "light"
     },
     "output_type": "display_data"
    },
    {
     "data": {
      "image/png": "[encoded data removed]",
      "text/plain": [
       "<Figure size 432x288 with 1 Axes>"
      ]
     },
     "metadata": {
      "needs_background": "light"
     },
     "output_type": "display_data"
    },
    {
     "data": {
      "image/png": "[encoded data removed]",
      "text/plain": [
       "<Figure size 432x288 with 1 Axes>"
      ]
     },
     "metadata": {
      "needs_background": "light"
     },
     "output_type": "display_data"
    }
   ],
   "source": [
    "groupped = results.groupby(['split_type', 'distance_metric', 'k']).agg('mean').reset_index()\n",
    "import matplotlib.pyplot as plt\n",
    "\n",
    "def plot_metric_vs_k(df, dist_metric, split_type, metric):\n",
    "    base = df.loc[(df['distance_metric'] == dist_metric) &( df['split_type'] == split_type) ]\n",
    "    ks = base.k.values\n",
    "    metrics = base[metric].values\n",
    "    plt.plot(ks, metrics)\n",
    "    plt.xlabel('k')\n",
    "    plt.ylabel(metric)\n",
    "    plt.title(f'k vs {metric} for {split_type} split : {dist_metric}')\n",
    "    plt.show()\n",
    "\n",
    "for split_type in split_types:\n",
    "    for dist_type in ['euclidean', 'jaccard']:\n",
    "        plot_metric_vs_k(groupped, dist_type, split_type, 'precision@10')"
   ]
  },
  {
   "cell_type": "code",
   "execution_count": null,
   "metadata": {},
   "outputs": [],
   "source": [
    "#train, test = python_chrono_split(df, 0.75)\n",
    "train = Utility('ratings', iteration=1).get_training_data(0)[0]\n",
    "test=Utility('ratings', iteration=1).get_test_data()\n",
    "test.head(5)"
   ]
  },
  {
   "cell_type": "code",
   "execution_count": null,
   "metadata": {},
   "outputs": [],
   "source": [
    "train.head(5)"
   ]
  },
  {
   "cell_type": "markdown",
   "metadata": {},
   "source": [
    "Generate an NCF dataset object from the data subsets."
   ]
  },
  {
   "cell_type": "code",
   "execution_count": null,
   "metadata": {},
   "outputs": [],
   "source": [
    "data = NCFDataset(train=train, test=test, col_user=COL_NAME_USER_ID, col_item=COL_NAME_MOVIE_ID, col_rating=COL_NAME_RATING, seed=SEED)"
   ]
  },
  {
   "cell_type": "markdown",
   "metadata": {},
   "source": [
    "### 3. Train the NCF model on the training data, and get the top-k recommendations for our testing data\n",
    "\n",
    "NCF accepts implicit feedback and generates prospensity of items to be recommended to users in the scale of 0 to 1. A recommended item list can then be generated based on the scores. Note that this quickstart notebook is using a smaller number of epochs to reduce time for training. As a consequence, the model performance will be slighlty deteriorated. "
   ]
  },
  {
   "cell_type": "code",
   "execution_count": null,
   "metadata": {},
   "outputs": [],
   "source": [
    "model = NCF (\n",
    "    n_users=data.n_users, \n",
    "    n_items=data.n_items,\n",
    "    model_type=\"NeuMF\",\n",
    "    n_factors=4,\n",
    "    layer_sizes=[16,8,4],\n",
    "    n_epochs=EPOCHS,\n",
    "    batch_size=BATCH_SIZE,\n",
    "    learning_rate=1e-3,\n",
    "    verbose=10,\n",
    "    seed=SEED\n",
    ")"
   ]
  },
  {
   "cell_type": "code",
   "execution_count": null,
   "metadata": {},
   "outputs": [],
   "source": [
    "with Timer() as train_time:\n",
    "    model.fit(data)\n",
    "\n",
    "print(\"Took {} seconds for training.\".format(train_time))"
   ]
  },
  {
   "cell_type": "markdown",
   "metadata": {},
   "source": [
    "In the movie recommendation use case scenario, seen movies are not recommended to the users."
   ]
  },
  {
   "cell_type": "code",
   "execution_count": null,
   "metadata": {},
   "outputs": [],
   "source": [
    "import importlib\n",
    "importlib."
   ]
  },
  {
   "cell_type": "code",
   "execution_count": null,
   "metadata": {},
   "outputs": [],
   "source": [
    "with Timer() as test_time:\n",
    "    users, items, preds = [], [], []\n",
    "    item = list(train[COL_NAME_MOVIE_ID].unique())\n",
    "    for user in train[COL_NAME_USER_ID].unique():\n",
    "        user = [user] * len(item) \n",
    "        users.extend(user)\n",
    "        items.extend(item)\n",
    "        preds.extend(list(model.predict(user, item, is_list=True)))\n",
    "\n",
    "    all_predictions = pd.DataFrame(data={COL_NAME_USER_ID: users, COL_NAME_MOVIE_ID:items, \"prediction\":preds})\n",
    "\n",
    "    merged = pd.merge(train, all_predictions, on=[COL_NAME_USER_ID, COL_NAME_MOVIE_ID], how=\"outer\")\n",
    "    all_predictions = merged[merged.rating.isnull()].drop(COL_NAME_RATING, axis=1)\n",
    "\n",
    "print(\"Took {} seconds for prediction.\".format(test_time))"
   ]
  },
  {
   "cell_type": "markdown",
   "metadata": {},
   "source": [
    "### 4. Evaluate how well NCF performs"
   ]
  },
  {
   "cell_type": "markdown",
   "metadata": {},
   "source": [
    "The ranking metrics are used for evaluation."
   ]
  },
  {
   "cell_type": "code",
   "execution_count": null,
   "metadata": {},
   "outputs": [],
   "source": [
    "eval_map = map_at_k(test, all_predictions, col_prediction='prediction', col_user=COL_NAME_USER_ID, col_item=COL_NAME_MOVIE_ID,k=TOP_K)\n",
    "eval_ndcg = ndcg_at_k(test, all_predictions, col_prediction='prediction',col_user=COL_NAME_USER_ID, col_item=COL_NAME_MOVIE_ID, k=TOP_K)\n",
    "eval_precision = precision_at_k(test, all_predictions, col_prediction='prediction', col_user=COL_NAME_USER_ID, col_item=COL_NAME_MOVIE_ID, k=TOP_K)\n",
    "eval_recall = recall_at_k(test, all_predictions, col_prediction='prediction', col_user=COL_NAME_USER_ID, col_item=COL_NAME_MOVIE_ID, k=TOP_K)\n",
    "\n",
    "print(\"MAP:\\t%f\" % eval_map,\n",
    "      \"NDCG:\\t%f\" % eval_ndcg,\n",
    "      \"Precision@K:\\t%f\" % eval_precision,\n",
    "      \"Recall@K:\\t%f\" % eval_recall, sep='\\n')"
   ]
  },
  {
   "cell_type": "code",
   "execution_count": null,
   "metadata": {},
   "outputs": [],
   "source": [
    "with Timer() as test_time:\n",
    "    users, items, preds = [], [], []\n",
    "    item = list(train.itemID.unique())\n",
    "    for user in train.userID.unique():\n",
    "        user = [user] * len(item) \n",
    "        users.extend(user)\n",
    "        items.extend(item)\n",
    "        preds.extend(list(model.predict(user, item, is_list=True)))\n",
    "\n",
    "    all_predictions = pd.DataFrame(data={\"userID\": users, \"itemID\":items, \"prediction\":preds})\n",
    "\n",
    "    merged = pd.merge(train, all_predictions, on=[\"userID\", \"itemID\"], how=\"outer\")\n",
    "    all_predictions = merged[merged.rating.isnull()].drop('rating', axis=1)\n",
    "\n",
    "print(\"Took {} seconds for prediction.\".format(test_time))\n",
    "\n",
    "eval_map = map_at_k(test, all_predictions, col_prediction='prediction', k=TOP_K)\n",
    "eval_ndcg = ndcg_at_k(test, all_predictions, col_prediction='prediction', k=TOP_K)\n",
    "eval_precision = precision_at_k(test, all_predictions, col_prediction='prediction', k=TOP_K)\n",
    "eval_recall = recall_at_k(test, all_predictions, col_prediction='prediction', k=TOP_K)\n",
    "\n",
    "print(\"MAP:\\t%f\" % eval_map,\n",
    "      \"NDCG:\\t%f\" % eval_ndcg,\n",
    "      \"Precision@K:\\t%f\" % eval_precision,\n",
    "      \"Recall@K:\\t%f\" % eval_recall, sep='\\n')"
   ]
  },
  {
   "cell_type": "code",
   "execution_count": null,
   "metadata": {},
   "outputs": [],
   "source": [
    "if is_jupyter():\n",
    "    # Record results with papermill for tests\n",
    "    import papermill as pm\n",
    "    import scrapbook as sb\n",
    "    sb.glue(\"map\", eval_map)\n",
    "    sb.glue(\"ndcg\", eval_ndcg)\n",
    "    sb.glue(\"precision\", eval_precision)\n",
    "    sb.glue(\"recall\", eval_recall)\n",
    "    sb.glue(\"train_time\", train_time.interval)\n",
    "    sb.glue(\"test_time\", test_time.interval)"
   ]
  },
  {
   "cell_type": "code",
   "execution_count": null,
   "metadata": {},
   "outputs": [],
   "source": []
  }
 ],
 "metadata": {
  "celltoolbar": "Tags",
  "kernelspec": {
   "display_name": "Python reco_gpu",
   "language": "python",
   "name": "reco_gpu"
  },
  "language_info": {
   "codemirror_mode": {
    "name": "ipython",
    "version": 3
   },
   "file_extension": ".py",
   "mimetype": "text/x-python",
   "name": "python",
   "nbconvert_exporter": "python",
   "pygments_lexer": "ipython3",
   "version": "3.6.11"
  }
 },
 "nbformat": 4,
 "nbformat_minor": 2
}
