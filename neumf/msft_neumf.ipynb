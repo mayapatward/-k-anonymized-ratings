{
 "cells": [
  {
   "cell_type": "markdown",
   "metadata": {},
   "source": [
    "<i>Copyright (c) Microsoft Corporation. All rights reserved.</i>\n",
    "\n",
    "<i>Licensed under the MIT License.</i>"
   ]
  },
  {
   "cell_type": "markdown",
   "metadata": {},
   "source": [
    "# Neural Collaborative Filtering on MovieLens dataset.\n",
    "\n",
    "Neural Collaborative Filtering (NCF) is a well known recommendation algorithm that generalizes the matrix factorization problem with multi-layer perceptron. \n",
    "\n",
    "This notebook provides an example of how to utilize and evaluate NCF implementation in the `reco_utils`. We use a smaller dataset in this example to run NCF efficiently with GPU acceleration on a [Data Science Virtual Machine](https://azure.microsoft.com/en-gb/services/virtual-machines/data-science-virtual-machines/)."
   ]
  },
  {
   "cell_type": "code",
   "execution_count": 1,
   "metadata": {},
   "outputs": [],
   "source": [
    "%load_ext autoreload\n",
    "%autoreload 2"
   ]
  },
  {
   "cell_type": "code",
   "execution_count": 2,
   "metadata": {},
   "outputs": [
    {
     "name": "stdout",
     "output_type": "stream",
     "text": [
      "System version: 3.6.11 | packaged by conda-forge | (default, Nov 27 2020, 18:57:37) \n",
      "[GCC 9.3.0]\n",
      "Pandas version: 1.1.5\n",
      "Tensorflow version: 1.15.4\n"
     ]
    }
   ],
   "source": [
    "import sys\n",
    "import pandas as pd\n",
    "import tensorflow as tf\n",
    "tf.get_logger().setLevel('ERROR') # only show error messages\n",
    "\n",
    "from reco_utils.common.timer import Timer\n",
    "from reco_utils.recommender.ncf.ncf_singlenode import NCF\n",
    "from reco_utils.recommender.ncf.dataset import Dataset as NCFDataset\n",
    "from reco_utils.dataset import movielens\n",
    "from reco_utils.common.notebook_utils import is_jupyter\n",
    "from reco_utils.dataset.python_splitters import python_chrono_split\n",
    "from reco_utils.evaluation.python_evaluation import (precision_recall_hr_map_ndcg_at_k, rmse, mae, rsquared, exp_var, map_at_k, ndcg_at_k, precision_at_k, \n",
    "                                                     recall_at_k, get_top_k_items)\n",
    "\n",
    "print(\"System version: {}\".format(sys.version))\n",
    "print(\"Pandas version: {}\".format(pd.__version__))\n",
    "print(\"Tensorflow version: {}\".format(tf.__version__))"
   ]
  },
  {
   "cell_type": "markdown",
   "metadata": {},
   "source": [
    "Set the default parameters."
   ]
  },
  {
   "cell_type": "code",
   "execution_count": 3,
   "metadata": {
    "tags": [
     "parameters"
    ]
   },
   "outputs": [],
   "source": [
    "# top k items to recommend\n",
    "TOP_K = 10\n",
    "\n",
    "# Model parameters\n",
    "EPOCHS = 30\n",
    "BATCH_SIZE = 256\n",
    "\n",
    "SEED = 42"
   ]
  },
  {
   "cell_type": "code",
   "execution_count": 4,
   "metadata": {},
   "outputs": [],
   "source": [
    "from tqdm.notebook import tqdm\n",
    "import os\n",
    "import json\n",
    "import numpy as np\n",
    "import pandas as pd\n",
    "from scipy.spatial import distance\n",
    "\n",
    "\n",
    "BASE_PATH = '../../content/drive/MyDrive/CSE547_Final_Project/ml-100k/'\n",
    "\n",
    "COL_NAME_PREDICTION = \"prediction\"\n",
    "COL_NAME_USER_ID = \"userId\"\n",
    "COL_NAME_MOVIE_ID = \"movieId\"\n",
    "COL_NAME_ITEM_ID = COL_NAME_MOVIE_ID\n",
    "COL_NAME_RATING = \"rating\"\n",
    "COL_NAME_MOVIE_RATINGS = \"movies_and_ratings\"\n",
    "\n",
    "\n",
    "class Utility:\n",
    "    \n",
    "    def __init__(self, split_type, base_path=BASE_PATH, iteration=1):\n",
    "        \"\"\"Init the utility class\n",
    "        Keyword arguments\n",
    "        base_path -- The directory where files are located. \n",
    "        \"\"\"\n",
    "        splits_and_paths = self.get_splits_and_paths()\n",
    "        if split_type not in splits_and_paths:\n",
    "          print(f\"split_type must be one of {','.join(list(splits_and_paths.keys()))}\")\n",
    "        valid_iterations = set(range(1,6))\n",
    "        if iteration not in valid_iterations:\n",
    "          print(f\"iteration must be one of {','.join(list(valid_iterations))}\")\n",
    "        if not os.path.isdir(base_path):\n",
    "            raise OSError(f'{base_path} is not a directory')\n",
    "        \n",
    "        self.base_path = base_path\n",
    "        self.anonymized_data_path = os.path.join(self.base_path, splits_and_paths[split_type], f\"iter_{iteration}_fix\")\n",
    "\n",
    "        self.ratings_file_name =  'ratings.csv'\n",
    "\n",
    "        self.training_file_name = 'ratings_train.csv'\n",
    "        self.test_file_name = 'ratings_test.csv'\n",
    "        self.validation_file_name = 'ratings_validation.csv'\n",
    "        self.evaluation_file_name = 'evaluation.csv'\n",
    "        self.user_movie_ratings_matrix_file_name = 'user_movie_ratings_matrix.csv'\n",
    "        self.user_to_idx_file_name =  \"user_to_idx.json\"\n",
    "        self.movie_to_idx_file_name =  \"movie_to_idx.json\"\n",
    "\n",
    "        self.k_anonymized_postfix = '_anonymized.csv'\n",
    "        self.k_anonymized_map_postfix = '_anonymized_idx_to_kanon_idx.json'\n",
    "    \n",
    "    def get_training_user_itemlist(self):\n",
    "      training_data,_,_ = self.get_unanonymized_training_data()\n",
    "      return training_data.groupby(COL_NAME_USER_ID)[COL_NAME_MOVIE_ID].agg(set)\n",
    "  \n",
    "    def get_test_user_itemlist(self):\n",
    "      test_data = self.get_test_data()\n",
    "      return test_data.groupby(COL_NAME_USER_ID)[COL_NAME_MOVIE_ID].agg(set)\n",
    "  \n",
    "\n",
    "    def generate_evaluation_dataframe(self, num_negative_items_to_sample_per_user=100):\n",
    "      training_data = self.get_training_user_itemlist()\n",
    "      test_data = self.get_test_user_itemlist()\n",
    "      users = np.unique(np.concatenate([training_data.index.values, test_data.index.values]))\n",
    "      all_items_to_consider = set(self.get_movie_to_col_index().keys())\n",
    "      evaluation_df = self.get_test_data()\n",
    "      rows_to_add = []\n",
    "      for user in users:\n",
    "          items_in_train = training_data.loc[user]\n",
    "          items_in_test = test_data.loc[user]\n",
    "          neg_items = all_items_to_consider - items_in_train - items_in_test\n",
    "          neg_items = np.random.choice(list(neg_items), size=num_negative_items_to_sample_per_user, replace=False)\n",
    "          rows_to_add.extend([{COL_NAME_USER_ID:user, COL_NAME_MOVIE_ID:item, COL_NAME_RATING:0.0} for item in neg_items])\n",
    "      evaluation_df = evaluation_df.append(rows_to_add, True)\n",
    "      return evaluation_df\n",
    "    \n",
    "    def get_evaluation_path(self):\n",
    "      return os.path.join(self.anonymized_data_path,self.evaluation_file_name)\n",
    "\n",
    "    def save_evaluation_df_to(self, df, overwrite=False):\n",
    "      if os.path.exists(self.get_evaluation_path()) and not(overwrite):\n",
    "        print(\"File exists, if you want to overwrite, then pass the arugment to\")\n",
    "        return\n",
    "      df.to_csv(self.get_evaluation_path())\n",
    "    \n",
    "    def get_evaluation_data(self):\n",
    "        return pd.read_csv(self.get_evaluation_path())\n",
    "\n",
    "    def get_splits_and_paths(self):\n",
    "        return {\n",
    "            'ratings': 'ratings_split',\n",
    "            'users': 'train_test_v2/rawdata_split'\n",
    "        }\n",
    "\n",
    "    def euclidean_distance(self, point1, point2):\n",
    "        return np.linalg.norm(point1 - point2) ** 2\n",
    "    \n",
    "    def manhattan_distance(self, point1, point2):\n",
    "        return abs(point1 - point2).sum()\n",
    "    \n",
    "    def jaccard_distance(self, point1, point2):\n",
    "        return distance.jaccard(point1, point2)\n",
    "  \n",
    "    def find_closest_point(self, points_list, point, metric='euclidean'):\n",
    "\n",
    "        min_distance = float('inf')\n",
    "        min_distance_idx = -1\n",
    "        i = 0\n",
    "        for p in points_list:\n",
    "            if metric == 'euclidean':\n",
    "                distance = self.euclidean_distance(p, point)\n",
    "            elif metric == 'manhattan':\n",
    "                distance = self.manhattan_distance(p, point)\n",
    "            elif metric == 'jaccard':\n",
    "                distance = self.jaccard_distance(p, point)\n",
    "            else:\n",
    "                print('Function not implemented!')\n",
    "\n",
    "            if distance < min_distance:\n",
    "                min_distance = distance\n",
    "                min_distance_idx = i\n",
    "            \n",
    "            i += 1\n",
    "        \n",
    "        return min_distance_idx\n",
    "\n",
    "    def flatten_matrix_into_dataframe(self, matrix):\n",
    "        value_vars = [v for v in matrix.columns.values if v != COL_NAME_USER_ID]\n",
    "        DEFAULT_VARIABLE_NAME_IN_MELT=\"variable\"\n",
    "        DEFAULT_VALUE_NAME_IN_MELT=\"value\"\n",
    "        movies_dict = self.get_col_to_movie_index()\n",
    "        matrix = matrix \\\n",
    "        .melt(id_vars=[COL_NAME_USER_ID], value_vars=value_vars) \\\n",
    "        .rename(columns={DEFAULT_VARIABLE_NAME_IN_MELT: COL_NAME_MOVIE_ID, DEFAULT_VALUE_NAME_IN_MELT: COL_NAME_RATING}) \\\n",
    "        .apply(lambda x : pd.to_numeric(x, downcast='integer'))\n",
    "        matrix[COL_NAME_MOVIE_ID] = matrix[COL_NAME_MOVIE_ID].apply(lambda x: movies_dict[x])\n",
    "        matrix[COL_NAME_USER_ID] = matrix[COL_NAME_USER_ID] + 1\n",
    "        matrix = matrix[matrix[COL_NAME_RATING] > 0]\n",
    "        return matrix\n",
    "\n",
    "    def get_training_data_file_path(self, k:int):\n",
    "      if k ==0:\n",
    "        return os.path.join(self.anonymized_data_path, \"user_movie_ratings_matrix.csv\")\n",
    "      return os.path.join(self.anonymized_data_path, f\"{k}{self.k_anonymized_postfix}\")\n",
    "\n",
    "    def get_test_data_file_path(self):\n",
    "      return os.path.join(self.anonymized_data_path, self.test_file_name)\n",
    "\n",
    "    def get_training_data(self, k:int, path=None):\n",
    "      path = path if path is not None else self.get_training_data_file_path(k)\n",
    "      mldf = pd.read_csv(path, header=None if k!=0 else 0).reset_index().rename(columns={'index': COL_NAME_USER_ID})\n",
    "      mldf= self.flatten_matrix_into_dataframe(mldf)\n",
    "      return mldf, len(mldf[COL_NAME_USER_ID].unique()), len(mldf[COL_NAME_MOVIE_ID].unique())\n",
    "\n",
    "    def get_training_data_for_evaluation(self):\n",
    "        mldf = pd.read_csv(self.get_training_data_path())\n",
    "        return self._group_and_get_sets_for_evaluation(mldf)\n",
    "\n",
    "    def get_test_data(self):\n",
    "        return pd.read_csv(self.get_test_data_file_path()).apply(lambda x : pd.to_numeric(x, downcast='integer'))\n",
    "\n",
    "    def _group_and_get_sets_for_evaluation(self, df):\n",
    "        testdf=df.sort_values(by=COL_NAME_RATING, ascending=False)\n",
    "        grouped=testdf.groupby(COL_NAME_USER_ID).agg({COL_NAME_MOVIE_ID:lambda x: list(x), COL_NAME_RATING:lambda x: list(x)})\n",
    "        grouped[COL_NAME_MOVIE_RATINGS] = grouped.apply(lambda x: list(zip(x[COL_NAME_MOVIE_ID], x[COL_NAME_RATING])), axis=1)\n",
    "        grouped=grouped.drop(columns=[COL_NAME_RATING])\n",
    "        return grouped\n",
    "\n",
    "    def get_unanonymized_training_data(self):\n",
    "      df = pd.read_csv(self.get_training_data_path())\n",
    "      return df.apply(pd.to_numeric), len(df[COL_NAME_USER_ID].unique()), len(df[COL_NAME_MOVIE_ID].unique())\n",
    "\n",
    "    def get_complete_data_path(self):\n",
    "      return os.path.join(self.base_path, self.ratings_file_name)\n",
    "\n",
    "    def get_complete_data(self):\n",
    "      df = pd.read_csv(self.get_complete_data_path())\n",
    "      return df.apply(pd.to_numeric), len(df[COL_NAME_USER_ID].unique()), len(df[COL_NAME_MOVIE_ID].unique())\n",
    "  \n",
    "    def get_evaluation_data_for_evaluation(self):\n",
    "      df = self.get_evaluation_data()\n",
    "      return self._group_and_get_sets_for_evaluation(df)\n",
    "    \n",
    "    def get_test_data_for_evaluation(self):\n",
    "      testdf=self.get_test_data()\n",
    "      return self._group_and_get_sets_for_evaluation(testdf)\n",
    "  \n",
    "    def get_training_data_path(self):\n",
    "        \"\"\"Get path to training file\n",
    "        Keyword arguments\n",
    "        base_path -- The directory where files are located. \n",
    "        \"\"\"        \n",
    "        return os.path.join(self.anonymized_data_path, self.training_file_name)       \n",
    "\n",
    "    def get_test_data_path(self):\n",
    "        \"\"\"Get path to test file\n",
    "        Keyword arguments\n",
    "        base_path -- The directory where files are located. \n",
    "        \"\"\"\n",
    "        return os.path.join(self.anonymized_data_path, self.test_file_name)\n",
    "    \n",
    "    def get_validation_data_path(self):\n",
    "        \"\"\"Get path to validation file\n",
    "        Keyword arguments\n",
    "        base_path -- The directory where files are located. \n",
    "        \"\"\"\n",
    "        return os.path.join(self.anonymized_data_path, self.validation_file_name)\n",
    "    \n",
    "    def get_train_data_user_map_path(self):\n",
    "        \"\"\"Get path to user id to train index file map\n",
    "        Keyword arguments\n",
    "        base_path -- The directory where files are located. \n",
    "        \"\"\"\n",
    "        return os.path.join(self.anonymized_data_path, self.user_to_idx_file_name)\n",
    "    \n",
    "    def get_train_data_movie_map_path(self):\n",
    "        \"\"\"Get path to movie id to train index file map\n",
    "        Keyword arguments\n",
    "        base_path -- The directory where files are located. \n",
    "        \"\"\"\n",
    "        return os.path.join(self.anonymized_data_path, self.movie_to_idx_file_name)\n",
    "   \n",
    "    def _coalesce_path(self,path1, path2):\n",
    "        return path1 if path1 != \"\" else path2\n",
    "\n",
    "    def get_utility_matrix_from_train(self):      \n",
    "        # df = pd.read_csv(file_path) # Bug fix -- Check the whole dataset now and map all movies\n",
    "        df, _, _ = self.get_complete_data()\n",
    "        \n",
    "        movie_id_to_idx_dict = self.get_movie_to_col_index()\n",
    "\n",
    "        users = df.userId.unique()\n",
    "        test_user_dict = {users[i]: i for i in range(len(users))}\n",
    "\n",
    "        num_users = len(df.userId.unique())\n",
    "        num_movies = len(movie_id_to_idx_dict) + 1\n",
    "        utility_matrix = np.zeros((num_users, num_movies))\n",
    "\n",
    "        for index, row in df.iterrows():\n",
    "            movie_id, rating = int(row[COL_NAME_MOVIE_ID]), float(row[COL_NAME_RATING])\n",
    "            utility_matrix[test_user_dict[row[COL_NAME_USER_ID]]][0] = int(row[COL_NAME_USER_ID])\n",
    "            \n",
    "            if movie_id in movie_id_to_idx_dict:\n",
    "                utility_matrix[test_user_dict[row[COL_NAME_USER_ID]]][movie_id_to_idx_dict[movie_id]] = rating\n",
    "            #else:\n",
    "            #   print(f'Movie ID {movie_id} not found!')\n",
    "        \n",
    "        return utility_matrix\n",
    "    \n",
    "    def get_msft_ncf_dataset(self, k):\n",
    "        train,_,_ = self.get_training_data(k)\n",
    "        test = self.get_test_data()\n",
    "        return  NCFDataset(train=train, test=test, col_user=COL_NAME_USER_ID, col_item=COL_NAME_MOVIE_ID, col_rating=COL_NAME_RATING, seed=SEED), train, test\n",
    "        \n",
    "    def get_k_anonymized_map_path(self, k, base_path=\"\"):\n",
    "        \"\"\"Get path to k-anonymzied map. \n",
    "        {k}_anonymized_idx_to_kanon_idx.json --> the mapping from user index \n",
    "        (row in the ratings_train.csv) to the row index in the \n",
    "        corresponding {k}_anonymized.csv file\n",
    "        Keyword arguments\n",
    "        k -- \n",
    "        base_path -- The directory where files are located. \n",
    "        \"\"\"\n",
    "        return os.path.join(self.anonymized_data_path,f\"{k}{self.k_anonymized_map_postfix}\")\n",
    "    \n",
    "    def get_col_to_movie_index(self):\n",
    "        movie_to_idx_path = self.get_train_data_movie_map_path()\n",
    "        with open(movie_to_idx_path) as json_file:\n",
    "            movie_id_to_idx_dict = json.load(json_file)\n",
    "        return {v:int(k) for k,v in movie_id_to_idx_dict.items()}\n",
    "\n",
    "    def get_movie_to_col_index(self):\n",
    "        movie_to_idx_path = self.get_train_data_movie_map_path()\n",
    "        with open(movie_to_idx_path) as json_file:\n",
    "            movie_id_to_idx_dict = json.load(json_file)\n",
    "        return {int(k):v for k,v in movie_id_to_idx_dict.items()}\n",
    "\n",
    "    def get_feature_vector_for_user(self, movie_ratings:list):\n",
    "        \"\"\"Returns a vector, with the same dimentions as the \n",
    "        training dataset. \n",
    "        Keyword arguments\n",
    "        movie_ratings -- A list of tuples. Each tuple should be\n",
    "        as follows: (movie_id, rating)\n",
    "        \"\"\"\n",
    "        movie_to_idx_path = self.get_train_data_movie_map_path()\n",
    "        with open(movie_to_idx_path) as json_file:\n",
    "            movie_id_to_idx_dict = json.load(json_file)\n",
    "        \n",
    "        feature_vec = [0 for _ in range(len(movie_id_to_idx_dict))]\n",
    "        movie_not_found= 0\n",
    "        for movie_id, rating in movie_ratings:\n",
    "            movie_id, rating = int(movie_id), int(rating)\n",
    "\n",
    "            if movie_id in movie_id_to_idx_dict.keys():\n",
    "                feature_vec[movie_id_to_idx_dict[movie_id]] = rating\n",
    "            else:\n",
    "                movie_not_found += 1\n",
    "                #print(f'Movie ID {movie_id} not found!')\n",
    "        print(f\"{movie_not_found} movies not found.\")\n",
    "        return feature_vec\n",
    "       \n",
    "    def get_col_to_user_index(self):\n",
    "        id_to_idx_path = self.get_train_data_user_map_path()\n",
    "        with open(id_to_idx_path) as json_file:\n",
    "            id_to_idx_dict = json.load(json_file)\n",
    "        return {int(k):v for k,v in id_to_idx_dict.items()}\n",
    "    \n",
    "    def get_col_to_kanoncol_index(self, k):\n",
    "        idx_to_kidx_path = self.get_k_anonymized_map_path(k, self.base_path)\n",
    "        with open(idx_to_kidx_path) as json_file:\n",
    "            idx_to_kidx_path_dict = json.load(json_file)\n",
    "        return {int(k):v for k,v in idx_to_kidx_path_dict.items()}\n",
    "\n",
    "    def get_ks(self):\n",
    "        return [0, 5,8,12,15,20,25]\n",
    "\n",
    "    def get_validation_data(self):\n",
    "        return pd.read_csv(self.get_validation_data_path())\n",
    "\n",
    "    def get_base_path(k=None):\n",
    "        return self.base_path\n",
    "    \n",
    "    def get_closest_k_cluster_to_user_id(self, k:int, metric=\"euclidean\"):\n",
    "        id_to_idx_dict = self.get_col_to_user_index()\n",
    "        idx_to_kidx_path_dict = self.get_col_to_kanoncol_index(k) if k!=0 else None\n",
    "        k_anon_data_path = self.get_training_data_file_path(k)\n",
    "       \n",
    "\n",
    "        k_anaon_data = pd.read_csv(k_anon_data_path, sep=',', header=None).apply(pd.to_numeric).values\n",
    "\n",
    "        u_matrix = self.get_utility_matrix_from_train()\n",
    "\n",
    "        user_to_cluster_dict = {}\n",
    "        for um in tqdm(u_matrix):\n",
    "            user_id = int(um[0])\n",
    "            row_vec = um[1:]\n",
    "        \n",
    "            # Easy case - We have trained on this user before\n",
    "            # Just need to lookup, to see what cluster they belong to\n",
    "            if user_id in id_to_idx_dict and\\\n",
    "            k!=0 and id_to_idx_dict[user_id] in idx_to_kidx_path_dict:            \n",
    "                user_to_cluster_dict[user_id] = idx_to_kidx_path_dict[id_to_idx_dict[user_id]] + 1\n",
    "            elif user_id in id_to_idx_dict and k==0: # user maps to themselves, they were in training data\n",
    "                user_to_cluster_dict[user_id] = id_to_idx_dict[user_id] + 1\n",
    "            else:\n",
    "              #print(f'{user_id} not found in training data!')\n",
    "              user_to_cluster_dict[user_id] = self.find_closest_point(k_anaon_data, row_vec, metric=metric) + 1\n",
    "              #print(f'{user_id} mapped to {user_to_cluster_dict[user_id]}')\n",
    "        \n",
    "        return user_to_cluster_dict\n",
    "      \n",
    "    \n",
    "def avg_mahalanobis_dist(user_movie_matrix, anon_matrix, useridx_to_cluster):\n",
    "    ##user_movie_matrix and anon_matrix are numpy arrays\n",
    "    #useridx_to_cluster is a dictionary mapping the index to a cluster\n",
    "    d = dict()\n",
    "    stdev = np.std(anon_matrix, axis = 0)\n",
    "    for u, user in enumerate(user_movie_matrix):\n",
    "        ##some users are not mapped to clusters\n",
    "        if u in useridx_to_cluster.keys():\n",
    "            cluster_idx = idx_to_cluster[u]\n",
    "            cluster = anon_matrix[cluster_idx]\n",
    "            d[u] = mahalanobis_dist(user, cluster, stdev)\n",
    "    return np.mean(list(d.values()))"
   ]
  },
  {
   "cell_type": "code",
   "execution_count": 5,
   "metadata": {},
   "outputs": [],
   "source": [
    "BASE_OUTPUT_FOLDER = \"/home/fastuser/msft_ncf_output/\"\n",
    "MODEL_TYPE=\"NeuMF\"\n",
    "\n",
    "def get_recommendations_per_user(predictions, split_type, iteration, k, dist):\n",
    "    util = Utility(split_type=split_type, iteration=iteration)\n",
    "    user_to_cluster = util.get_closest_k_cluster_to_user_id(k, metric=dist) \n",
    "    actual_user_col = f\"{COL_NAME_USER_ID}_actual\"\n",
    "    user_to_cluster_df = pd.DataFrame.from_dict([{COL_NAME_USER_ID:cluster, actual_user_col:user} for user,cluster in user_to_cluster.items()])\n",
    "    user_to_cluster_df.set_index(COL_NAME_USER_ID, inplace=True) \n",
    "    predictions.set_index(COL_NAME_USER_ID, inplace=True)\n",
    "    preds = predictions.join(user_to_cluster_df, how=\"inner\")\n",
    "    preds.reset_index(inplace=True)\n",
    "    preds.drop(columns=COL_NAME_USER_ID,inplace=True)\n",
    "    preds.rename(columns={actual_user_col:COL_NAME_USER_ID}, inplace=True)\n",
    "    return preds\n",
    "\n",
    "def get_base_output_folder(split_type, iteration, k, dist=None, additional_str=None):\n",
    "    base = os.path.join(BASE_OUTPUT_FOLDER, split_type, f\"iteration_{iteration}\", str(k))\n",
    "    if dist is not None:\n",
    "        base = os.path.join(base, dist)\n",
    "    if additional_str is not None:\n",
    "        base = os.path.join(base, additional_str)\n",
    "    return base\n",
    "\n",
    "def get_output_folder_path_for_model(split_type, iteration, k, additional_str=None):\n",
    "    base = get_base_output_folder(split_type,iteration,k, additional_str)\n",
    "    return os.path.join(base, \"model\")\n",
    "\n",
    "def does_model_exist(split_type, iteration, k, additional_str=None):\n",
    "    return os.path.exists(get_output_folder_path_for_model(split_type, iteration, k, additional_str))\n",
    "\n",
    "def save_model(ncf, split_type, iteration, k, additional_str=None):\n",
    "    path = get_output_folder_path_for_model(split_type, iteration, k, additional_str)\n",
    "    ncf.save(path)\n",
    "    print(f\"Saved to: {path}\")\n",
    "\n",
    "def load_model(ncf, split_type, iteration, k, additional_str=None):\n",
    "    ncf.load(neumf_dir=get_output_folder_path_for_model(split_type, iteration, k, additional_str))\n",
    "    return ncf\n",
    "\n",
    "def get_new_model(data,\n",
    "                  model_type=MODEL_TYPE,\n",
    "                  n_factors=4,\n",
    "                  layer_sizes=[16,8,4],\n",
    "                  n_epochs=EPOCHS,\n",
    "                 batch_size=BATCH_SIZE,\n",
    "                 lr=1e-3):\n",
    "    model = NCF (\n",
    "        n_users=data.n_users, \n",
    "        n_items=data.n_items,\n",
    "        model_type=model_type,\n",
    "        n_factors=n_factors,\n",
    "        layer_sizes=layer_sizes,\n",
    "        n_epochs=n_epochs,\n",
    "        batch_size=batch_size,\n",
    "        learning_rate=lr,\n",
    "        verbose=10,\n",
    "        seed=SEED\n",
    "    )\n",
    "    model.set_indices(data)\n",
    "    return model\n",
    "\n",
    "def get_dataset(split_type, iteration, k):\n",
    "    return Utility(split_type=split_type, iteration=iteration).get_msft_ncf_dataset(k)\n",
    "\n",
    "def predict(model, train):\n",
    "    with Timer() as test_time:\n",
    "        users, items, preds = [], [], []\n",
    "        item = list(train[COL_NAME_MOVIE_ID].unique())\n",
    "        for user in train[COL_NAME_USER_ID].unique():\n",
    "            user = [user] * len(item) \n",
    "            users.extend(user)\n",
    "            items.extend(item)\n",
    "            preds.extend(list(model.predict(user, item, is_list=True)))\n",
    "\n",
    "    all_predictions = pd.DataFrame(data={COL_NAME_USER_ID: users, COL_NAME_MOVIE_ID:items, COL_NAME_PREDICTION:preds})\n",
    "\n",
    "    merged = pd.merge(train, all_predictions, on=[COL_NAME_USER_ID, COL_NAME_MOVIE_ID], how=\"outer\")\n",
    "    all_predictions = merged[merged.rating.isnull()].drop(COL_NAME_RATING, axis=1)\n",
    "\n",
    "    print(\"Took {} seconds for prediction.\".format(test_time))\n",
    "    return all_predictions\n",
    "\n",
    "import pathlib\n",
    "\n",
    "    \n",
    "class FileSaver(object):\n",
    "    def __init__(self, file_name, save_func, load_func, base_path_func=get_base_output_folder):\n",
    "        self.base_path_func = base_path_func\n",
    "        self.file_name = file_name\n",
    "        self.save_func = save_func\n",
    "        self.load_func = load_func\n",
    "    \n",
    "    def get_file_path(self, split_type, iteration, k, dist=None, additional_str=None):\n",
    "        base = self.base_path_func(split_type,iteration,k, dist, additional_str)\n",
    "        print(base)\n",
    "        pathlib.Path(base).mkdir(parents=True, exist_ok=True)\n",
    "        file_path = os.path.join(base, self.file_name)\n",
    "        return file_path\n",
    "\n",
    "    def save(self, item, split_type, iteration, k, dist=None, additional_str=None):\n",
    "        path = self.get_file_path(split_type, iteration, k, dist, additional_str)\n",
    "        self.save_func(item, path)\n",
    "        print(f\"Saved item to {path}\")\n",
    "    \n",
    "    def load(self, split_type, iteration, k, item=None , dist=None, additional_str=None):\n",
    "        return self.load_func(item, self.get_file_path(split_type, iteration, k, dist, additional_str))\n",
    "    \n",
    "    def does_exist(self, split_type, iteration, k, dist=None, additional_str=None):\n",
    "        return os.path.exists(self.get_file_path(split_type, iteration, k, dist, additional_str))\n",
    "\n",
    "def evaluate_from_cluster(cluster_predictions, split_type, iteration, k, dist_type, top_k=TOP_K, data_eval='test'):\n",
    "    user_preds = get_recommendations_per_user(cluster_predictions, split_type, iteration,k, dist_type)\n",
    "    return evaluate(user_preds, split_type, iteration, top_k=top_k, data_eval=data_eval)\n",
    "    \n",
    "def evaluate(predictions, split_type, iteration, top_k=TOP_K, data_eval='test'):\n",
    "    test = None\n",
    "    util = Utility(split_type=split_type, iteration=iteration)\n",
    "    if data_eval == 'test':\n",
    "        test = util.get_test_data()\n",
    "    elif data_eval == 'validation':\n",
    "        test = util.get_validation_data()\n",
    "    else:\n",
    "        raise Exception('Invalid data_eval type')\n",
    "    eval_precision, eval_recall, eval_hr, eval_map, eval_ndcg = precision_recall_hr_map_ndcg_at_k(test, predictions, col_prediction='prediction', col_user=COL_NAME_USER_ID, col_item=COL_NAME_MOVIE_ID, k=top_k)\n",
    "    \n",
    "    print(\"MAP:\\t%f\" % eval_map,\n",
    "          \"NDCG:\\t%f\" % eval_ndcg,\n",
    "          \"Precision@K:\\t%f\" % eval_precision,\n",
    "          \"Recall@K:\\t%f\" % eval_recall,\n",
    "          \"HR@K:\\t%f\" % eval_hr, sep='\\n') \n",
    "    return eval_map, eval_ndcg, eval_precision, eval_recall, eval_hr\n",
    "    \n",
    "def get_df_filesaver(file_name):\n",
    "    return FileSaver(\n",
    "    file_name,\\\n",
    "    save_func=lambda i,f: i.to_csv(f),\\\n",
    "    load_func=lambda i,f: pd.read_csv(f, index_col=0))\n",
    "\n",
    "\n",
    "ClusterPredictionSaver = get_df_filesaver('cluster_level_predictions.csv')\n",
    "RatingsParamsSaver = get_df_filesaver('ratings_paramsv2.csv')\n",
    "UsersParamsSaver = get_df_filesaver('users_paramsv2.csv')\n",
    "\n",
    "\n",
    "\n"
   ]
  },
  {
   "cell_type": "raw",
   "metadata": {},
   "source": [
    "# get_msft_ncf_dataset\n",
    "\n",
    "ks = Utility('ratings').get_ks()\n",
    "iterations = range(1,6)\n",
    "dist_types = ['euclidean', 'jaccard']\n",
    "split_types = ['ratings', 'users']\n",
    "OVERWRITE_TRAINED_MODEL = False\n",
    "OVERWRITE_PREDICTION = False\n",
    "\n",
    "for iteration in iterations:\n",
    "    for k in ks:\n",
    "        for split_type in split_types:\n",
    "            print(f\"Training model for: {split_type} | {iteration} | {k}\")\n",
    "            model = None\n",
    "            if does_model_exist(split_type, iteration, k) and not OVERWRITE_TRAINED_MODEL:\n",
    "                #skip training\n",
    "                print(f\"Skipping this model, already trained.\")\n",
    "                data, train = get_dataset(split_type, iteration, k)\n",
    "                model = get_new_model(data)\n",
    "                model = load_model(model, split_type, iteration, k)\n",
    "            else: # train model\n",
    "                print(\"Training model...\")\n",
    "                data, train = get_dataset(split_type, iteration, k)\n",
    "                model = get_new_model(data)\n",
    "                with Timer() as train_time:\n",
    "                    model.fit(data)\n",
    "                print(\"Took {} seconds for training.\".format(train_time))\n",
    "                save_model(model, split_type, iteration, k)\n",
    "            print(\"Predicting...\")\n",
    "            if ClusterPredictionSaver.does_exist(split_type, iteration, k) and not OVERWRITE_PREDICTION:\n",
    "                print(\"Already predicted skipping...\")\n",
    "            else:\n",
    "                predictions = predict(model, train)\n",
    "                ClusterPredictionSaver.save(predictions, split_type, iteration, k)"
   ]
  },
  {
   "cell_type": "code",
   "execution_count": 6,
   "metadata": {},
   "outputs": [],
   "source": [
    "class Params(object):\n",
    "    def __init__(self, hidden_layers, num_factors):\n",
    "        self.hidden_layers = hidden_layers\n",
    "        self.num_factors = num_factors\n",
    "    \n",
    "    def __str__(self):\n",
    "        return f\"{str(self.hidden_layers)} | num_factors={self.num_factors}\"\n"
   ]
  },
  {
   "cell_type": "code",
   "execution_count": null,
   "metadata": {},
   "outputs": [
    {
     "name": "stdout",
     "output_type": "stream",
     "text": [
      "Already have results for [16, 8, 4] | num_factors=4\n"
     ]
    },
    {
     "data": {
      "text/html": [
       "<div>\n",
       "<style scoped>\n",
       "    .dataframe tbody tr th:only-of-type {\n",
       "        vertical-align: middle;\n",
       "    }\n",
       "\n",
       "    .dataframe tbody tr th {\n",
       "        vertical-align: top;\n",
       "    }\n",
       "\n",
       "    .dataframe thead th {\n",
       "        text-align: right;\n",
       "    }\n",
       "</style>\n",
       "<table border=\"1\" class=\"dataframe\">\n",
       "  <thead>\n",
       "    <tr style=\"text-align: right;\">\n",
       "      <th></th>\n",
       "      <th>iteration</th>\n",
       "      <th>k</th>\n",
       "      <th>split_type</th>\n",
       "      <th>distance_metric</th>\n",
       "      <th>map@10</th>\n",
       "      <th>ndcg@10</th>\n",
       "      <th>precision@10</th>\n",
       "      <th>recall@10</th>\n",
       "      <th>hr@10</th>\n",
       "      <th>num_factors</th>\n",
       "      <th>hidden_layers</th>\n",
       "    </tr>\n",
       "  </thead>\n",
       "  <tbody>\n",
       "    <tr>\n",
       "      <th>0</th>\n",
       "      <td>1</td>\n",
       "      <td>0</td>\n",
       "      <td>ratings</td>\n",
       "      <td>jaccard</td>\n",
       "      <td>0.031876</td>\n",
       "      <td>0.105749</td>\n",
       "      <td>0.082471</td>\n",
       "      <td>0.089208</td>\n",
       "      <td>0.48414</td>\n",
       "      <td>4</td>\n",
       "      <td>[16, 8, 4]</td>\n",
       "    </tr>\n",
       "  </tbody>\n",
       "</table>\n",
       "</div>"
      ],
      "text/plain": [
       "   iteration  k split_type distance_metric    map@10   ndcg@10  precision@10  \\\n",
       "0          1  0    ratings         jaccard  0.031876  0.105749      0.082471   \n",
       "\n",
       "   recall@10    hr@10  num_factors hidden_layers  \n",
       "0   0.089208  0.48414            4    [16, 8, 4]  "
      ]
     },
     "metadata": {},
     "output_type": "display_data"
    },
    {
     "name": "stdout",
     "output_type": "stream",
     "text": [
      "Already have results for [32, 16, 8] | num_factors=4\n"
     ]
    },
    {
     "data": {
      "text/html": [
       "<div>\n",
       "<style scoped>\n",
       "    .dataframe tbody tr th:only-of-type {\n",
       "        vertical-align: middle;\n",
       "    }\n",
       "\n",
       "    .dataframe tbody tr th {\n",
       "        vertical-align: top;\n",
       "    }\n",
       "\n",
       "    .dataframe thead th {\n",
       "        text-align: right;\n",
       "    }\n",
       "</style>\n",
       "<table border=\"1\" class=\"dataframe\">\n",
       "  <thead>\n",
       "    <tr style=\"text-align: right;\">\n",
       "      <th></th>\n",
       "      <th>iteration</th>\n",
       "      <th>k</th>\n",
       "      <th>split_type</th>\n",
       "      <th>distance_metric</th>\n",
       "      <th>map@10</th>\n",
       "      <th>ndcg@10</th>\n",
       "      <th>precision@10</th>\n",
       "      <th>recall@10</th>\n",
       "      <th>hr@10</th>\n",
       "      <th>num_factors</th>\n",
       "      <th>hidden_layers</th>\n",
       "    </tr>\n",
       "  </thead>\n",
       "  <tbody>\n",
       "    <tr>\n",
       "      <th>1</th>\n",
       "      <td>1</td>\n",
       "      <td>0</td>\n",
       "      <td>ratings</td>\n",
       "      <td>jaccard</td>\n",
       "      <td>0.026689</td>\n",
       "      <td>0.089022</td>\n",
       "      <td>0.074124</td>\n",
       "      <td>0.079907</td>\n",
       "      <td>0.459098</td>\n",
       "      <td>4</td>\n",
       "      <td>[32, 16, 8]</td>\n",
       "    </tr>\n",
       "  </tbody>\n",
       "</table>\n",
       "</div>"
      ],
      "text/plain": [
       "   iteration  k split_type distance_metric    map@10   ndcg@10  precision@10  \\\n",
       "1          1  0    ratings         jaccard  0.026689  0.089022      0.074124   \n",
       "\n",
       "   recall@10     hr@10  num_factors hidden_layers  \n",
       "1   0.079907  0.459098            4   [32, 16, 8]  "
      ]
     },
     "metadata": {},
     "output_type": "display_data"
    },
    {
     "name": "stdout",
     "output_type": "stream",
     "text": [
      "Already have results for [64, 32, 16] | num_factors=4\n"
     ]
    },
    {
     "data": {
      "text/html": [
       "<div>\n",
       "<style scoped>\n",
       "    .dataframe tbody tr th:only-of-type {\n",
       "        vertical-align: middle;\n",
       "    }\n",
       "\n",
       "    .dataframe tbody tr th {\n",
       "        vertical-align: top;\n",
       "    }\n",
       "\n",
       "    .dataframe thead th {\n",
       "        text-align: right;\n",
       "    }\n",
       "</style>\n",
       "<table border=\"1\" class=\"dataframe\">\n",
       "  <thead>\n",
       "    <tr style=\"text-align: right;\">\n",
       "      <th></th>\n",
       "      <th>iteration</th>\n",
       "      <th>k</th>\n",
       "      <th>split_type</th>\n",
       "      <th>distance_metric</th>\n",
       "      <th>map@10</th>\n",
       "      <th>ndcg@10</th>\n",
       "      <th>precision@10</th>\n",
       "      <th>recall@10</th>\n",
       "      <th>hr@10</th>\n",
       "      <th>num_factors</th>\n",
       "      <th>hidden_layers</th>\n",
       "    </tr>\n",
       "  </thead>\n",
       "  <tbody>\n",
       "    <tr>\n",
       "      <th>2</th>\n",
       "      <td>1</td>\n",
       "      <td>0</td>\n",
       "      <td>ratings</td>\n",
       "      <td>jaccard</td>\n",
       "      <td>0.029445</td>\n",
       "      <td>0.091467</td>\n",
       "      <td>0.072621</td>\n",
       "      <td>0.086089</td>\n",
       "      <td>0.452421</td>\n",
       "      <td>4</td>\n",
       "      <td>[64, 32, 16]</td>\n",
       "    </tr>\n",
       "  </tbody>\n",
       "</table>\n",
       "</div>"
      ],
      "text/plain": [
       "   iteration  k split_type distance_metric    map@10   ndcg@10  precision@10  \\\n",
       "2          1  0    ratings         jaccard  0.029445  0.091467      0.072621   \n",
       "\n",
       "   recall@10     hr@10  num_factors hidden_layers  \n",
       "2   0.086089  0.452421            4  [64, 32, 16]  "
      ]
     },
     "metadata": {},
     "output_type": "display_data"
    },
    {
     "name": "stdout",
     "output_type": "stream",
     "text": [
      "Already have results for [32, 16, 8, 4] | num_factors=4\n"
     ]
    },
    {
     "data": {
      "text/html": [
       "<div>\n",
       "<style scoped>\n",
       "    .dataframe tbody tr th:only-of-type {\n",
       "        vertical-align: middle;\n",
       "    }\n",
       "\n",
       "    .dataframe tbody tr th {\n",
       "        vertical-align: top;\n",
       "    }\n",
       "\n",
       "    .dataframe thead th {\n",
       "        text-align: right;\n",
       "    }\n",
       "</style>\n",
       "<table border=\"1\" class=\"dataframe\">\n",
       "  <thead>\n",
       "    <tr style=\"text-align: right;\">\n",
       "      <th></th>\n",
       "      <th>iteration</th>\n",
       "      <th>k</th>\n",
       "      <th>split_type</th>\n",
       "      <th>distance_metric</th>\n",
       "      <th>map@10</th>\n",
       "      <th>ndcg@10</th>\n",
       "      <th>precision@10</th>\n",
       "      <th>recall@10</th>\n",
       "      <th>hr@10</th>\n",
       "      <th>num_factors</th>\n",
       "      <th>hidden_layers</th>\n",
       "    </tr>\n",
       "  </thead>\n",
       "  <tbody>\n",
       "    <tr>\n",
       "      <th>3</th>\n",
       "      <td>1</td>\n",
       "      <td>0</td>\n",
       "      <td>ratings</td>\n",
       "      <td>jaccard</td>\n",
       "      <td>0.033657</td>\n",
       "      <td>0.096842</td>\n",
       "      <td>0.075459</td>\n",
       "      <td>0.083183</td>\n",
       "      <td>0.435726</td>\n",
       "      <td>4</td>\n",
       "      <td>[32, 16, 8, 4]</td>\n",
       "    </tr>\n",
       "  </tbody>\n",
       "</table>\n",
       "</div>"
      ],
      "text/plain": [
       "   iteration  k split_type distance_metric    map@10   ndcg@10  precision@10  \\\n",
       "3          1  0    ratings         jaccard  0.033657  0.096842      0.075459   \n",
       "\n",
       "   recall@10     hr@10  num_factors   hidden_layers  \n",
       "3   0.083183  0.435726            4  [32, 16, 8, 4]  "
      ]
     },
     "metadata": {},
     "output_type": "display_data"
    },
    {
     "name": "stdout",
     "output_type": "stream",
     "text": [
      "Already have results for [64, 32, 16, 8] | num_factors=4\n"
     ]
    },
    {
     "data": {
      "text/html": [
       "<div>\n",
       "<style scoped>\n",
       "    .dataframe tbody tr th:only-of-type {\n",
       "        vertical-align: middle;\n",
       "    }\n",
       "\n",
       "    .dataframe tbody tr th {\n",
       "        vertical-align: top;\n",
       "    }\n",
       "\n",
       "    .dataframe thead th {\n",
       "        text-align: right;\n",
       "    }\n",
       "</style>\n",
       "<table border=\"1\" class=\"dataframe\">\n",
       "  <thead>\n",
       "    <tr style=\"text-align: right;\">\n",
       "      <th></th>\n",
       "      <th>iteration</th>\n",
       "      <th>k</th>\n",
       "      <th>split_type</th>\n",
       "      <th>distance_metric</th>\n",
       "      <th>map@10</th>\n",
       "      <th>ndcg@10</th>\n",
       "      <th>precision@10</th>\n",
       "      <th>recall@10</th>\n",
       "      <th>hr@10</th>\n",
       "      <th>num_factors</th>\n",
       "      <th>hidden_layers</th>\n",
       "    </tr>\n",
       "  </thead>\n",
       "  <tbody>\n",
       "    <tr>\n",
       "      <th>4</th>\n",
       "      <td>1</td>\n",
       "      <td>0</td>\n",
       "      <td>ratings</td>\n",
       "      <td>jaccard</td>\n",
       "      <td>0.034227</td>\n",
       "      <td>0.094929</td>\n",
       "      <td>0.069616</td>\n",
       "      <td>0.087566</td>\n",
       "      <td>0.444073</td>\n",
       "      <td>4</td>\n",
       "      <td>[64, 32, 16, 8]</td>\n",
       "    </tr>\n",
       "  </tbody>\n",
       "</table>\n",
       "</div>"
      ],
      "text/plain": [
       "   iteration  k split_type distance_metric    map@10   ndcg@10  precision@10  \\\n",
       "4          1  0    ratings         jaccard  0.034227  0.094929      0.069616   \n",
       "\n",
       "   recall@10     hr@10  num_factors    hidden_layers  \n",
       "4   0.087566  0.444073            4  [64, 32, 16, 8]  "
      ]
     },
     "metadata": {},
     "output_type": "display_data"
    },
    {
     "name": "stdout",
     "output_type": "stream",
     "text": [
      "Already have results for [128, 64, 32, 16] | num_factors=4\n"
     ]
    },
    {
     "data": {
      "text/html": [
       "<div>\n",
       "<style scoped>\n",
       "    .dataframe tbody tr th:only-of-type {\n",
       "        vertical-align: middle;\n",
       "    }\n",
       "\n",
       "    .dataframe tbody tr th {\n",
       "        vertical-align: top;\n",
       "    }\n",
       "\n",
       "    .dataframe thead th {\n",
       "        text-align: right;\n",
       "    }\n",
       "</style>\n",
       "<table border=\"1\" class=\"dataframe\">\n",
       "  <thead>\n",
       "    <tr style=\"text-align: right;\">\n",
       "      <th></th>\n",
       "      <th>iteration</th>\n",
       "      <th>k</th>\n",
       "      <th>split_type</th>\n",
       "      <th>distance_metric</th>\n",
       "      <th>map@10</th>\n",
       "      <th>ndcg@10</th>\n",
       "      <th>precision@10</th>\n",
       "      <th>recall@10</th>\n",
       "      <th>hr@10</th>\n",
       "      <th>num_factors</th>\n",
       "      <th>hidden_layers</th>\n",
       "    </tr>\n",
       "  </thead>\n",
       "  <tbody>\n",
       "    <tr>\n",
       "      <th>5</th>\n",
       "      <td>1</td>\n",
       "      <td>0</td>\n",
       "      <td>ratings</td>\n",
       "      <td>jaccard</td>\n",
       "      <td>0.025611</td>\n",
       "      <td>0.086881</td>\n",
       "      <td>0.073289</td>\n",
       "      <td>0.078248</td>\n",
       "      <td>0.45576</td>\n",
       "      <td>4</td>\n",
       "      <td>[128, 64, 32, 16]</td>\n",
       "    </tr>\n",
       "  </tbody>\n",
       "</table>\n",
       "</div>"
      ],
      "text/plain": [
       "   iteration  k split_type distance_metric    map@10   ndcg@10  precision@10  \\\n",
       "5          1  0    ratings         jaccard  0.025611  0.086881      0.073289   \n",
       "\n",
       "   recall@10    hr@10  num_factors      hidden_layers  \n",
       "5   0.078248  0.45576            4  [128, 64, 32, 16]  "
      ]
     },
     "metadata": {},
     "output_type": "display_data"
    },
    {
     "name": "stdout",
     "output_type": "stream",
     "text": [
      "Already have results for [16, 8, 4] | num_factors=8\n"
     ]
    },
    {
     "data": {
      "text/html": [
       "<div>\n",
       "<style scoped>\n",
       "    .dataframe tbody tr th:only-of-type {\n",
       "        vertical-align: middle;\n",
       "    }\n",
       "\n",
       "    .dataframe tbody tr th {\n",
       "        vertical-align: top;\n",
       "    }\n",
       "\n",
       "    .dataframe thead th {\n",
       "        text-align: right;\n",
       "    }\n",
       "</style>\n",
       "<table border=\"1\" class=\"dataframe\">\n",
       "  <thead>\n",
       "    <tr style=\"text-align: right;\">\n",
       "      <th></th>\n",
       "      <th>iteration</th>\n",
       "      <th>k</th>\n",
       "      <th>split_type</th>\n",
       "      <th>distance_metric</th>\n",
       "      <th>map@10</th>\n",
       "      <th>ndcg@10</th>\n",
       "      <th>precision@10</th>\n",
       "      <th>recall@10</th>\n",
       "      <th>hr@10</th>\n",
       "      <th>num_factors</th>\n",
       "      <th>hidden_layers</th>\n",
       "    </tr>\n",
       "  </thead>\n",
       "  <tbody>\n",
       "    <tr>\n",
       "      <th>6</th>\n",
       "      <td>1</td>\n",
       "      <td>0</td>\n",
       "      <td>ratings</td>\n",
       "      <td>jaccard</td>\n",
       "      <td>0.035406</td>\n",
       "      <td>0.104673</td>\n",
       "      <td>0.078297</td>\n",
       "      <td>0.091833</td>\n",
       "      <td>0.48414</td>\n",
       "      <td>8</td>\n",
       "      <td>[16, 8, 4]</td>\n",
       "    </tr>\n",
       "  </tbody>\n",
       "</table>\n",
       "</div>"
      ],
      "text/plain": [
       "   iteration  k split_type distance_metric    map@10   ndcg@10  precision@10  \\\n",
       "6          1  0    ratings         jaccard  0.035406  0.104673      0.078297   \n",
       "\n",
       "   recall@10    hr@10  num_factors hidden_layers  \n",
       "6   0.091833  0.48414            8    [16, 8, 4]  "
      ]
     },
     "metadata": {},
     "output_type": "display_data"
    },
    {
     "name": "stdout",
     "output_type": "stream",
     "text": [
      "Already have results for [32, 16, 8] | num_factors=8\n"
     ]
    },
    {
     "data": {
      "text/html": [
       "<div>\n",
       "<style scoped>\n",
       "    .dataframe tbody tr th:only-of-type {\n",
       "        vertical-align: middle;\n",
       "    }\n",
       "\n",
       "    .dataframe tbody tr th {\n",
       "        vertical-align: top;\n",
       "    }\n",
       "\n",
       "    .dataframe thead th {\n",
       "        text-align: right;\n",
       "    }\n",
       "</style>\n",
       "<table border=\"1\" class=\"dataframe\">\n",
       "  <thead>\n",
       "    <tr style=\"text-align: right;\">\n",
       "      <th></th>\n",
       "      <th>iteration</th>\n",
       "      <th>k</th>\n",
       "      <th>split_type</th>\n",
       "      <th>distance_metric</th>\n",
       "      <th>map@10</th>\n",
       "      <th>ndcg@10</th>\n",
       "      <th>precision@10</th>\n",
       "      <th>recall@10</th>\n",
       "      <th>hr@10</th>\n",
       "      <th>num_factors</th>\n",
       "      <th>hidden_layers</th>\n",
       "    </tr>\n",
       "  </thead>\n",
       "  <tbody>\n",
       "    <tr>\n",
       "      <th>7</th>\n",
       "      <td>1</td>\n",
       "      <td>0</td>\n",
       "      <td>ratings</td>\n",
       "      <td>jaccard</td>\n",
       "      <td>0.033353</td>\n",
       "      <td>0.101581</td>\n",
       "      <td>0.078798</td>\n",
       "      <td>0.091662</td>\n",
       "      <td>0.475793</td>\n",
       "      <td>8</td>\n",
       "      <td>[32, 16, 8]</td>\n",
       "    </tr>\n",
       "  </tbody>\n",
       "</table>\n",
       "</div>"
      ],
      "text/plain": [
       "   iteration  k split_type distance_metric    map@10   ndcg@10  precision@10  \\\n",
       "7          1  0    ratings         jaccard  0.033353  0.101581      0.078798   \n",
       "\n",
       "   recall@10     hr@10  num_factors hidden_layers  \n",
       "7   0.091662  0.475793            8   [32, 16, 8]  "
      ]
     },
     "metadata": {},
     "output_type": "display_data"
    },
    {
     "name": "stdout",
     "output_type": "stream",
     "text": [
      "Already have results for [64, 32, 16] | num_factors=8\n"
     ]
    },
    {
     "data": {
      "text/html": [
       "<div>\n",
       "<style scoped>\n",
       "    .dataframe tbody tr th:only-of-type {\n",
       "        vertical-align: middle;\n",
       "    }\n",
       "\n",
       "    .dataframe tbody tr th {\n",
       "        vertical-align: top;\n",
       "    }\n",
       "\n",
       "    .dataframe thead th {\n",
       "        text-align: right;\n",
       "    }\n",
       "</style>\n",
       "<table border=\"1\" class=\"dataframe\">\n",
       "  <thead>\n",
       "    <tr style=\"text-align: right;\">\n",
       "      <th></th>\n",
       "      <th>iteration</th>\n",
       "      <th>k</th>\n",
       "      <th>split_type</th>\n",
       "      <th>distance_metric</th>\n",
       "      <th>map@10</th>\n",
       "      <th>ndcg@10</th>\n",
       "      <th>precision@10</th>\n",
       "      <th>recall@10</th>\n",
       "      <th>hr@10</th>\n",
       "      <th>num_factors</th>\n",
       "      <th>hidden_layers</th>\n",
       "    </tr>\n",
       "  </thead>\n",
       "  <tbody>\n",
       "    <tr>\n",
       "      <th>8</th>\n",
       "      <td>1</td>\n",
       "      <td>0</td>\n",
       "      <td>ratings</td>\n",
       "      <td>jaccard</td>\n",
       "      <td>0.03538</td>\n",
       "      <td>0.106295</td>\n",
       "      <td>0.082805</td>\n",
       "      <td>0.093761</td>\n",
       "      <td>0.504174</td>\n",
       "      <td>8</td>\n",
       "      <td>[64, 32, 16]</td>\n",
       "    </tr>\n",
       "  </tbody>\n",
       "</table>\n",
       "</div>"
      ],
      "text/plain": [
       "   iteration  k split_type distance_metric   map@10   ndcg@10  precision@10  \\\n",
       "8          1  0    ratings         jaccard  0.03538  0.106295      0.082805   \n",
       "\n",
       "   recall@10     hr@10  num_factors hidden_layers  \n",
       "8   0.093761  0.504174            8  [64, 32, 16]  "
      ]
     },
     "metadata": {},
     "output_type": "display_data"
    },
    {
     "name": "stdout",
     "output_type": "stream",
     "text": [
      "Already have results for [32, 16, 8, 4] | num_factors=8\n"
     ]
    },
    {
     "data": {
      "text/html": [
       "<div>\n",
       "<style scoped>\n",
       "    .dataframe tbody tr th:only-of-type {\n",
       "        vertical-align: middle;\n",
       "    }\n",
       "\n",
       "    .dataframe tbody tr th {\n",
       "        vertical-align: top;\n",
       "    }\n",
       "\n",
       "    .dataframe thead th {\n",
       "        text-align: right;\n",
       "    }\n",
       "</style>\n",
       "<table border=\"1\" class=\"dataframe\">\n",
       "  <thead>\n",
       "    <tr style=\"text-align: right;\">\n",
       "      <th></th>\n",
       "      <th>iteration</th>\n",
       "      <th>k</th>\n",
       "      <th>split_type</th>\n",
       "      <th>distance_metric</th>\n",
       "      <th>map@10</th>\n",
       "      <th>ndcg@10</th>\n",
       "      <th>precision@10</th>\n",
       "      <th>recall@10</th>\n",
       "      <th>hr@10</th>\n",
       "      <th>num_factors</th>\n",
       "      <th>hidden_layers</th>\n",
       "    </tr>\n",
       "  </thead>\n",
       "  <tbody>\n",
       "    <tr>\n",
       "      <th>9</th>\n",
       "      <td>1</td>\n",
       "      <td>0</td>\n",
       "      <td>ratings</td>\n",
       "      <td>jaccard</td>\n",
       "      <td>0.030376</td>\n",
       "      <td>0.09621</td>\n",
       "      <td>0.076795</td>\n",
       "      <td>0.089038</td>\n",
       "      <td>0.467446</td>\n",
       "      <td>8</td>\n",
       "      <td>[32, 16, 8, 4]</td>\n",
       "    </tr>\n",
       "  </tbody>\n",
       "</table>\n",
       "</div>"
      ],
      "text/plain": [
       "   iteration  k split_type distance_metric    map@10  ndcg@10  precision@10  \\\n",
       "9          1  0    ratings         jaccard  0.030376  0.09621      0.076795   \n",
       "\n",
       "   recall@10     hr@10  num_factors   hidden_layers  \n",
       "9   0.089038  0.467446            8  [32, 16, 8, 4]  "
      ]
     },
     "metadata": {},
     "output_type": "display_data"
    },
    {
     "name": "stdout",
     "output_type": "stream",
     "text": [
      "Already have results for [64, 32, 16, 8] | num_factors=8\n"
     ]
    },
    {
     "data": {
      "text/html": [
       "<div>\n",
       "<style scoped>\n",
       "    .dataframe tbody tr th:only-of-type {\n",
       "        vertical-align: middle;\n",
       "    }\n",
       "\n",
       "    .dataframe tbody tr th {\n",
       "        vertical-align: top;\n",
       "    }\n",
       "\n",
       "    .dataframe thead th {\n",
       "        text-align: right;\n",
       "    }\n",
       "</style>\n",
       "<table border=\"1\" class=\"dataframe\">\n",
       "  <thead>\n",
       "    <tr style=\"text-align: right;\">\n",
       "      <th></th>\n",
       "      <th>iteration</th>\n",
       "      <th>k</th>\n",
       "      <th>split_type</th>\n",
       "      <th>distance_metric</th>\n",
       "      <th>map@10</th>\n",
       "      <th>ndcg@10</th>\n",
       "      <th>precision@10</th>\n",
       "      <th>recall@10</th>\n",
       "      <th>hr@10</th>\n",
       "      <th>num_factors</th>\n",
       "      <th>hidden_layers</th>\n",
       "    </tr>\n",
       "  </thead>\n",
       "  <tbody>\n",
       "    <tr>\n",
       "      <th>10</th>\n",
       "      <td>1</td>\n",
       "      <td>0</td>\n",
       "      <td>ratings</td>\n",
       "      <td>jaccard</td>\n",
       "      <td>0.030796</td>\n",
       "      <td>0.092088</td>\n",
       "      <td>0.070952</td>\n",
       "      <td>0.0822</td>\n",
       "      <td>0.440735</td>\n",
       "      <td>8</td>\n",
       "      <td>[64, 32, 16, 8]</td>\n",
       "    </tr>\n",
       "  </tbody>\n",
       "</table>\n",
       "</div>"
      ],
      "text/plain": [
       "    iteration  k split_type distance_metric    map@10   ndcg@10  precision@10  \\\n",
       "10          1  0    ratings         jaccard  0.030796  0.092088      0.070952   \n",
       "\n",
       "    recall@10     hr@10  num_factors    hidden_layers  \n",
       "10     0.0822  0.440735            8  [64, 32, 16, 8]  "
      ]
     },
     "metadata": {},
     "output_type": "display_data"
    },
    {
     "name": "stdout",
     "output_type": "stream",
     "text": [
      "Already have results for [128, 64, 32, 16] | num_factors=8\n"
     ]
    },
    {
     "data": {
      "text/html": [
       "<div>\n",
       "<style scoped>\n",
       "    .dataframe tbody tr th:only-of-type {\n",
       "        vertical-align: middle;\n",
       "    }\n",
       "\n",
       "    .dataframe tbody tr th {\n",
       "        vertical-align: top;\n",
       "    }\n",
       "\n",
       "    .dataframe thead th {\n",
       "        text-align: right;\n",
       "    }\n",
       "</style>\n",
       "<table border=\"1\" class=\"dataframe\">\n",
       "  <thead>\n",
       "    <tr style=\"text-align: right;\">\n",
       "      <th></th>\n",
       "      <th>iteration</th>\n",
       "      <th>k</th>\n",
       "      <th>split_type</th>\n",
       "      <th>distance_metric</th>\n",
       "      <th>map@10</th>\n",
       "      <th>ndcg@10</th>\n",
       "      <th>precision@10</th>\n",
       "      <th>recall@10</th>\n",
       "      <th>hr@10</th>\n",
       "      <th>num_factors</th>\n",
       "      <th>hidden_layers</th>\n",
       "    </tr>\n",
       "  </thead>\n",
       "  <tbody>\n",
       "    <tr>\n",
       "      <th>11</th>\n",
       "      <td>1</td>\n",
       "      <td>0</td>\n",
       "      <td>ratings</td>\n",
       "      <td>jaccard</td>\n",
       "      <td>0.026626</td>\n",
       "      <td>0.083259</td>\n",
       "      <td>0.065275</td>\n",
       "      <td>0.068872</td>\n",
       "      <td>0.417362</td>\n",
       "      <td>8</td>\n",
       "      <td>[128, 64, 32, 16]</td>\n",
       "    </tr>\n",
       "  </tbody>\n",
       "</table>\n",
       "</div>"
      ],
      "text/plain": [
       "    iteration  k split_type distance_metric    map@10   ndcg@10  precision@10  \\\n",
       "11          1  0    ratings         jaccard  0.026626  0.083259      0.065275   \n",
       "\n",
       "    recall@10     hr@10  num_factors      hidden_layers  \n",
       "11   0.068872  0.417362            8  [128, 64, 32, 16]  "
      ]
     },
     "metadata": {},
     "output_type": "display_data"
    },
    {
     "name": "stdout",
     "output_type": "stream",
     "text": [
      "Already have results for [16, 8, 4] | num_factors=16\n"
     ]
    },
    {
     "data": {
      "text/html": [
       "<div>\n",
       "<style scoped>\n",
       "    .dataframe tbody tr th:only-of-type {\n",
       "        vertical-align: middle;\n",
       "    }\n",
       "\n",
       "    .dataframe tbody tr th {\n",
       "        vertical-align: top;\n",
       "    }\n",
       "\n",
       "    .dataframe thead th {\n",
       "        text-align: right;\n",
       "    }\n",
       "</style>\n",
       "<table border=\"1\" class=\"dataframe\">\n",
       "  <thead>\n",
       "    <tr style=\"text-align: right;\">\n",
       "      <th></th>\n",
       "      <th>iteration</th>\n",
       "      <th>k</th>\n",
       "      <th>split_type</th>\n",
       "      <th>distance_metric</th>\n",
       "      <th>map@10</th>\n",
       "      <th>ndcg@10</th>\n",
       "      <th>precision@10</th>\n",
       "      <th>recall@10</th>\n",
       "      <th>hr@10</th>\n",
       "      <th>num_factors</th>\n",
       "      <th>hidden_layers</th>\n",
       "    </tr>\n",
       "  </thead>\n",
       "  <tbody>\n",
       "    <tr>\n",
       "      <th>12</th>\n",
       "      <td>1</td>\n",
       "      <td>0</td>\n",
       "      <td>ratings</td>\n",
       "      <td>jaccard</td>\n",
       "      <td>0.035576</td>\n",
       "      <td>0.104909</td>\n",
       "      <td>0.078464</td>\n",
       "      <td>0.094769</td>\n",
       "      <td>0.487479</td>\n",
       "      <td>16</td>\n",
       "      <td>[16, 8, 4]</td>\n",
       "    </tr>\n",
       "  </tbody>\n",
       "</table>\n",
       "</div>"
      ],
      "text/plain": [
       "    iteration  k split_type distance_metric    map@10   ndcg@10  precision@10  \\\n",
       "12          1  0    ratings         jaccard  0.035576  0.104909      0.078464   \n",
       "\n",
       "    recall@10     hr@10  num_factors hidden_layers  \n",
       "12   0.094769  0.487479           16    [16, 8, 4]  "
      ]
     },
     "metadata": {},
     "output_type": "display_data"
    },
    {
     "name": "stdout",
     "output_type": "stream",
     "text": [
      "Already have results for [32, 16, 8] | num_factors=16\n"
     ]
    },
    {
     "data": {
      "text/html": [
       "<div>\n",
       "<style scoped>\n",
       "    .dataframe tbody tr th:only-of-type {\n",
       "        vertical-align: middle;\n",
       "    }\n",
       "\n",
       "    .dataframe tbody tr th {\n",
       "        vertical-align: top;\n",
       "    }\n",
       "\n",
       "    .dataframe thead th {\n",
       "        text-align: right;\n",
       "    }\n",
       "</style>\n",
       "<table border=\"1\" class=\"dataframe\">\n",
       "  <thead>\n",
       "    <tr style=\"text-align: right;\">\n",
       "      <th></th>\n",
       "      <th>iteration</th>\n",
       "      <th>k</th>\n",
       "      <th>split_type</th>\n",
       "      <th>distance_metric</th>\n",
       "      <th>map@10</th>\n",
       "      <th>ndcg@10</th>\n",
       "      <th>precision@10</th>\n",
       "      <th>recall@10</th>\n",
       "      <th>hr@10</th>\n",
       "      <th>num_factors</th>\n",
       "      <th>hidden_layers</th>\n",
       "    </tr>\n",
       "  </thead>\n",
       "  <tbody>\n",
       "    <tr>\n",
       "      <th>13</th>\n",
       "      <td>1</td>\n",
       "      <td>0</td>\n",
       "      <td>ratings</td>\n",
       "      <td>jaccard</td>\n",
       "      <td>0.038106</td>\n",
       "      <td>0.11416</td>\n",
       "      <td>0.085142</td>\n",
       "      <td>0.098378</td>\n",
       "      <td>0.500835</td>\n",
       "      <td>16</td>\n",
       "      <td>[32, 16, 8]</td>\n",
       "    </tr>\n",
       "  </tbody>\n",
       "</table>\n",
       "</div>"
      ],
      "text/plain": [
       "    iteration  k split_type distance_metric    map@10  ndcg@10  precision@10  \\\n",
       "13          1  0    ratings         jaccard  0.038106  0.11416      0.085142   \n",
       "\n",
       "    recall@10     hr@10  num_factors hidden_layers  \n",
       "13   0.098378  0.500835           16   [32, 16, 8]  "
      ]
     },
     "metadata": {},
     "output_type": "display_data"
    },
    {
     "name": "stdout",
     "output_type": "stream",
     "text": [
      "Already have results for [64, 32, 16] | num_factors=16\n"
     ]
    },
    {
     "data": {
      "text/html": [
       "<div>\n",
       "<style scoped>\n",
       "    .dataframe tbody tr th:only-of-type {\n",
       "        vertical-align: middle;\n",
       "    }\n",
       "\n",
       "    .dataframe tbody tr th {\n",
       "        vertical-align: top;\n",
       "    }\n",
       "\n",
       "    .dataframe thead th {\n",
       "        text-align: right;\n",
       "    }\n",
       "</style>\n",
       "<table border=\"1\" class=\"dataframe\">\n",
       "  <thead>\n",
       "    <tr style=\"text-align: right;\">\n",
       "      <th></th>\n",
       "      <th>iteration</th>\n",
       "      <th>k</th>\n",
       "      <th>split_type</th>\n",
       "      <th>distance_metric</th>\n",
       "      <th>map@10</th>\n",
       "      <th>ndcg@10</th>\n",
       "      <th>precision@10</th>\n",
       "      <th>recall@10</th>\n",
       "      <th>hr@10</th>\n",
       "      <th>num_factors</th>\n",
       "      <th>hidden_layers</th>\n",
       "    </tr>\n",
       "  </thead>\n",
       "  <tbody>\n",
       "    <tr>\n",
       "      <th>14</th>\n",
       "      <td>1</td>\n",
       "      <td>0</td>\n",
       "      <td>ratings</td>\n",
       "      <td>jaccard</td>\n",
       "      <td>0.028814</td>\n",
       "      <td>0.093968</td>\n",
       "      <td>0.074791</td>\n",
       "      <td>0.083259</td>\n",
       "      <td>0.465776</td>\n",
       "      <td>16</td>\n",
       "      <td>[64, 32, 16]</td>\n",
       "    </tr>\n",
       "  </tbody>\n",
       "</table>\n",
       "</div>"
      ],
      "text/plain": [
       "    iteration  k split_type distance_metric    map@10   ndcg@10  precision@10  \\\n",
       "14          1  0    ratings         jaccard  0.028814  0.093968      0.074791   \n",
       "\n",
       "    recall@10     hr@10  num_factors hidden_layers  \n",
       "14   0.083259  0.465776           16  [64, 32, 16]  "
      ]
     },
     "metadata": {},
     "output_type": "display_data"
    },
    {
     "name": "stdout",
     "output_type": "stream",
     "text": [
      "Already have results for [32, 16, 8, 4] | num_factors=16\n"
     ]
    },
    {
     "data": {
      "text/html": [
       "<div>\n",
       "<style scoped>\n",
       "    .dataframe tbody tr th:only-of-type {\n",
       "        vertical-align: middle;\n",
       "    }\n",
       "\n",
       "    .dataframe tbody tr th {\n",
       "        vertical-align: top;\n",
       "    }\n",
       "\n",
       "    .dataframe thead th {\n",
       "        text-align: right;\n",
       "    }\n",
       "</style>\n",
       "<table border=\"1\" class=\"dataframe\">\n",
       "  <thead>\n",
       "    <tr style=\"text-align: right;\">\n",
       "      <th></th>\n",
       "      <th>iteration</th>\n",
       "      <th>k</th>\n",
       "      <th>split_type</th>\n",
       "      <th>distance_metric</th>\n",
       "      <th>map@10</th>\n",
       "      <th>ndcg@10</th>\n",
       "      <th>precision@10</th>\n",
       "      <th>recall@10</th>\n",
       "      <th>hr@10</th>\n",
       "      <th>num_factors</th>\n",
       "      <th>hidden_layers</th>\n",
       "    </tr>\n",
       "  </thead>\n",
       "  <tbody>\n",
       "    <tr>\n",
       "      <th>15</th>\n",
       "      <td>1</td>\n",
       "      <td>0</td>\n",
       "      <td>ratings</td>\n",
       "      <td>jaccard</td>\n",
       "      <td>0.032208</td>\n",
       "      <td>0.094592</td>\n",
       "      <td>0.070785</td>\n",
       "      <td>0.082546</td>\n",
       "      <td>0.440735</td>\n",
       "      <td>16</td>\n",
       "      <td>[32, 16, 8, 4]</td>\n",
       "    </tr>\n",
       "  </tbody>\n",
       "</table>\n",
       "</div>"
      ],
      "text/plain": [
       "    iteration  k split_type distance_metric    map@10   ndcg@10  precision@10  \\\n",
       "15          1  0    ratings         jaccard  0.032208  0.094592      0.070785   \n",
       "\n",
       "    recall@10     hr@10  num_factors   hidden_layers  \n",
       "15   0.082546  0.440735           16  [32, 16, 8, 4]  "
      ]
     },
     "metadata": {},
     "output_type": "display_data"
    },
    {
     "name": "stdout",
     "output_type": "stream",
     "text": [
      "Already have results for [64, 32, 16, 8] | num_factors=16\n"
     ]
    },
    {
     "data": {
      "text/html": [
       "<div>\n",
       "<style scoped>\n",
       "    .dataframe tbody tr th:only-of-type {\n",
       "        vertical-align: middle;\n",
       "    }\n",
       "\n",
       "    .dataframe tbody tr th {\n",
       "        vertical-align: top;\n",
       "    }\n",
       "\n",
       "    .dataframe thead th {\n",
       "        text-align: right;\n",
       "    }\n",
       "</style>\n",
       "<table border=\"1\" class=\"dataframe\">\n",
       "  <thead>\n",
       "    <tr style=\"text-align: right;\">\n",
       "      <th></th>\n",
       "      <th>iteration</th>\n",
       "      <th>k</th>\n",
       "      <th>split_type</th>\n",
       "      <th>distance_metric</th>\n",
       "      <th>map@10</th>\n",
       "      <th>ndcg@10</th>\n",
       "      <th>precision@10</th>\n",
       "      <th>recall@10</th>\n",
       "      <th>hr@10</th>\n",
       "      <th>num_factors</th>\n",
       "      <th>hidden_layers</th>\n",
       "    </tr>\n",
       "  </thead>\n",
       "  <tbody>\n",
       "    <tr>\n",
       "      <th>16</th>\n",
       "      <td>1</td>\n",
       "      <td>0</td>\n",
       "      <td>ratings</td>\n",
       "      <td>jaccard</td>\n",
       "      <td>0.029648</td>\n",
       "      <td>0.091412</td>\n",
       "      <td>0.071452</td>\n",
       "      <td>0.078104</td>\n",
       "      <td>0.434057</td>\n",
       "      <td>16</td>\n",
       "      <td>[64, 32, 16, 8]</td>\n",
       "    </tr>\n",
       "  </tbody>\n",
       "</table>\n",
       "</div>"
      ],
      "text/plain": [
       "    iteration  k split_type distance_metric    map@10   ndcg@10  precision@10  \\\n",
       "16          1  0    ratings         jaccard  0.029648  0.091412      0.071452   \n",
       "\n",
       "    recall@10     hr@10  num_factors    hidden_layers  \n",
       "16   0.078104  0.434057           16  [64, 32, 16, 8]  "
      ]
     },
     "metadata": {},
     "output_type": "display_data"
    },
    {
     "name": "stdout",
     "output_type": "stream",
     "text": [
      "Already have results for [128, 64, 32, 16] | num_factors=16\n"
     ]
    },
    {
     "data": {
      "text/html": [
       "<div>\n",
       "<style scoped>\n",
       "    .dataframe tbody tr th:only-of-type {\n",
       "        vertical-align: middle;\n",
       "    }\n",
       "\n",
       "    .dataframe tbody tr th {\n",
       "        vertical-align: top;\n",
       "    }\n",
       "\n",
       "    .dataframe thead th {\n",
       "        text-align: right;\n",
       "    }\n",
       "</style>\n",
       "<table border=\"1\" class=\"dataframe\">\n",
       "  <thead>\n",
       "    <tr style=\"text-align: right;\">\n",
       "      <th></th>\n",
       "      <th>iteration</th>\n",
       "      <th>k</th>\n",
       "      <th>split_type</th>\n",
       "      <th>distance_metric</th>\n",
       "      <th>map@10</th>\n",
       "      <th>ndcg@10</th>\n",
       "      <th>precision@10</th>\n",
       "      <th>recall@10</th>\n",
       "      <th>hr@10</th>\n",
       "      <th>num_factors</th>\n",
       "      <th>hidden_layers</th>\n",
       "    </tr>\n",
       "  </thead>\n",
       "  <tbody>\n",
       "    <tr>\n",
       "      <th>17</th>\n",
       "      <td>1</td>\n",
       "      <td>0</td>\n",
       "      <td>ratings</td>\n",
       "      <td>jaccard</td>\n",
       "      <td>0.029005</td>\n",
       "      <td>0.09615</td>\n",
       "      <td>0.075793</td>\n",
       "      <td>0.087648</td>\n",
       "      <td>0.464107</td>\n",
       "      <td>16</td>\n",
       "      <td>[128, 64, 32, 16]</td>\n",
       "    </tr>\n",
       "  </tbody>\n",
       "</table>\n",
       "</div>"
      ],
      "text/plain": [
       "    iteration  k split_type distance_metric    map@10  ndcg@10  precision@10  \\\n",
       "17          1  0    ratings         jaccard  0.029005  0.09615      0.075793   \n",
       "\n",
       "    recall@10     hr@10  num_factors      hidden_layers  \n",
       "17   0.087648  0.464107           16  [128, 64, 32, 16]  "
      ]
     },
     "metadata": {},
     "output_type": "display_data"
    },
    {
     "name": "stderr",
     "output_type": "stream",
     "text": [
      "/home/fastuser/msft/recommenders/reco_utils/recommender/ncf/dataset.py:218: UserWarning: n_neg_test is larger than negative items set size! We will set n_neg as the smallest size: 0\n",
      "  % min_num\n"
     ]
    },
    {
     "name": "stdout",
     "output_type": "stream",
     "text": [
      "Already have results for [16, 8, 4] | num_factors=4\n"
     ]
    },
    {
     "data": {
      "text/html": [
       "<div>\n",
       "<style scoped>\n",
       "    .dataframe tbody tr th:only-of-type {\n",
       "        vertical-align: middle;\n",
       "    }\n",
       "\n",
       "    .dataframe tbody tr th {\n",
       "        vertical-align: top;\n",
       "    }\n",
       "\n",
       "    .dataframe thead th {\n",
       "        text-align: right;\n",
       "    }\n",
       "</style>\n",
       "<table border=\"1\" class=\"dataframe\">\n",
       "  <thead>\n",
       "    <tr style=\"text-align: right;\">\n",
       "      <th></th>\n",
       "      <th>iteration</th>\n",
       "      <th>k</th>\n",
       "      <th>split_type</th>\n",
       "      <th>distance_metric</th>\n",
       "      <th>map@10</th>\n",
       "      <th>ndcg@10</th>\n",
       "      <th>precision@10</th>\n",
       "      <th>recall@10</th>\n",
       "      <th>hr@10</th>\n",
       "      <th>num_factors</th>\n",
       "      <th>hidden_layers</th>\n",
       "    </tr>\n",
       "  </thead>\n",
       "  <tbody>\n",
       "    <tr>\n",
       "      <th>0</th>\n",
       "      <td>1</td>\n",
       "      <td>0</td>\n",
       "      <td>users</td>\n",
       "      <td>jaccard</td>\n",
       "      <td>0.010458</td>\n",
       "      <td>0.203583</td>\n",
       "      <td>0.191803</td>\n",
       "      <td>0.020442</td>\n",
       "      <td>0.672131</td>\n",
       "      <td>4</td>\n",
       "      <td>[16, 8, 4]</td>\n",
       "    </tr>\n",
       "  </tbody>\n",
       "</table>\n",
       "</div>"
      ],
      "text/plain": [
       "   iteration  k split_type distance_metric    map@10   ndcg@10  precision@10  \\\n",
       "0          1  0      users         jaccard  0.010458  0.203583      0.191803   \n",
       "\n",
       "   recall@10     hr@10  num_factors hidden_layers  \n",
       "0   0.020442  0.672131            4    [16, 8, 4]  "
      ]
     },
     "metadata": {},
     "output_type": "display_data"
    },
    {
     "name": "stdout",
     "output_type": "stream",
     "text": [
      "Already have results for [32, 16, 8] | num_factors=4\n"
     ]
    },
    {
     "data": {
      "text/html": [
       "<div>\n",
       "<style scoped>\n",
       "    .dataframe tbody tr th:only-of-type {\n",
       "        vertical-align: middle;\n",
       "    }\n",
       "\n",
       "    .dataframe tbody tr th {\n",
       "        vertical-align: top;\n",
       "    }\n",
       "\n",
       "    .dataframe thead th {\n",
       "        text-align: right;\n",
       "    }\n",
       "</style>\n",
       "<table border=\"1\" class=\"dataframe\">\n",
       "  <thead>\n",
       "    <tr style=\"text-align: right;\">\n",
       "      <th></th>\n",
       "      <th>iteration</th>\n",
       "      <th>k</th>\n",
       "      <th>split_type</th>\n",
       "      <th>distance_metric</th>\n",
       "      <th>map@10</th>\n",
       "      <th>ndcg@10</th>\n",
       "      <th>precision@10</th>\n",
       "      <th>recall@10</th>\n",
       "      <th>hr@10</th>\n",
       "      <th>num_factors</th>\n",
       "      <th>hidden_layers</th>\n",
       "    </tr>\n",
       "  </thead>\n",
       "  <tbody>\n",
       "    <tr>\n",
       "      <th>1</th>\n",
       "      <td>1</td>\n",
       "      <td>0</td>\n",
       "      <td>users</td>\n",
       "      <td>jaccard</td>\n",
       "      <td>0.005245</td>\n",
       "      <td>0.134338</td>\n",
       "      <td>0.12623</td>\n",
       "      <td>0.012661</td>\n",
       "      <td>0.491803</td>\n",
       "      <td>4</td>\n",
       "      <td>[32, 16, 8]</td>\n",
       "    </tr>\n",
       "  </tbody>\n",
       "</table>\n",
       "</div>"
      ],
      "text/plain": [
       "   iteration  k split_type distance_metric    map@10   ndcg@10  precision@10  \\\n",
       "1          1  0      users         jaccard  0.005245  0.134338       0.12623   \n",
       "\n",
       "   recall@10     hr@10  num_factors hidden_layers  \n",
       "1   0.012661  0.491803            4   [32, 16, 8]  "
      ]
     },
     "metadata": {},
     "output_type": "display_data"
    },
    {
     "name": "stdout",
     "output_type": "stream",
     "text": [
      "Already have results for [64, 32, 16] | num_factors=4\n"
     ]
    },
    {
     "data": {
      "text/html": [
       "<div>\n",
       "<style scoped>\n",
       "    .dataframe tbody tr th:only-of-type {\n",
       "        vertical-align: middle;\n",
       "    }\n",
       "\n",
       "    .dataframe tbody tr th {\n",
       "        vertical-align: top;\n",
       "    }\n",
       "\n",
       "    .dataframe thead th {\n",
       "        text-align: right;\n",
       "    }\n",
       "</style>\n",
       "<table border=\"1\" class=\"dataframe\">\n",
       "  <thead>\n",
       "    <tr style=\"text-align: right;\">\n",
       "      <th></th>\n",
       "      <th>iteration</th>\n",
       "      <th>k</th>\n",
       "      <th>split_type</th>\n",
       "      <th>distance_metric</th>\n",
       "      <th>map@10</th>\n",
       "      <th>ndcg@10</th>\n",
       "      <th>precision@10</th>\n",
       "      <th>recall@10</th>\n",
       "      <th>hr@10</th>\n",
       "      <th>num_factors</th>\n",
       "      <th>hidden_layers</th>\n",
       "    </tr>\n",
       "  </thead>\n",
       "  <tbody>\n",
       "    <tr>\n",
       "      <th>2</th>\n",
       "      <td>1</td>\n",
       "      <td>0</td>\n",
       "      <td>users</td>\n",
       "      <td>jaccard</td>\n",
       "      <td>0.003275</td>\n",
       "      <td>0.085025</td>\n",
       "      <td>0.096721</td>\n",
       "      <td>0.009264</td>\n",
       "      <td>0.393443</td>\n",
       "      <td>4</td>\n",
       "      <td>[64, 32, 16]</td>\n",
       "    </tr>\n",
       "  </tbody>\n",
       "</table>\n",
       "</div>"
      ],
      "text/plain": [
       "   iteration  k split_type distance_metric    map@10   ndcg@10  precision@10  \\\n",
       "2          1  0      users         jaccard  0.003275  0.085025      0.096721   \n",
       "\n",
       "   recall@10     hr@10  num_factors hidden_layers  \n",
       "2   0.009264  0.393443            4  [64, 32, 16]  "
      ]
     },
     "metadata": {},
     "output_type": "display_data"
    },
    {
     "data": {
      "application/vnd.jupyter.widget-view+json": {
       "model_id": "869d6f768012464f9722cf57b2bb3654",
       "version_major": 2,
       "version_minor": 0
      },
      "text/plain": [
       "Training NeuMF Epochs:   0%|          | 0/30 [00:00<?, ?it/s]"
      ]
     },
     "metadata": {},
     "output_type": "display_data"
    },
    {
     "name": "stdout",
     "output_type": "stream",
     "text": [
      "Took 303.7882 seconds for training.\n",
      "Took 8.7640 seconds for prediction.\n"
     ]
    },
    {
     "data": {
      "application/vnd.jupyter.widget-view+json": {
       "model_id": "364d67fe437b43c98418011134a9a69d",
       "version_major": 2,
       "version_minor": 0
      },
      "text/plain": [
       "  0%|          | 0/610 [00:00<?, ?it/s]"
      ]
     },
     "metadata": {},
     "output_type": "display_data"
    },
    {
     "name": "stdout",
     "output_type": "stream",
     "text": [
      "MAP:\t0.006180\n",
      "NDCG:\t0.133256\n",
      "Precision@K:\t0.140984\n",
      "Recall@K:\t0.014504\n",
      "HR@K:\t0.459016\n"
     ]
    },
    {
     "data": {
      "application/vnd.jupyter.widget-view+json": {
       "model_id": "8b77f5b1f8b344eba71ebfb0ded254de",
       "version_major": 2,
       "version_minor": 0
      },
      "text/plain": [
       "Training NeuMF Epochs:   0%|          | 0/30 [00:00<?, ?it/s]"
      ]
     },
     "metadata": {},
     "output_type": "display_data"
    },
    {
     "name": "stdout",
     "output_type": "stream",
     "text": [
      "Took 303.5973 seconds for training.\n",
      "Took 8.8520 seconds for prediction.\n"
     ]
    },
    {
     "data": {
      "application/vnd.jupyter.widget-view+json": {
       "model_id": "43a70f28d689480f9405be425d8c578c",
       "version_major": 2,
       "version_minor": 0
      },
      "text/plain": [
       "  0%|          | 0/610 [00:00<?, ?it/s]"
      ]
     },
     "metadata": {},
     "output_type": "display_data"
    },
    {
     "name": "stdout",
     "output_type": "stream",
     "text": [
      "MAP:\t0.005362\n",
      "NDCG:\t0.128055\n",
      "Precision@K:\t0.131148\n",
      "Recall@K:\t0.011103\n",
      "HR@K:\t0.409836\n"
     ]
    },
    {
     "data": {
      "application/vnd.jupyter.widget-view+json": {
       "model_id": "518fc7b8b9584520bee8da808da107fb",
       "version_major": 2,
       "version_minor": 0
      },
      "text/plain": [
       "Training NeuMF Epochs:   0%|          | 0/30 [00:00<?, ?it/s]"
      ]
     },
     "metadata": {},
     "output_type": "display_data"
    },
    {
     "name": "stdout",
     "output_type": "stream",
     "text": [
      "Took 310.9272 seconds for training.\n",
      "Took 9.0618 seconds for prediction.\n"
     ]
    },
    {
     "data": {
      "application/vnd.jupyter.widget-view+json": {
       "model_id": "a13bed85e6f0405c99148a6d4a31a99b",
       "version_major": 2,
       "version_minor": 0
      },
      "text/plain": [
       "  0%|          | 0/610 [00:00<?, ?it/s]"
      ]
     },
     "metadata": {},
     "output_type": "display_data"
    },
    {
     "name": "stdout",
     "output_type": "stream",
     "text": [
      "MAP:\t0.002194\n",
      "NDCG:\t0.064814\n",
      "Precision@K:\t0.073770\n",
      "Recall@K:\t0.007995\n",
      "HR@K:\t0.344262\n"
     ]
    },
    {
     "data": {
      "application/vnd.jupyter.widget-view+json": {
       "model_id": "eb9667bf76744b6493f59d5c3317d601",
       "version_major": 2,
       "version_minor": 0
      },
      "text/plain": [
       "Training NeuMF Epochs:   0%|          | 0/30 [00:00<?, ?it/s]"
      ]
     },
     "metadata": {},
     "output_type": "display_data"
    },
    {
     "name": "stdout",
     "output_type": "stream",
     "text": [
      "Took 289.3633 seconds for training.\n",
      "Took 8.5628 seconds for prediction.\n"
     ]
    },
    {
     "data": {
      "application/vnd.jupyter.widget-view+json": {
       "model_id": "23c8ea0462e1491891673bd3de5d51f4",
       "version_major": 2,
       "version_minor": 0
      },
      "text/plain": [
       "  0%|          | 0/610 [00:00<?, ?it/s]"
      ]
     },
     "metadata": {},
     "output_type": "display_data"
    },
    {
     "name": "stdout",
     "output_type": "stream",
     "text": [
      "MAP:\t0.010182\n",
      "NDCG:\t0.163914\n",
      "Precision@K:\t0.155738\n",
      "Recall@K:\t0.020518\n",
      "HR@K:\t0.573770\n"
     ]
    },
    {
     "data": {
      "application/vnd.jupyter.widget-view+json": {
       "model_id": "a31db9cee1364a9b972cce90523126b1",
       "version_major": 2,
       "version_minor": 0
      },
      "text/plain": [
       "Training NeuMF Epochs:   0%|          | 0/30 [00:00<?, ?it/s]"
      ]
     },
     "metadata": {},
     "output_type": "display_data"
    },
    {
     "name": "stdout",
     "output_type": "stream",
     "text": [
      "Took 295.1464 seconds for training.\n",
      "Took 8.7139 seconds for prediction.\n"
     ]
    },
    {
     "data": {
      "application/vnd.jupyter.widget-view+json": {
       "model_id": "e7dd2e69659840bc8ef81e3cc2c772c4",
       "version_major": 2,
       "version_minor": 0
      },
      "text/plain": [
       "  0%|          | 0/610 [00:00<?, ?it/s]"
      ]
     },
     "metadata": {},
     "output_type": "display_data"
    },
    {
     "name": "stdout",
     "output_type": "stream",
     "text": [
      "MAP:\t0.007399\n",
      "NDCG:\t0.116433\n",
      "Precision@K:\t0.119672\n",
      "Recall@K:\t0.016463\n",
      "HR@K:\t0.524590\n"
     ]
    },
    {
     "data": {
      "application/vnd.jupyter.widget-view+json": {
       "model_id": "56a2a688e7f84f23a3de6f2954704690",
       "version_major": 2,
       "version_minor": 0
      },
      "text/plain": [
       "Training NeuMF Epochs:   0%|          | 0/30 [00:00<?, ?it/s]"
      ]
     },
     "metadata": {},
     "output_type": "display_data"
    },
    {
     "name": "stdout",
     "output_type": "stream",
     "text": [
      "Took 293.4897 seconds for training.\n",
      "Took 8.7332 seconds for prediction.\n"
     ]
    },
    {
     "data": {
      "application/vnd.jupyter.widget-view+json": {
       "model_id": "356cab6100b440c6a3fc4a7f5e714ed8",
       "version_major": 2,
       "version_minor": 0
      },
      "text/plain": [
       "  0%|          | 0/610 [00:00<?, ?it/s]"
      ]
     },
     "metadata": {},
     "output_type": "display_data"
    },
    {
     "name": "stdout",
     "output_type": "stream",
     "text": [
      "MAP:\t0.008955\n",
      "NDCG:\t0.166861\n",
      "Precision@K:\t0.168852\n",
      "Recall@K:\t0.020826\n",
      "HR@K:\t0.557377\n"
     ]
    },
    {
     "data": {
      "application/vnd.jupyter.widget-view+json": {
       "model_id": "3777230e16844e998075290e6937824a",
       "version_major": 2,
       "version_minor": 0
      },
      "text/plain": [
       "Training NeuMF Epochs:   0%|          | 0/30 [00:00<?, ?it/s]"
      ]
     },
     "metadata": {},
     "output_type": "display_data"
    },
    {
     "name": "stdout",
     "output_type": "stream",
     "text": [
      "Took 298.6383 seconds for training.\n",
      "Took 8.6888 seconds for prediction.\n"
     ]
    },
    {
     "data": {
      "application/vnd.jupyter.widget-view+json": {
       "model_id": "9dd33d8fa954487e9de2339995d293bc",
       "version_major": 2,
       "version_minor": 0
      },
      "text/plain": [
       "  0%|          | 0/610 [00:00<?, ?it/s]"
      ]
     },
     "metadata": {},
     "output_type": "display_data"
    },
    {
     "name": "stdout",
     "output_type": "stream",
     "text": [
      "MAP:\t0.005349\n",
      "NDCG:\t0.123881\n",
      "Precision@K:\t0.122951\n",
      "Recall@K:\t0.013189\n",
      "HR@K:\t0.524590\n"
     ]
    },
    {
     "data": {
      "application/vnd.jupyter.widget-view+json": {
       "model_id": "be7b17e24cc44b45841ad0f37b1c06c7",
       "version_major": 2,
       "version_minor": 0
      },
      "text/plain": [
       "Training NeuMF Epochs:   0%|          | 0/30 [00:00<?, ?it/s]"
      ]
     },
     "metadata": {},
     "output_type": "display_data"
    },
    {
     "name": "stdout",
     "output_type": "stream",
     "text": [
      "Took 302.5008 seconds for training.\n",
      "Took 8.7904 seconds for prediction.\n"
     ]
    },
    {
     "data": {
      "application/vnd.jupyter.widget-view+json": {
       "model_id": "18c1e82b12ec4ebe92657441e30595d8",
       "version_major": 2,
       "version_minor": 0
      },
      "text/plain": [
       "  0%|          | 0/610 [00:00<?, ?it/s]"
      ]
     },
     "metadata": {},
     "output_type": "display_data"
    },
    {
     "name": "stdout",
     "output_type": "stream",
     "text": [
      "MAP:\t0.004655\n",
      "NDCG:\t0.104374\n",
      "Precision@K:\t0.108197\n",
      "Recall@K:\t0.011081\n",
      "HR@K:\t0.491803\n"
     ]
    },
    {
     "data": {
      "application/vnd.jupyter.widget-view+json": {
       "model_id": "072bd016604849178d61ea918c0e2fc3",
       "version_major": 2,
       "version_minor": 0
      },
      "text/plain": [
       "Training NeuMF Epochs:   0%|          | 0/30 [00:00<?, ?it/s]"
      ]
     },
     "metadata": {},
     "output_type": "display_data"
    },
    {
     "name": "stdout",
     "output_type": "stream",
     "text": [
      "Took 309.0234 seconds for training.\n",
      "Took 8.8757 seconds for prediction.\n"
     ]
    },
    {
     "data": {
      "application/vnd.jupyter.widget-view+json": {
       "model_id": "4964d585f25045b18dbf8ac6e991a03f",
       "version_major": 2,
       "version_minor": 0
      },
      "text/plain": [
       "  0%|          | 0/610 [00:00<?, ?it/s]"
      ]
     },
     "metadata": {},
     "output_type": "display_data"
    },
    {
     "name": "stdout",
     "output_type": "stream",
     "text": [
      "MAP:\t0.005575\n",
      "NDCG:\t0.115430\n",
      "Precision@K:\t0.116393\n",
      "Recall@K:\t0.013425\n",
      "HR@K:\t0.491803\n"
     ]
    },
    {
     "data": {
      "application/vnd.jupyter.widget-view+json": {
       "model_id": "6ac7eed089c642a2a129615681d0f32e",
       "version_major": 2,
       "version_minor": 0
      },
      "text/plain": [
       "Training NeuMF Epochs:   0%|          | 0/30 [00:00<?, ?it/s]"
      ]
     },
     "metadata": {},
     "output_type": "display_data"
    },
    {
     "name": "stdout",
     "output_type": "stream",
     "text": [
      "Took 292.3298 seconds for training.\n",
      "Took 8.6653 seconds for prediction.\n"
     ]
    },
    {
     "data": {
      "application/vnd.jupyter.widget-view+json": {
       "model_id": "2b7c81c75c544c1291c4bb700721d815",
       "version_major": 2,
       "version_minor": 0
      },
      "text/plain": [
       "  0%|          | 0/610 [00:00<?, ?it/s]"
      ]
     },
     "metadata": {},
     "output_type": "display_data"
    },
    {
     "name": "stdout",
     "output_type": "stream",
     "text": [
      "MAP:\t0.010513\n",
      "NDCG:\t0.135245\n",
      "Precision@K:\t0.134426\n",
      "Recall@K:\t0.017466\n",
      "HR@K:\t0.508197\n"
     ]
    },
    {
     "data": {
      "application/vnd.jupyter.widget-view+json": {
       "model_id": "1a5ed8ed584946bda5334d68049b1beb",
       "version_major": 2,
       "version_minor": 0
      },
      "text/plain": [
       "Training NeuMF Epochs:   0%|          | 0/30 [00:00<?, ?it/s]"
      ]
     },
     "metadata": {},
     "output_type": "display_data"
    },
    {
     "name": "stdout",
     "output_type": "stream",
     "text": [
      "Took 291.1830 seconds for training.\n",
      "Took 8.9016 seconds for prediction.\n"
     ]
    },
    {
     "data": {
      "application/vnd.jupyter.widget-view+json": {
       "model_id": "d7db315455c5439c8263efd31070c551",
       "version_major": 2,
       "version_minor": 0
      },
      "text/plain": [
       "  0%|          | 0/610 [00:00<?, ?it/s]"
      ]
     },
     "metadata": {},
     "output_type": "display_data"
    },
    {
     "name": "stdout",
     "output_type": "stream",
     "text": [
      "MAP:\t0.004143\n",
      "NDCG:\t0.109323\n",
      "Precision@K:\t0.101639\n",
      "Recall@K:\t0.009612\n",
      "HR@K:\t0.442623\n"
     ]
    },
    {
     "data": {
      "application/vnd.jupyter.widget-view+json": {
       "model_id": "a74152b021aa4ba8884203984560a1ea",
       "version_major": 2,
       "version_minor": 0
      },
      "text/plain": [
       "Training NeuMF Epochs:   0%|          | 0/30 [00:00<?, ?it/s]"
      ]
     },
     "metadata": {},
     "output_type": "display_data"
    },
    {
     "name": "stdout",
     "output_type": "stream",
     "text": [
      "Took 292.6480 seconds for training.\n",
      "Took 8.9483 seconds for prediction.\n"
     ]
    },
    {
     "data": {
      "application/vnd.jupyter.widget-view+json": {
       "model_id": "e825cc925800458eb0d9c56b2efb8e8d",
       "version_major": 2,
       "version_minor": 0
      },
      "text/plain": [
       "  0%|          | 0/610 [00:00<?, ?it/s]"
      ]
     },
     "metadata": {},
     "output_type": "display_data"
    },
    {
     "name": "stdout",
     "output_type": "stream",
     "text": [
      "MAP:\t0.004844\n",
      "NDCG:\t0.110530\n",
      "Precision@K:\t0.111475\n",
      "Recall@K:\t0.011873\n",
      "HR@K:\t0.475410\n"
     ]
    },
    {
     "data": {
      "application/vnd.jupyter.widget-view+json": {
       "model_id": "60982fca543f40e4be0dcfdf59baba78",
       "version_major": 2,
       "version_minor": 0
      },
      "text/plain": [
       "Training NeuMF Epochs:   0%|          | 0/30 [00:00<?, ?it/s]"
      ]
     },
     "metadata": {},
     "output_type": "display_data"
    },
    {
     "name": "stdout",
     "output_type": "stream",
     "text": [
      "Took 297.1484 seconds for training.\n",
      "Took 8.8157 seconds for prediction.\n"
     ]
    },
    {
     "data": {
      "application/vnd.jupyter.widget-view+json": {
       "model_id": "f62e204d3dae416d852116faa4f87718",
       "version_major": 2,
       "version_minor": 0
      },
      "text/plain": [
       "  0%|          | 0/610 [00:00<?, ?it/s]"
      ]
     },
     "metadata": {},
     "output_type": "display_data"
    },
    {
     "name": "stdout",
     "output_type": "stream",
     "text": [
      "MAP:\t0.006152\n",
      "NDCG:\t0.123391\n",
      "Precision@K:\t0.129508\n",
      "Recall@K:\t0.011352\n",
      "HR@K:\t0.426230\n"
     ]
    },
    {
     "data": {
      "application/vnd.jupyter.widget-view+json": {
       "model_id": "5dad0d7ab3a24150be2c705fbb501d66",
       "version_major": 2,
       "version_minor": 0
      },
      "text/plain": [
       "Training NeuMF Epochs:   0%|          | 0/30 [00:00<?, ?it/s]"
      ]
     },
     "metadata": {},
     "output_type": "display_data"
    }
   ],
   "source": [
    "\n",
    "\n",
    "params_to_search = []\n",
    "hidden_layers = [\\\n",
    "    [16,8,4],\\\n",
    "    [32,16,8],\\\n",
    "    [64,32,16],\\\n",
    "    [32,16,8,4],\\\n",
    "    [64,32,16,8],\\\n",
    "    [128,64,32,16],\\\n",
    "]\n",
    "factors = [4,8,16]\n",
    "def search_for_best_model(hidden_layers, factors, split_type, iteration, k, out_file, rerun=False):\n",
    "    for num_factors in factors:\n",
    "        for hidden_layer in hidden_layers:\n",
    "            params_to_search.append(Params(hidden_layer, num_factors))\n",
    "    data, train,test = get_dataset(split_type, iteration, k)\n",
    "    model = None\n",
    "    best_ndcg = 0.0\n",
    "    best_params = None\n",
    "    results = pd.DataFrame(columns=['iteration', 'k', 'split_type', 'distance_metric', 'map@10', 'ndcg@10', 'precision@10', 'recall@10', 'hr@10', 'num_factors','hidden_layers'])\n",
    "    if os.path.exists(out_file):\n",
    "        results = pd.read_csv(out_file)\n",
    "    for params in params_to_search:\n",
    "        if (len(results[(results['num_factors'] == params.num_factors) & (results['hidden_layers'] == str(params.hidden_layers))]) > 0) and not rerun:\n",
    "            print(f\"Already have results for {params}\")\n",
    "            display(results[(results['num_factors'] == params.num_factors) & (results['hidden_layers'] == str(params.hidden_layers))])\n",
    "            continue\n",
    "        model = get_new_model(data, n_factors=params.num_factors, layer_sizes=params.hidden_layers)\n",
    "        with Timer() as train_time:\n",
    "            model.fit(data)\n",
    "        print(\"Took {} seconds for training.\".format(train_time))\n",
    "        predictions = predict(model, train)\n",
    "        user_predictions = get_recommendations_per_user(predictions, split_type,  iteration, k, 'jaccard')\n",
    "        predictions.reset_index(inplace=True)\n",
    "        meanap, ndcg, precision, recall, hr = evaluate(user_predictions, split_type,  iteration, 10, data_eval='validation')\n",
    "        result = {'iteration':iteration ,\\\n",
    "                  'k':k,\\\n",
    "                  'split_type':split_type,\\\n",
    "                  'distance_metric':'jaccard',\\\n",
    "                  'map@10':meanap,\\\n",
    "                  'ndcg@10':ndcg,\\\n",
    "                  'precision@10':precision,\\\n",
    "                  'recall@10':recall,\\\n",
    "                  'hr@10':hr,\\\n",
    "                  'num_factors':params.num_factors,\\\n",
    "                  'hidden_layers':str(params.hidden_layers)}\n",
    "        results = results.append([result])\n",
    "        results.to_csv(out_file, index=False)\n",
    "        if ndcg > best_ndcg:\n",
    "            best_model = model\n",
    "            best_ndcg = ndcg\n",
    "            best_params = params\n",
    "    return  best_params, results\n",
    "\n",
    "best_params_ratings, results_ratings = search_for_best_model(hidden_layers, factors, 'ratings', 1, 0, 'ratings_params_searchv2.csv')\n",
    "best_params_users, results_users = search_for_best_model(hidden_layers, factors, 'users', 1, 0, 'users_params_searchv2.csv')\n",
    "\n",
    "RatingsParamsSaver.save(results_ratings, 'ratings', 1, 0)\n",
    "UsersParamsSaver.save(results_users, 'users', 1, 0)\n",
    "\n",
    "print(f\"best_params_ratings={best_params_ratings}\")\n",
    "display(results_ratings)\n",
    "\n",
    "print(f\"best_params_users={best_params_users}\")\n",
    "display(results_users)"
   ]
  },
  {
   "cell_type": "raw",
   "metadata": {},
   "source": [
    "results_ratings.to_csv(\"ratings_param_search.csv\")\n",
    "results_users.to_csv(\"users_param_search.csv\")"
   ]
  },
  {
   "cell_type": "raw",
   "metadata": {},
   "source": [
    "                split_type = 'ratings'\n",
    "                iteration = 3\n",
    "                k = 15\n",
    "                predictions = ClusterPredictionSaver.load(split_type, iteration, k)\n",
    "                user_predictions = get_recommendations_per_user(predictions, split_type,  iteration, k, 'jaccard')\n",
    "                predictions.reset_index(inplace=True)\n",
    "                meanap, ndcg, precision, recall = evaluate(user_predictions, split_type,  iteration, 10)\n"
   ]
  },
  {
   "cell_type": "raw",
   "metadata": {},
   "source": [
    "        meanap, ndcg, precision, recall = evaluate(user_predictions, split_type,  iteration, 10, data_eval='validation')\n"
   ]
  },
  {
   "cell_type": "code",
   "execution_count": null,
   "metadata": {},
   "outputs": [],
   "source": [
    "#train, test = python_chrono_split(df, 0.75)\n",
    "train = Utility('ratings', iteration=1).get_training_data(0)[0]\n",
    "test=Utility('ratings', iteration=1).get_test_data()\n",
    "test.head(5)"
   ]
  },
  {
   "cell_type": "code",
   "execution_count": null,
   "metadata": {},
   "outputs": [],
   "source": [
    "train.head(5)"
   ]
  },
  {
   "cell_type": "markdown",
   "metadata": {},
   "source": [
    "Generate an NCF dataset object from the data subsets."
   ]
  },
  {
   "cell_type": "code",
   "execution_count": null,
   "metadata": {},
   "outputs": [],
   "source": [
    "data = NCFDataset(train=train, test=test, col_user=COL_NAME_USER_ID, col_item=COL_NAME_MOVIE_ID, col_rating=COL_NAME_RATING, seed=SEED)"
   ]
  },
  {
   "cell_type": "markdown",
   "metadata": {},
   "source": [
    "### 3. Train the NCF model on the training data, and get the top-k recommendations for our testing data\n",
    "\n",
    "NCF accepts implicit feedback and generates prospensity of items to be recommended to users in the scale of 0 to 1. A recommended item list can then be generated based on the scores. Note that this quickstart notebook is using a smaller number of epochs to reduce time for training. As a consequence, the model performance will be slighlty deteriorated. "
   ]
  },
  {
   "cell_type": "code",
   "execution_count": null,
   "metadata": {},
   "outputs": [],
   "source": [
    "model = NCF (\n",
    "    n_users=data.n_users, \n",
    "    n_items=data.n_items,\n",
    "    model_type=\"NeuMF\",\n",
    "    n_factors=4,\n",
    "    layer_sizes=[16,8,4],\n",
    "    n_epochs=EPOCHS,\n",
    "    batch_size=BATCH_SIZE,\n",
    "    learning_rate=1e-3,\n",
    "    verbose=10,\n",
    "    seed=SEED\n",
    ")"
   ]
  },
  {
   "cell_type": "code",
   "execution_count": null,
   "metadata": {},
   "outputs": [],
   "source": [
    "with Timer() as train_time:\n",
    "    model.fit(data)\n",
    "\n",
    "print(\"Took {} seconds for training.\".format(train_time))"
   ]
  },
  {
   "cell_type": "markdown",
   "metadata": {},
   "source": [
    "In the movie recommendation use case scenario, seen movies are not recommended to the users."
   ]
  },
  {
   "cell_type": "code",
   "execution_count": null,
   "metadata": {},
   "outputs": [],
   "source": [
    "import importlib\n",
    "importlib."
   ]
  },
  {
   "cell_type": "code",
   "execution_count": null,
   "metadata": {},
   "outputs": [],
   "source": [
    "with Timer() as test_time:\n",
    "    users, items, preds = [], [], []\n",
    "    item = list(train[COL_NAME_MOVIE_ID].unique())\n",
    "    for user in train[COL_NAME_USER_ID].unique():\n",
    "        user = [user] * len(item) \n",
    "        users.extend(user)\n",
    "        items.extend(item)\n",
    "        preds.extend(list(model.predict(user, item, is_list=True)))\n",
    "\n",
    "    all_predictions = pd.DataFrame(data={COL_NAME_USER_ID: users, COL_NAME_MOVIE_ID:items, \"prediction\":preds})\n",
    "\n",
    "    merged = pd.merge(train, all_predictions, on=[COL_NAME_USER_ID, COL_NAME_MOVIE_ID], how=\"outer\")\n",
    "    all_predictions = merged[merged.rating.isnull()].drop(COL_NAME_RATING, axis=1)\n",
    "\n",
    "print(\"Took {} seconds for prediction.\".format(test_time))"
   ]
  },
  {
   "cell_type": "markdown",
   "metadata": {},
   "source": [
    "### 4. Evaluate how well NCF performs"
   ]
  },
  {
   "cell_type": "markdown",
   "metadata": {},
   "source": [
    "The ranking metrics are used for evaluation."
   ]
  },
  {
   "cell_type": "code",
   "execution_count": null,
   "metadata": {},
   "outputs": [],
   "source": [
    "eval_map = map_at_k(test, all_predictions, col_prediction='prediction', col_user=COL_NAME_USER_ID, col_item=COL_NAME_MOVIE_ID,k=TOP_K)\n",
    "eval_ndcg = ndcg_at_k(test, all_predictions, col_prediction='prediction',col_user=COL_NAME_USER_ID, col_item=COL_NAME_MOVIE_ID, k=TOP_K)\n",
    "eval_precision = precision_at_k(test, all_predictions, col_prediction='prediction', col_user=COL_NAME_USER_ID, col_item=COL_NAME_MOVIE_ID, k=TOP_K)\n",
    "eval_recall = recall_at_k(test, all_predictions, col_prediction='prediction', col_user=COL_NAME_USER_ID, col_item=COL_NAME_MOVIE_ID, k=TOP_K)\n",
    "\n",
    "print(\"MAP:\\t%f\" % eval_map,\n",
    "      \"NDCG:\\t%f\" % eval_ndcg,\n",
    "      \"Precision@K:\\t%f\" % eval_precision,\n",
    "      \"Recall@K:\\t%f\" % eval_recall, sep='\\n')"
   ]
  },
  {
   "cell_type": "code",
   "execution_count": null,
   "metadata": {},
   "outputs": [],
   "source": [
    "with Timer() as test_time:\n",
    "    users, items, preds = [], [], []\n",
    "    item = list(train.itemID.unique())\n",
    "    for user in train.userID.unique():\n",
    "        user = [user] * len(item) \n",
    "        users.extend(user)\n",
    "        items.extend(item)\n",
    "        preds.extend(list(model.predict(user, item, is_list=True)))\n",
    "\n",
    "    all_predictions = pd.DataFrame(data={\"userID\": users, \"itemID\":items, \"prediction\":preds})\n",
    "\n",
    "    merged = pd.merge(train, all_predictions, on=[\"userID\", \"itemID\"], how=\"outer\")\n",
    "    all_predictions = merged[merged.rating.isnull()].drop('rating', axis=1)\n",
    "\n",
    "print(\"Took {} seconds for prediction.\".format(test_time))\n",
    "\n",
    "eval_map = map_at_k(test, all_predictions, col_prediction='prediction', k=TOP_K)\n",
    "eval_ndcg = ndcg_at_k(test, all_predictions, col_prediction='prediction', k=TOP_K)\n",
    "eval_precision = precision_at_k(test, all_predictions, col_prediction='prediction', k=TOP_K)\n",
    "eval_recall = recall_at_k(test, all_predictions, col_prediction='prediction', k=TOP_K)\n",
    "\n",
    "print(\"MAP:\\t%f\" % eval_map,\n",
    "      \"NDCG:\\t%f\" % eval_ndcg,\n",
    "      \"Precision@K:\\t%f\" % eval_precision,\n",
    "      \"Recall@K:\\t%f\" % eval_recall, sep='\\n')"
   ]
  },
  {
   "cell_type": "code",
   "execution_count": null,
   "metadata": {},
   "outputs": [],
   "source": [
    "if is_jupyter():\n",
    "    # Record results with papermill for tests\n",
    "    import papermill as pm\n",
    "    import scrapbook as sb\n",
    "    sb.glue(\"map\", eval_map)\n",
    "    sb.glue(\"ndcg\", eval_ndcg)\n",
    "    sb.glue(\"precision\", eval_precision)\n",
    "    sb.glue(\"recall\", eval_recall)\n",
    "    sb.glue(\"train_time\", train_time.interval)\n",
    "    sb.glue(\"test_time\", test_time.interval)"
   ]
  },
  {
   "cell_type": "code",
   "execution_count": null,
   "metadata": {},
   "outputs": [],
   "source": []
  }
 ],
 "metadata": {
  "celltoolbar": "Tags",
  "kernelspec": {
   "display_name": "Python reco_gpu",
   "language": "python",
   "name": "reco_gpu"
  },
  "language_info": {
   "codemirror_mode": {
    "name": "ipython",
    "version": 3
   },
   "file_extension": ".py",
   "mimetype": "text/x-python",
   "name": "python",
   "nbconvert_exporter": "python",
   "pygments_lexer": "ipython3",
   "version": "3.6.11"
  }
 },
 "nbformat": 4,
 "nbformat_minor": 2
}
